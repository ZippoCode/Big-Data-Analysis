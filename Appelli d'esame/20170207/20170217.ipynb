{
 "cells": [
  {
   "cell_type": "markdown",
   "metadata": {},
   "source": [
    "## Parte 0"
   ]
  },
  {
   "cell_type": "code",
   "execution_count": 1,
   "metadata": {
    "collapsed": true
   },
   "outputs": [],
   "source": [
    "\"\"\"\n",
    "Il datataset new_weather.csv contiene dati che descrivono alcuni indicatori meteorologici di\n",
    "Seattle (temperatura, pressione atmosferica, punto di rugiada, ...). I dati vengono codificati\n",
    "giornalmente e per ogni codifica viene inserito il valore minimo, massimo e la media del valore\n",
    "dell’indicatore. Il dataset presenta poi un campo (“Event”) che evidenzia se in quella data c’è\n",
    "stato un fenomeno atmosferico.\n",
    "Scopo dell’esercizio è predire se in una certa data si è avuto un evento atmosferico\n",
    "indipendentemente dalla sua natura.\n",
    "\"\"\"\n",
    "# Import\n",
    "import numpy as np\n",
    "import pandas as pd\n",
    "import matplotlib.pyplot as plt\n",
    "\n",
    "from sklearn.model_selection import (train_test_split, cross_val_score)\n",
    "from sklearn.naive_bayes import BernoulliNB\n",
    "from sklearn.preprocessing import (LabelEncoder, MinMaxScaler)\n",
    "from sklearn.metrics import (accuracy_score, confusion_matrix)\n",
    "from sklearn.tree import DecisionTreeClassifier\n",
    "from sklearn.feature_selection import (SelectKBest, chi2)"
   ]
  },
  {
   "cell_type": "markdown",
   "metadata": {},
   "source": [
    "## Parte 1"
   ]
  },
  {
   "cell_type": "markdown",
   "metadata": {},
   "source": [
    "### Punto 1.1"
   ]
  },
  {
   "cell_type": "code",
   "execution_count": 2,
   "metadata": {},
   "outputs": [
    {
     "data": {
      "text/plain": [
       "Index(['Date', 'Max_Temperature_F', 'Mean_Temperature_F', 'Min_TemperatureF',\n",
       "       'Max_Dew_Point_F', 'MeanDew_Point_F', 'Min_Dewpoint_F', 'Max_Humidity',\n",
       "       'Mean_Humidity', 'Min_Humidity', 'Max_Sea_Level_Pressure_In',\n",
       "       'Mean_Sea_Level_Pressure_In', 'Min_Sea_Level_Pressure_In',\n",
       "       'Max_Visibility_Miles', 'Mean_Visibility_Miles', 'Min_Visibility_Miles',\n",
       "       'Max_Wind_Speed_MPH', 'Mean_Wind_Speed_MPH', 'Events', 'Month', 'Year',\n",
       "       'Day'],\n",
       "      dtype='object')"
      ]
     },
     "execution_count": 2,
     "metadata": {},
     "output_type": "execute_result"
    }
   ],
   "source": [
    "\"\"\"\n",
    "    Caricare il dataset e denominarlo con una variabile chiamata “dataset”\n",
    "\"\"\"\n",
    "dataset = pd.read_csv('new_weather.csv')\n",
    "dataset.head()\n",
    "dataset.columns"
   ]
  },
  {
   "cell_type": "markdown",
   "metadata": {},
   "source": [
    "### Punto 1.2"
   ]
  },
  {
   "cell_type": "code",
   "execution_count": 3,
   "metadata": {},
   "outputs": [
    {
     "name": "stdout",
     "output_type": "stream",
     "text": [
      "Numero di istanze: 689\n",
      "Numero di 'missing values': 362\n",
      "Il dataset contiene valori 'null': True\n",
      "Primi 5 valori:\n",
      " [[6 'Events']\n",
      " [19 'Events']\n",
      " [25 'Events']\n",
      " [26 'Events']\n",
      " [28 'Events']]\n"
     ]
    },
    {
     "data": {
      "text/plain": [
       "Events\n",
       "Fog                     16\n",
       "Fog , Rain               7\n",
       "Fog-Rain                 6\n",
       "Rain                   287\n",
       "Rain , Snow              1\n",
       "Rain , Thunderstorm      3\n",
       "Rain-Snow                2\n",
       "Rain-Thunderstorm        4\n",
       "Snow                     2\n",
       "dtype: int64"
      ]
     },
     "execution_count": 3,
     "metadata": {},
     "output_type": "execute_result"
    }
   ],
   "source": [
    "\"\"\"\n",
    "    Quante sono le istanze contenute nel dataset? \n",
    "    \n",
    "    Il dataset è completo (cioè per ogni istanza tutti i valori di attributo sono sempre specificati \n",
    "    – non esistono “missing values”)?\n",
    "    \n",
    "    Se esistono indicare quali sono e se l’assenza di questi valori pregiudica la possibilità di\n",
    "    predire quanto richiesto (punti 1).\n",
    "    \n",
    "    Il dataset è bilanciato per quanto riguarda la classe da predire? \n",
    "\"\"\"\n",
    "num_istances = dataset.shape[0]\n",
    "print('Numero di istanze: {}'.format(num_istances))\n",
    "\n",
    "num_columns_NaN = dataset.isnull().sum() # Restituisce il valore di NaN per ogni colonna\n",
    "num_NaN = num_columns_NaN.sum() # Sommo tutti i valori di NaN di ogni colonna\n",
    "print('Numero di \\'missing values\\': {}'.format(num_NaN))\n",
    "\n",
    "bool_NaN = dataset.isnull().values.any()\n",
    "print('Il dataset contiene valori \\'null\\': {}'.format(bool_NaN))\n",
    "\n",
    "idx, idy = np.where(dataset.isnull()) # Restituisce gli indici di riga e di colonna con valori 'NaN'\n",
    "tuple_NaN = np.column_stack([dataset.index[idx], dataset.columns[idy]])\n",
    "print('Primi 5 valori:\\n {}'.format(tuple_NaN[:5, :]))\n",
    "\n",
    "dataset.groupby(['Events']).size()"
   ]
  },
  {
   "cell_type": "markdown",
   "metadata": {},
   "source": [
    "### Punto 1.3"
   ]
  },
  {
   "cell_type": "code",
   "execution_count": 4,
   "metadata": {
    "scrolled": false
   },
   "outputs": [
    {
     "data": {
      "image/png": "[encoded data removed]",
      "text/plain": [
       "<matplotlib.figure.Figure at 0x7f2301e66f60>"
      ]
     },
     "metadata": {},
     "output_type": "display_data"
    }
   ],
   "source": [
    "\"\"\"\n",
    "    Creare un nuovo attributo “Range_Temperature” che misuri l’escursione termica giornaliera.\n",
    "    Si osserva qualcosa di particolare nella distribuzione dei valori?\n",
    "\"\"\"\n",
    "range_temperature = dataset['Max_Temperature_F'] - dataset['Min_TemperatureF']\n",
    "dataset['Range_Temperature'] = range_temperature\n",
    "dataset.head()\n",
    "dataset['Range_Temperature'].plot()\n",
    "plt.show()\n"
   ]
  },
  {
   "cell_type": "markdown",
   "metadata": {},
   "source": [
    "### Punto 1.4"
   ]
  },
  {
   "cell_type": "code",
   "execution_count": 5,
   "metadata": {},
   "outputs": [
    {
     "data": {
      "image/png": "[encoded data removed]",
      "text/plain": [
       "<matplotlib.figure.Figure at 0x7f2301e66940>"
      ]
     },
     "metadata": {},
     "output_type": "display_data"
    }
   ],
   "source": [
    "\"\"\"\n",
    "    Rappresentare in un grafico la temperatura massima e la temperatura minima\n",
    "\"\"\"\n",
    "dataset.plot(x = 'Date', y = ['Max_Temperature_F', 'Min_TemperatureF'])\n",
    "plt.xlabel('Tempo')\n",
    "plt.ylabel('Temperatura')\n",
    "plt.show()"
   ]
  },
  {
   "cell_type": "markdown",
   "metadata": {},
   "source": [
    "### Punto 1.5"
   ]
  },
  {
   "cell_type": "code",
   "execution_count": 6,
   "metadata": {},
   "outputs": [
    {
     "data": {
      "text/html": [
       "<div>\n",
       "<style>\n",
       "    .dataframe thead tr:only-child th {\n",
       "        text-align: right;\n",
       "    }\n",
       "\n",
       "    .dataframe thead th {\n",
       "        text-align: left;\n",
       "    }\n",
       "\n",
       "    .dataframe tbody tr th {\n",
       "        vertical-align: top;\n",
       "    }\n",
       "</style>\n",
       "<table border=\"1\" class=\"dataframe\">\n",
       "  <thead>\n",
       "    <tr style=\"text-align: right;\">\n",
       "      <th>Month</th>\n",
       "      <th>1.0</th>\n",
       "      <th>2.0</th>\n",
       "      <th>3.0</th>\n",
       "      <th>4.0</th>\n",
       "      <th>5.0</th>\n",
       "      <th>6.0</th>\n",
       "      <th>7.0</th>\n",
       "      <th>8.0</th>\n",
       "      <th>9.0</th>\n",
       "      <th>10.0</th>\n",
       "      <th>11.0</th>\n",
       "      <th>12.0</th>\n",
       "    </tr>\n",
       "    <tr>\n",
       "      <th>Year</th>\n",
       "      <th></th>\n",
       "      <th></th>\n",
       "      <th></th>\n",
       "      <th></th>\n",
       "      <th></th>\n",
       "      <th></th>\n",
       "      <th></th>\n",
       "      <th></th>\n",
       "      <th></th>\n",
       "      <th></th>\n",
       "      <th></th>\n",
       "      <th></th>\n",
       "    </tr>\n",
       "  </thead>\n",
       "  <tbody>\n",
       "    <tr>\n",
       "      <th>2015.0</th>\n",
       "      <td>31.0</td>\n",
       "      <td>28.0</td>\n",
       "      <td>31.0</td>\n",
       "      <td>30.0</td>\n",
       "      <td>31.0</td>\n",
       "      <td>30.0</td>\n",
       "      <td>31.0</td>\n",
       "      <td>31.0</td>\n",
       "      <td>30.0</td>\n",
       "      <td>31.0</td>\n",
       "      <td>30.0</td>\n",
       "      <td>31.0</td>\n",
       "    </tr>\n",
       "  </tbody>\n",
       "</table>\n",
       "</div>"
      ],
      "text/plain": [
       "Month   1.0   2.0   3.0   4.0   5.0   6.0   7.0   8.0   9.0   10.0  11.0  12.0\n",
       "Year                                                                          \n",
       "2015.0  31.0  28.0  31.0  30.0  31.0  30.0  31.0  31.0  30.0  31.0  30.0  31.0"
      ]
     },
     "execution_count": 6,
     "metadata": {},
     "output_type": "execute_result"
    }
   ],
   "source": [
    "\"\"\"\n",
    "    Quanti eventi atmosferici accadono nel 2015? Come sono distribuiti per tipologie nei mesi?\n",
    "    Rappresentare con il grafico più opportuno questa distribuzione (punti 2).\n",
    "\"\"\"\n",
    "eventi_atmosferici = dataset.groupby(['Year', 'Month']).size().unstack()\n",
    "eventi_2015 = eventi_atmosferici[eventi_atmosferici.index == 2015.0]\n",
    "eventi_2015"
   ]
  },
  {
   "cell_type": "markdown",
   "metadata": {},
   "source": [
    "## Parte 2 "
   ]
  },
  {
   "cell_type": "markdown",
   "metadata": {},
   "source": [
    "### Punto 2.1"
   ]
  },
  {
   "cell_type": "code",
   "execution_count": 7,
   "metadata": {},
   "outputs": [
    {
     "name": "stdout",
     "output_type": "stream",
     "text": [
      "Valori uguali a 1: 328\n",
      "Valori uguali a 0: 361\n"
     ]
    }
   ],
   "source": [
    "\"\"\"\n",
    "    Scikit-learn utilizza un array numpy per effettuare le proprie predizioni. Gli elementi\n",
    "    dell’array numpy devono essere delle stesso data type numerico. E’ necessario pertanto\n",
    "    trasformare i dati del dataset per renderli utilizzabili con scikit. Creare quindi un nuovo dataset\n",
    "    dal precedente e trasformare i valori del campo “Events” in 1 / 0 a seconda del fatto che si\n",
    "    registri o meno un evento.\n",
    "\"\"\"\n",
    "# Copio il dataset\n",
    "dataset_new = dataset.copy()\n",
    "\n",
    "# Modifico i valori delle colonne 'Day', 'Month' e 'Year'\n",
    "label = LabelEncoder()\n",
    "dataset_new[['Day', 'Month', 'Year', 'Mean_Temperature_F']] = dataset_new[['Day', 'Month', 'Year', 'Mean_Temperature_F']].apply(label.fit_transform)\n",
    "\n",
    "# Soluzione brutta ma efficace\n",
    "dataset_new['Events'] = dataset_new['Events'].fillna(0) # Sostituisco tutti i valori 'nan' con 0\n",
    "# Sostituisco tutti i valori diversi da 0 con 1\n",
    "dataset_new['Events'] = np.where(dataset_new['Events'] == 0, 0, 1)\n",
    "values_01 = dataset_new.groupby(dataset_new['Events']).size()\n",
    "print('Valori uguali a 1: {}'.format(values_01[1]))\n",
    "print('Valori uguali a 0: {}'.format(values_01[0]))"
   ]
  },
  {
   "cell_type": "markdown",
   "metadata": {},
   "source": [
    "### Punto 2.2"
   ]
  },
  {
   "cell_type": "code",
   "execution_count": 8,
   "metadata": {},
   "outputs": [
    {
     "name": "stdout",
     "output_type": "stream",
     "text": [
      "Score BernoulliNB: 0.640\n"
     ]
    }
   ],
   "source": [
    "\"\"\"\n",
    "    Si vuole predire il il fatto che ci sia o meno un evento sulla base degli altri attributi presenti\n",
    "    nel dataset. Dividere il dataset in modo che 2/3 degli elementi siano contenuti in un nuovo\n",
    "    dataset “train” e 1/3 nel dataset “test” (punti 1).\n",
    "    \n",
    "    Valutare l’accuracy ottenuta con il modello BernoulliNB su entrambi i dataset\n",
    "    (from sklearn.naive_bayes import BernoulliNB)\n",
    "\"\"\"\n",
    "X = dataset_new.drop(['Events', 'Date'], axis = 1)\n",
    "Y = dataset_new['Events']\n",
    "\n",
    "test_size = 0.33\n",
    "X_train, X_test, Y_train, Y_test = train_test_split(X, Y, test_size = test_size)\n",
    "\n",
    "# Valutazione\n",
    "model_BNB = BernoulliNB()\n",
    "model_BNB.fit(X_train, Y_train)\n",
    "print('Score BernoulliNB: {:.03f}'.format(model_BNB.score(X_test, Y_test)))"
   ]
  },
  {
   "cell_type": "markdown",
   "metadata": {},
   "source": [
    "### Punto 2.3"
   ]
  },
  {
   "cell_type": "code",
   "execution_count": 9,
   "metadata": {},
   "outputs": [
    {
     "name": "stdout",
     "output_type": "stream",
     "text": [
      "Accuracy tramite score: 0.640\n",
      "Accuracy tramite predizione: 0.640\n"
     ]
    }
   ],
   "source": [
    "\"\"\"\n",
    "    Il valore di accuratezza ottenuto è pari a\n",
    "\"\"\"\n",
    "\n",
    "print('Accuracy tramite score: {:0.3f}'.format(model_BNB.score(X_test, Y_test)))\n",
    "y_pred_BNB = model_BNB.predict(X_test)\n",
    "accuracy_BNB = accuracy_score(Y_test, y_pred_BNB)\n",
    "print('Accuracy tramite predizione: {:0.3f}'.format(accuracy_BNB))"
   ]
  },
  {
   "cell_type": "markdown",
   "metadata": {},
   "source": [
    "### Punto 2.4"
   ]
  },
  {
   "cell_type": "code",
   "execution_count": 10,
   "metadata": {},
   "outputs": [
    {
     "name": "stdout",
     "output_type": "stream",
     "text": [
      "Confusion matrix BernulliNB:\n",
      "[[108  13]\n",
      " [ 69  38]]\n"
     ]
    }
   ],
   "source": [
    "\"\"\"\n",
    "    Cosa si scopre analizzando le confusion matrix?\n",
    "\"\"\"\n",
    "cf_BNB = confusion_matrix(Y_test, y_pred_BNB)\n",
    "print('Confusion matrix BernulliNB:\\n{}'.format(cf_BNB))"
   ]
  },
  {
   "cell_type": "markdown",
   "metadata": {},
   "source": [
    "### Punto 2.5"
   ]
  },
  {
   "cell_type": "code",
   "execution_count": 11,
   "metadata": {},
   "outputs": [
    {
     "name": "stdout",
     "output_type": "stream",
     "text": [
      "Accurary DecisionTree: 0.754\n"
     ]
    }
   ],
   "source": [
    "\"\"\"\n",
    "    Se si utilizza un modello basato su Decision Tree che valore di accuratezza si ottiene? Cambia\n",
    "    qualcosa nella confusion matrix?\n",
    "\"\"\"\n",
    "model_DT = DecisionTreeClassifier()\n",
    "model_DT.fit(X_train, Y_train)\n",
    "accuracy = model_DT.score(X_test, Y_test)\n",
    "print('Accurary DecisionTree: {:.3f}'.format(accuracy))"
   ]
  },
  {
   "cell_type": "markdown",
   "metadata": {},
   "source": [
    "### Punto 2.6"
   ]
  },
  {
   "cell_type": "code",
   "execution_count": 12,
   "metadata": {},
   "outputs": [
    {
     "name": "stdout",
     "output_type": "stream",
     "text": [
      "Score DT: 0.749% (0.098%)\n",
      "Score BNB: 0.615% (0.150%)\n"
     ]
    }
   ],
   "source": [
    "\"\"\"\n",
    "    Che valore di accuratezza si ottiene con un 10 Fold cross validation e il modello basato su\n",
    "    Decision Tree? \n",
    "    E il modello basato su BernoulliNB?\n",
    "    \n",
    "    E’ più affidabile la valutazione fatta con la cross validation o quella fatta con una suddivisione\n",
    "    arbitraria del dataset in due parti, training set e test set? Per quale motivo?\n",
    "\"\"\"\n",
    "\n",
    "models = []\n",
    "models.append(('DT', DecisionTreeClassifier()))\n",
    "models.append(('BNB', BernoulliNB()))\n",
    "\n",
    "num_folds = 10\n",
    "scoring = 'accuracy'\n",
    "names = []\n",
    "scores = []\n",
    "for name, model in models:\n",
    "    cvs = cross_val_score(model, X, Y, cv = num_folds, scoring = scoring)\n",
    "    names.append(name)\n",
    "    scores.append(cvs)\n",
    "    string = \"Score {}: {:0.3f}% ({:0.3f}%)\".format(name, cvs.mean(), cvs.std())\n",
    "    print(string)"
   ]
  },
  {
   "cell_type": "markdown",
   "metadata": {},
   "source": [
    "### Punto 2.7"
   ]
  },
  {
   "cell_type": "code",
   "execution_count": 13,
   "metadata": {},
   "outputs": [
    {
     "data": {
      "image/png": "[encoded data removed]",
      "text/plain": [
       "<matplotlib.figure.Figure at 0x7f2301dbd4e0>"
      ]
     },
     "metadata": {},
     "output_type": "display_data"
    }
   ],
   "source": [
    "\"\"\"\n",
    "    Provare e confrontare graficamente alcuni algoritmi di machine learning scelti dalle librerie di\n",
    "    scikit\n",
    "\"\"\"\n",
    "fig = plt.figure()\n",
    "fig.suptitle('Algoritms')\n",
    "ax = fig.add_subplot(111)\n",
    "plt.boxplot(scores)\n",
    "ax.set_xticklabels(names)\n",
    "plt.show()"
   ]
  },
  {
   "cell_type": "markdown",
   "metadata": {},
   "source": [
    "### Punto 2.8"
   ]
  },
  {
   "cell_type": "code",
   "execution_count": 14,
   "metadata": {
    "collapsed": true
   },
   "outputs": [],
   "source": [
    "\"\"\"\n",
    "    Creare un nuovo dataset “reduced” con esclusivamente i valori medi degli indicatori\n",
    "    atmosferici. Per ogni feature, dividere il range dei valori in 6 gruppi. Sostituire al valore\n",
    "    originale dell’attributo un numero che va da 1 a 6 e che indica l’appartenenza allo specifico\n",
    "    gruppo. Valutare l’accuratezza ottenuta con un qualsiasi algoritmo utilizzato in precedenza.\n",
    "\"\"\"\n",
    "# Copio per evitare problemi nelle future esecuzioni\n",
    "dataset_reduced = dataset_new.copy()\n",
    "\n",
    "num_chunks = 6\n",
    "values_chunks = [1, 2, 3, 4, 5, 6]\n",
    "# Cambio i valori di tutte le colonne che contengono l'attributo 'Mean'\n",
    "for columns_name in dataset_reduced.columns:\n",
    "    if 'Mean' in columns_name:\n",
    "        # Poiché alcune colonne danno errori uso try-except\n",
    "        try:\n",
    "            dataset_reduced[columns_name] = pd.qcut(dataset_reduced[columns_name],\n",
    "                                            num_chunks, values_chunks)\n",
    "            break\n",
    "        except ValueError:\n",
    "            continue"
   ]
  },
  {
   "cell_type": "markdown",
   "metadata": {},
   "source": [
    "### Punto 2.9"
   ]
  },
  {
   "cell_type": "code",
   "execution_count": 15,
   "metadata": {
    "scrolled": true
   },
   "outputs": [
    {
     "name": "stdout",
     "output_type": "stream",
     "text": [
      "DecisionTree #1 del Dataset #1 ha un accuracy di 0.803\n",
      "DecisionTree #1 del Dataset #2 ha un accuracy di 0.780\n",
      "DecisionTree #1 del Dataset #3 ha un accuracy di 0.786\n",
      "DecisionTree #2 del Dataset #1 ha un accuracy di 0.815\n",
      "DecisionTree #2 del Dataset #2 ha un accuracy di 0.659\n",
      "DecisionTree #2 del Dataset #3 ha un accuracy di 0.786\n",
      "DecisionTree #3 del Dataset #1 ha un accuracy di 0.746\n",
      "DecisionTree #3 del Dataset #2 ha un accuracy di 0.734\n",
      "DecisionTree #3 del Dataset #3 ha un accuracy di 0.723\n",
      "Il valore massimo si è ottenuto con: (0.81502890173410403, 'DecisionTree #2', 'Dataset #1')\n"
     ]
    }
   ],
   "source": [
    "\"\"\"\n",
    "\n",
    "    Dividere nuovamente il dataset in modo che 3/4 degli elementi siano contenuti in un dataset\n",
    "    “train” e 1/4 nel dataset “test” (punti 5).\n",
    "    \n",
    "    Considerare il Train. Dividerlo in 3 nuovi dataset.\n",
    "        Month 1,2,3,4 --> dataset1\n",
    "        Month 5,6,7,8 --> dataset2\n",
    "        Month 9,10,11,12 --> dataset3\n",
    "    \n",
    "    Eliminare l’attributo Month dai 3 dataset di training.\n",
    "    Eliminare l’attributo Month dal dataset di test\n",
    "    \n",
    "    Allenare 3 classificatori di tipo decisionTree con i 3 dataset.\n",
    "    \n",
    "    Effettuare la predizione del test con un sistema di votazione: la classe maggiormente predetta\n",
    "    nei 3 dataset è quella che viene selezionata.\n",
    "    Calcolare l’accuratezza dell’approccio.\n",
    "\"\"\"\n",
    "# Copio il dataset per evitare futuri problemi\n",
    "dt = dataset.copy()\n",
    "# Modifico le colonne 'Day', 'Year' e 'Mean_Temperature_F' perché sono in 'float64' e DecisionTree non \n",
    "# riesce a lavorare - Uguale al punto precedente\n",
    "label = LabelEncoder()\n",
    "dt[['Day']] = dt[['Day']].apply(label.fit_transform)\n",
    "dt[['Year']] = dt[['Year']].apply(label.fit_transform)\n",
    "dt[['Mean_Temperature_F']] = dt[['Mean_Temperature_F']].apply(label.fit_transform)\n",
    "# Modifico 'Events' per rimuovere i valori 'nan' e convertire gli altri valori con 1\n",
    "dt['Events'] = dt['Events'].fillna(0)\n",
    "dt['Events'] = np.where(dt['Events'] == 0, 0, 1)\n",
    "\n",
    "# Elimino la riga 'Date' perché è in formato String\n",
    "dt = dt.drop(['Date'], axis = 1)\n",
    "                              \n",
    "# Splitto il dataset in 3/4 train e 1/4 test\n",
    "test_size = 0.25\n",
    "train, test, = train_test_split(dt, test_size = test_size)\n",
    "# Prendo la colonna da predire dal test\n",
    "Y_test = test['Events']\n",
    "test = test.drop(['Month', 'Events'], axis = 1)\n",
    "\n",
    "# Creo i tre dataset\n",
    "dataset1 = train[(1 <= train['Month']) & (train['Month'] <= 4)]\n",
    "dataset2 = train[(5 <= train['Month']) & (train['Month'] <= 8)]\n",
    "dataset3 = train[(9 <= train['Month']) & (train['Month'] <= 12)]\n",
    "\n",
    "# Elimino le colonne\n",
    "dataset1 = dataset1.drop('Month', axis = 1)\n",
    "dataset2 = dataset2.drop('Month', axis = 1)\n",
    "dataset3 = dataset3.drop('Month', axis = 1)\n",
    "\n",
    "# I 3 classificatori di tipo DecisionTree\n",
    "dt_models = []\n",
    "dt_models.append(('DecisionTree #1', DecisionTreeClassifier(criterion = 'entropy', splitter = 'random')))\n",
    "dt_models.append(('DecisionTree #2', DecisionTreeClassifier(max_depth = 5, min_samples_split = 3)))\n",
    "dt_models.append(('DecisionTree #3', DecisionTreeClassifier(min_samples_leaf = 10, max_features = 8)))\n",
    "\n",
    "datasets = []\n",
    "datasets.append(('Dataset #1', dataset1))\n",
    "datasets.append(('Dataset #2', dataset2))\n",
    "datasets.append(('Dataset #3', dataset3))\n",
    "\n",
    "scores = []\n",
    "for name_model, model in dt_models:\n",
    "    for name_dataset, dataset_n in datasets:\n",
    "        # Prendo X e Y di training e test\n",
    "        Y = dataset_n['Events']\n",
    "        X = dataset_n.drop(['Events'], axis = 1)\n",
    "        model.fit(X, Y)\n",
    "        y_pred = model.predict(test)\n",
    "        scores.append((accuracy_score(Y_test, y_pred), name_model, name_dataset,))\n",
    "        string = '{} del {} ha un accuracy di {:.03f}'.format(name_model, name_dataset, \n",
    "                                                                       accuracy_score(Y_test, y_pred))\n",
    "        print(string)\n",
    "\n",
    "valore_max = max(scores)\n",
    "print('Il valore massimo si è ottenuto con: {}'.format(valore_max))"
   ]
  },
  {
   "cell_type": "markdown",
   "metadata": {},
   "source": [
    "### Punto 2.10"
   ]
  },
  {
   "cell_type": "code",
   "execution_count": 16,
   "metadata": {},
   "outputs": [
    {
     "name": "stdout",
     "output_type": "stream",
     "text": [
      "Accuracy modello Z: 0.775\n",
      "Confusion matrix Z:\n",
      "[[61 13]\n",
      " [18 46]]\n"
     ]
    }
   ],
   "source": [
    "\"\"\"\n",
    "    Effettuare (e giustificare) una variazione a piacere del dataset e calcolare l’accuratezza\n",
    "    ottenuta dal nuovo dataset\n",
    "\"\"\"\n",
    "dt_z = dataset.copy()\n",
    "\n",
    "X_z = dt_z.drop('Events', axis = 1)\n",
    "X_z = X_z.fillna(1)\n",
    "\n",
    "Y_z = dt_z['Events']\n",
    "Y_z = Y_z.fillna(0)\n",
    "Y_z = np.where(Y_z == 0, 0, 1)\n",
    "\n",
    "# Creo le colonne get_dummies per l'anno\n",
    "dummy_year = pd.get_dummies(X_z['Year'])\n",
    "X_z = pd.concat([X_z, dummy_year], axis = 1)\n",
    "X_z = X_z.drop('Year', axis = 1)\n",
    "# Aggiungo una colonna colonna 'Day_Z' se maggiore di 15 assegno 1 altrimenti 0\n",
    "X_z['Day'] = np.where(X_z['Day'] > 15, 1 , 0)\n",
    "# Aggiungo una colonna 'Season' con i valori 1, 2, 3, 4\n",
    "seasons = 8\n",
    "labels_season = [1, 2, 3, 4, 5, 6, 7, 8]\n",
    "X_z['Seasons'] = pd.qcut(X_z['Month'], seasons, labels_season)\n",
    "# Elimino la colonna 'Date'\n",
    "X_z = X_z.drop(['Date'], axis = 1)\n",
    "# Creo una nuova colonna Temperatura data dalla temperatura massimo meno la minima diviso la media\n",
    "X_z['Temperatura_Z'] = (X_z['Max_Temperature_F'] - X_z['Min_TemperatureF']) / X_z['Mean_Temperature_F']\n",
    "X_z['Visibility_Milel_Z'] = (X_z['Max_Visibility_Miles'] - X_z['Min_Visibility_Miles']) / X_z['Mean_Visibility_Miles']\n",
    "X_z['Humidity_Z'] = (X_z['Max_Humidity'] - X_z['Min_Humidity'])\n",
    "# Aggiungo una colonna colonna 'Mean_T' nella quale se maggiore la temperatura media è maggiore della media\n",
    "# assegno 1, altrimenti 0\n",
    "mean_temp = X_z['Mean_Temperature_F'].mean()\n",
    "mean_max_temp = X_z['Max_Temperature_F'].mean()\n",
    "mean_min_temp = X_z['Min_TemperatureF'].mean()\n",
    "mean_of_mean = (mean_max_temp - mean_min_temp) / mean_temp\n",
    "X_z['Mean_T'] = np.where(X_z['Mean_Temperature_F'] < mean_of_mean, 0, 1)\n",
    "\n",
    "\n",
    "\n",
    "# Selezione le features più importanti\n",
    "selector = SelectKBest(chi2, 10)\n",
    "X_features = selector.fit_transform(X_z, Y_z)\n",
    "\n",
    "\n",
    "X_train, X_test, Y_train, Y_test = train_test_split(X_features, Y_z, test_size = 0.2, random_state = 111)\n",
    "model_DT = DecisionTreeClassifier()\n",
    "model_DT.fit(X_train, Y_train)\n",
    "y_pred = model_DT.predict(X_test)\n",
    "accuracy = accuracy_score(Y_test, y_pred)\n",
    "print('Accuracy modello Z: {:.03f}'.format(accuracy))\n",
    "cf_z = confusion_matrix(Y_test, y_pred)\n",
    "print('Confusion matrix Z:\\n{}'.format(cf_z))"
   ]
  }
 ],
 "metadata": {
  "kernelspec": {
   "display_name": "Python 3",
   "language": "python",
   "name": "python3"
  },
  "language_info": {
   "codemirror_mode": {
    "name": "ipython",
    "version": 3
   },
   "file_extension": ".py",
   "mimetype": "text/x-python",
   "name": "python",
   "nbconvert_exporter": "python",
   "pygments_lexer": "ipython3",
   "version": "3.6.2"
  }
 },
 "nbformat": 4,
 "nbformat_minor": 2
}
