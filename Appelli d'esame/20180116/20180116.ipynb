{
 "cells": [
  {
   "cell_type": "code",
   "execution_count": 1,
   "metadata": {},
   "outputs": [],
   "source": [
    "# IMPORT\n",
    "import pandas as pd\n",
    "import numpy as np\n",
    "import matplotlib.pyplot as plt\n",
    "\n",
    "from sklearn.model_selection import train_test_split, cross_val_score\n",
    "from sklearn.metrics import confusion_matrix\n",
    "from sklearn.tree import DecisionTreeClassifier\n",
    "from sklearn.linear_model import (LogisticRegression, LinearRegression)\n",
    "from sklearn.neighbors import KNeighborsClassifier"
   ]
  },
  {
   "cell_type": "code",
   "execution_count": 2,
   "metadata": {},
   "outputs": [
    {
     "data": {
      "text/html": [
       "<div>\n",
       "<style scoped>\n",
       "    .dataframe tbody tr th:only-of-type {\n",
       "        vertical-align: middle;\n",
       "    }\n",
       "\n",
       "    .dataframe tbody tr th {\n",
       "        vertical-align: top;\n",
       "    }\n",
       "\n",
       "    .dataframe thead th {\n",
       "        text-align: right;\n",
       "    }\n",
       "</style>\n",
       "<table border=\"1\" class=\"dataframe\">\n",
       "  <thead>\n",
       "    <tr style=\"text-align: right;\">\n",
       "      <th></th>\n",
       "      <th>id</th>\n",
       "      <th>age</th>\n",
       "      <th>job</th>\n",
       "      <th>marital</th>\n",
       "      <th>education</th>\n",
       "      <th>default</th>\n",
       "      <th>housing</th>\n",
       "      <th>loan</th>\n",
       "      <th>emp.var.rate</th>\n",
       "      <th>cons.price.idx</th>\n",
       "      <th>cons.conf.idx</th>\n",
       "      <th>euribor3m</th>\n",
       "      <th>nr.employed</th>\n",
       "      <th>y</th>\n",
       "    </tr>\n",
       "  </thead>\n",
       "  <tbody>\n",
       "    <tr>\n",
       "      <th>0</th>\n",
       "      <td>1</td>\n",
       "      <td>30</td>\n",
       "      <td>blue-collar</td>\n",
       "      <td>married</td>\n",
       "      <td>basic.9y</td>\n",
       "      <td>no</td>\n",
       "      <td>yes</td>\n",
       "      <td>no</td>\n",
       "      <td>-1.8</td>\n",
       "      <td>92.893</td>\n",
       "      <td>-46.2</td>\n",
       "      <td>1.313</td>\n",
       "      <td>5099.1</td>\n",
       "      <td>no</td>\n",
       "    </tr>\n",
       "    <tr>\n",
       "      <th>1</th>\n",
       "      <td>2</td>\n",
       "      <td>39</td>\n",
       "      <td>services</td>\n",
       "      <td>single</td>\n",
       "      <td>high.school</td>\n",
       "      <td>no</td>\n",
       "      <td>no</td>\n",
       "      <td>no</td>\n",
       "      <td>1.1</td>\n",
       "      <td>93.994</td>\n",
       "      <td>-36.4</td>\n",
       "      <td>4.855</td>\n",
       "      <td>5191.0</td>\n",
       "      <td>no</td>\n",
       "    </tr>\n",
       "    <tr>\n",
       "      <th>2</th>\n",
       "      <td>3</td>\n",
       "      <td>25</td>\n",
       "      <td>services</td>\n",
       "      <td>married</td>\n",
       "      <td>high.school</td>\n",
       "      <td>no</td>\n",
       "      <td>yes</td>\n",
       "      <td>no</td>\n",
       "      <td>1.4</td>\n",
       "      <td>94.465</td>\n",
       "      <td>-41.8</td>\n",
       "      <td>4.962</td>\n",
       "      <td>5228.1</td>\n",
       "      <td>no</td>\n",
       "    </tr>\n",
       "    <tr>\n",
       "      <th>3</th>\n",
       "      <td>4</td>\n",
       "      <td>38</td>\n",
       "      <td>services</td>\n",
       "      <td>married</td>\n",
       "      <td>basic.9y</td>\n",
       "      <td>no</td>\n",
       "      <td>unknown</td>\n",
       "      <td>unknown</td>\n",
       "      <td>1.4</td>\n",
       "      <td>94.465</td>\n",
       "      <td>-41.8</td>\n",
       "      <td>4.959</td>\n",
       "      <td>5228.1</td>\n",
       "      <td>no</td>\n",
       "    </tr>\n",
       "    <tr>\n",
       "      <th>4</th>\n",
       "      <td>5</td>\n",
       "      <td>47</td>\n",
       "      <td>admin.</td>\n",
       "      <td>married</td>\n",
       "      <td>university.degree</td>\n",
       "      <td>no</td>\n",
       "      <td>yes</td>\n",
       "      <td>no</td>\n",
       "      <td>-0.1</td>\n",
       "      <td>93.200</td>\n",
       "      <td>-42.0</td>\n",
       "      <td>4.191</td>\n",
       "      <td>5195.8</td>\n",
       "      <td>no</td>\n",
       "    </tr>\n",
       "  </tbody>\n",
       "</table>\n",
       "</div>"
      ],
      "text/plain": [
       "   id  age          job  marital          education default  housing     loan  \\\n",
       "0   1   30  blue-collar  married           basic.9y      no      yes       no   \n",
       "1   2   39     services   single        high.school      no       no       no   \n",
       "2   3   25     services  married        high.school      no      yes       no   \n",
       "3   4   38     services  married           basic.9y      no  unknown  unknown   \n",
       "4   5   47       admin.  married  university.degree      no      yes       no   \n",
       "\n",
       "   emp.var.rate  cons.price.idx  cons.conf.idx  euribor3m  nr.employed   y  \n",
       "0          -1.8          92.893          -46.2      1.313       5099.1  no  \n",
       "1           1.1          93.994          -36.4      4.855       5191.0  no  \n",
       "2           1.4          94.465          -41.8      4.962       5228.1  no  \n",
       "3           1.4          94.465          -41.8      4.959       5228.1  no  \n",
       "4          -0.1          93.200          -42.0      4.191       5195.8  no  "
      ]
     },
     "execution_count": 2,
     "metadata": {},
     "output_type": "execute_result"
    }
   ],
   "source": [
    "# PUNTO 1.1\n",
    "dataset = pd.read_csv('BankMarketingDataSet.csv', sep = ';')\n",
    "#print('Prime cinque righe:\\n  {}'.format(dataset.head()))\n",
    "dataset.head()"
   ]
  },
  {
   "cell_type": "code",
   "execution_count": 3,
   "metadata": {},
   "outputs": [
    {
     "name": "stdout",
     "output_type": "stream",
     "text": [
      "Numero istanze: 4119\n",
      "Numero istanze nulle: 0\n",
      "Non bilanciato, YES: 451, NO: 3668\n"
     ]
    }
   ],
   "source": [
    "# PUNTO 1.2\n",
    "num_istanze = dataset.shape[0]\n",
    "print('Numero istanze: {}'.format(num_istanze))\n",
    "\n",
    "num_NaN_columns = dataset.isnull().sum()\n",
    "num_NaN = num_NaN_columns.sum()\n",
    "print('Numero istanze nulle: {}'.format(num_NaN))\n",
    "\n",
    "# Conto i valori da predire\n",
    "y_size = dataset.groupby('y').size()\n",
    "y_no = y_size['no']\n",
    "y_yes = y_size['yes']\n",
    "print('Non bilanciato, YES: {}, NO: {}'.format(y_yes, y_no))"
   ]
  },
  {
   "cell_type": "code",
   "execution_count": 4,
   "metadata": {},
   "outputs": [
    {
     "data": {
      "image/png": "[encoded data removed]",
      "text/plain": [
       "<matplotlib.figure.Figure at 0x7f51e498aac8>"
      ]
     },
     "metadata": {},
     "output_type": "display_data"
    }
   ],
   "source": [
    "# PUNTO 1.3\n",
    "age = dataset.groupby('age').size()\n",
    "age.plot()\n",
    "plt.show()"
   ]
  },
  {
   "cell_type": "code",
   "execution_count": 5,
   "metadata": {},
   "outputs": [
    {
     "data": {
      "text/html": [
       "<div>\n",
       "<style scoped>\n",
       "    .dataframe tbody tr th:only-of-type {\n",
       "        vertical-align: middle;\n",
       "    }\n",
       "\n",
       "    .dataframe tbody tr th {\n",
       "        vertical-align: top;\n",
       "    }\n",
       "\n",
       "    .dataframe thead tr th {\n",
       "        text-align: left;\n",
       "    }\n",
       "\n",
       "    .dataframe thead tr:last-of-type th {\n",
       "        text-align: right;\n",
       "    }\n",
       "</style>\n",
       "<table border=\"1\" class=\"dataframe\">\n",
       "  <thead>\n",
       "    <tr>\n",
       "      <th></th>\n",
       "      <th colspan=\"2\" halign=\"left\">id</th>\n",
       "      <th colspan=\"2\" halign=\"left\">age</th>\n",
       "      <th colspan=\"2\" halign=\"left\">emp.var.rate</th>\n",
       "      <th colspan=\"2\" halign=\"left\">cons.price.idx</th>\n",
       "      <th colspan=\"2\" halign=\"left\">cons.conf.idx</th>\n",
       "      <th colspan=\"2\" halign=\"left\">euribor3m</th>\n",
       "      <th colspan=\"2\" halign=\"left\">nr.employed</th>\n",
       "    </tr>\n",
       "    <tr>\n",
       "      <th>y</th>\n",
       "      <th>no</th>\n",
       "      <th>yes</th>\n",
       "      <th>no</th>\n",
       "      <th>yes</th>\n",
       "      <th>no</th>\n",
       "      <th>yes</th>\n",
       "      <th>no</th>\n",
       "      <th>yes</th>\n",
       "      <th>no</th>\n",
       "      <th>yes</th>\n",
       "      <th>no</th>\n",
       "      <th>yes</th>\n",
       "      <th>no</th>\n",
       "      <th>yes</th>\n",
       "    </tr>\n",
       "    <tr>\n",
       "      <th>marital</th>\n",
       "      <th></th>\n",
       "      <th></th>\n",
       "      <th></th>\n",
       "      <th></th>\n",
       "      <th></th>\n",
       "      <th></th>\n",
       "      <th></th>\n",
       "      <th></th>\n",
       "      <th></th>\n",
       "      <th></th>\n",
       "      <th></th>\n",
       "      <th></th>\n",
       "      <th></th>\n",
       "      <th></th>\n",
       "    </tr>\n",
       "  </thead>\n",
       "  <tbody>\n",
       "    <tr>\n",
       "      <th>divorced</th>\n",
       "      <td>2081.573201</td>\n",
       "      <td>1986.372093</td>\n",
       "      <td>44.741935</td>\n",
       "      <td>48.534884</td>\n",
       "      <td>0.294045</td>\n",
       "      <td>-1.269767</td>\n",
       "      <td>93.620189</td>\n",
       "      <td>93.416465</td>\n",
       "      <td>-40.555583</td>\n",
       "      <td>-41.244186</td>\n",
       "      <td>3.890355</td>\n",
       "      <td>1.990419</td>\n",
       "      <td>5178.798511</td>\n",
       "      <td>5089.053488</td>\n",
       "    </tr>\n",
       "    <tr>\n",
       "      <th>married</th>\n",
       "      <td>2061.935312</td>\n",
       "      <td>2076.067460</td>\n",
       "      <td>41.956136</td>\n",
       "      <td>46.269841</td>\n",
       "      <td>0.317368</td>\n",
       "      <td>-1.127381</td>\n",
       "      <td>93.620615</td>\n",
       "      <td>93.405794</td>\n",
       "      <td>-40.422375</td>\n",
       "      <td>-39.772619</td>\n",
       "      <td>3.895430</td>\n",
       "      <td>2.233952</td>\n",
       "      <td>5178.686575</td>\n",
       "      <td>5099.413095</td>\n",
       "    </tr>\n",
       "    <tr>\n",
       "      <th>single</th>\n",
       "      <td>2039.647295</td>\n",
       "      <td>2111.406452</td>\n",
       "      <td>33.247495</td>\n",
       "      <td>32.961290</td>\n",
       "      <td>0.045691</td>\n",
       "      <td>-1.249677</td>\n",
       "      <td>93.544569</td>\n",
       "      <td>93.435974</td>\n",
       "      <td>-40.976353</td>\n",
       "      <td>-39.428387</td>\n",
       "      <td>3.558643</td>\n",
       "      <td>2.026374</td>\n",
       "      <td>5167.033868</td>\n",
       "      <td>5083.141935</td>\n",
       "    </tr>\n",
       "    <tr>\n",
       "      <th>unknown</th>\n",
       "      <td>1941.400000</td>\n",
       "      <td>1645.000000</td>\n",
       "      <td>42.900000</td>\n",
       "      <td>36.000000</td>\n",
       "      <td>0.060000</td>\n",
       "      <td>1.400000</td>\n",
       "      <td>93.546900</td>\n",
       "      <td>93.444000</td>\n",
       "      <td>-40.050000</td>\n",
       "      <td>-36.100000</td>\n",
       "      <td>3.744200</td>\n",
       "      <td>4.965000</td>\n",
       "      <td>5169.040000</td>\n",
       "      <td>5228.100000</td>\n",
       "    </tr>\n",
       "  </tbody>\n",
       "</table>\n",
       "</div>"
      ],
      "text/plain": [
       "                   id                     age            emp.var.rate  \\\n",
       "y                  no          yes         no        yes           no   \n",
       "marital                                                                 \n",
       "divorced  2081.573201  1986.372093  44.741935  48.534884     0.294045   \n",
       "married   2061.935312  2076.067460  41.956136  46.269841     0.317368   \n",
       "single    2039.647295  2111.406452  33.247495  32.961290     0.045691   \n",
       "unknown   1941.400000  1645.000000  42.900000  36.000000     0.060000   \n",
       "\n",
       "                   cons.price.idx            cons.conf.idx             \\\n",
       "y              yes             no        yes            no        yes   \n",
       "marital                                                                 \n",
       "divorced -1.269767      93.620189  93.416465    -40.555583 -41.244186   \n",
       "married  -1.127381      93.620615  93.405794    -40.422375 -39.772619   \n",
       "single   -1.249677      93.544569  93.435974    -40.976353 -39.428387   \n",
       "unknown   1.400000      93.546900  93.444000    -40.050000 -36.100000   \n",
       "\n",
       "         euribor3m            nr.employed               \n",
       "y               no       yes           no          yes  \n",
       "marital                                                 \n",
       "divorced  3.890355  1.990419  5178.798511  5089.053488  \n",
       "married   3.895430  2.233952  5178.686575  5099.413095  \n",
       "single    3.558643  2.026374  5167.033868  5083.141935  \n",
       "unknown   3.744200  4.965000  5169.040000  5228.100000  "
      ]
     },
     "execution_count": 5,
     "metadata": {},
     "output_type": "execute_result"
    }
   ],
   "source": [
    "# PUNTO 1.4\n",
    "mean_marital_y = dataset.groupby(['marital', 'y']).mean().unstack()\n",
    "median_marital_y = dataset.groupby(['marital', 'y']).median().unstack()\n",
    "# print('Media\\n: {}'.format(mean_marital_y))\n",
    "# print('Mediana \\n: {}'.format(median_marital_y))\n",
    "mean_marital_y"
   ]
  },
  {
   "cell_type": "code",
   "execution_count": 6,
   "metadata": {},
   "outputs": [
    {
     "data": {
      "image/png": "[encoded data removed]",
      "text/plain": [
       "<matplotlib.figure.Figure at 0x7f51dca59780>"
      ]
     },
     "metadata": {},
     "output_type": "display_data"
    },
    {
     "data": {
      "image/png": "[encoded data removed]",
      "text/plain": [
       "<matplotlib.figure.Figure at 0x7f51d8695940>"
      ]
     },
     "metadata": {},
     "output_type": "display_data"
    },
    {
     "name": "stdout",
     "output_type": "stream",
     "text": [
      "Si può notare che la maggiore percentuale di sottoscrizioni e non avviene nel range di età che va dai 30 ai 40 anni e successivamente la percentuale tende progressivamente a 0\n"
     ]
    }
   ],
   "source": [
    "# PUNTO 5\n",
    "series_age_y = dataset.groupby(['y', 'age']).size()\n",
    "percentuale_no = (series_age_y['no'] / num_istanze) * 100\n",
    "percentuale_yes = (series_age_y['yes'] / num_istanze) * 100\n",
    "\n",
    "percentuale_no.plot()\n",
    "plt.show()\n",
    "\n",
    "percentuale_yes.plot()\n",
    "plt.show()\n",
    "\n",
    "print('Si può notare che la maggiore percentuale di sottoscrizioni e non avviene nel range di età',\n",
    "      'che va dai 30 ai 40 anni e successivamente la percentuale tende progressivamente a 0')"
   ]
  },
  {
   "cell_type": "code",
   "execution_count": 7,
   "metadata": {},
   "outputs": [
    {
     "name": "stdout",
     "output_type": "stream",
     "text": [
      "['blue-collar' 'services' 'admin.' 'entrepreneur' 'self-employed'\n",
      " 'technician' 'management' 'student' 'retired' 'housemaid' 'unemployed']\n",
      "['married' 'single' 'divorced']\n",
      "['basic.9y' 'high.school' 'university.degree' 'professional.course'\n",
      " 'basic.6y' 'basic.4y' 'illiterate']\n",
      "['no' 'yes']\n",
      "['yes' 'no']\n",
      "['no' 'yes']\n",
      "****************************************************************************************************\n",
      "MOTIVAZIONI\n",
      "Elimino queste tre colonne perché come si può notare che i valori che assumono sono molti e poiché la classificazione è boolean (SI - NO) potrebbero influiere negativamente sul classificatore\n"
     ]
    }
   ],
   "source": [
    "# PUNTO 2.1\n",
    "# Copio il dataset, ora utilizzo dataset_new\n",
    "# Lo copio perché così posso confrontare le modifiche con il dataset originale\n",
    "\n",
    "dataset_new = dataset.copy()\n",
    "dataset_new['y'] = np.where(dataset_new['y'] == 'no', 0, 1)\n",
    "\n",
    "# Le colonne categoriche sono le uniche che contengono il valore 'unknonw'\n",
    "columns_name_categoriche = ['job', 'marital','education', 'default', 'housing', 'loan']\n",
    "for name in columns_name_categoriche:\n",
    "    dataset_new = dataset_new[dataset_new[name] != 'unknown']\n",
    "    print(dataset_new[name].unique())\n",
    "\n",
    "dataset_new = dataset_new.drop(['job', 'marital', 'education'], axis = 1)\n",
    "\n",
    "# Sostituisco i valori\n",
    "dataset_new['default'] = np.where(dataset_new['default'] == 'no', 0, 1)\n",
    "dataset_new['housing'] = np.where(dataset_new['housing'] == 'no', 0, 1)\n",
    "dataset_new['loan'] = np.where(dataset_new['loan'] == 'no', 0, 1)\n",
    "\n",
    "print('*' * 100)\n",
    "print('MOTIVAZIONI')\n",
    "print('Elimino queste tre colonne perché come si può notare che i valori che assumono sono',\n",
    "    'molti e poiché la classificazione è boolean (SI - NO) potrebbero influiere negativamente sul classificatore')"
   ]
  },
  {
   "cell_type": "code",
   "execution_count": 8,
   "metadata": {},
   "outputs": [
    {
     "name": "stdout",
     "output_type": "stream",
     "text": [
      "Accuracy  DECISION TREE: 0.812\n",
      "Confusion Matrix DECISION TREE:\n",
      "[[604  85]\n",
      " [ 60  24]]\n"
     ]
    }
   ],
   "source": [
    "# PUNTO 2.2\n",
    "\n",
    "Y = dataset_new['y']\n",
    "X = dataset_new.drop('y', axis = 1)\n",
    "\n",
    "test_size = 0.25\n",
    "random_state = 1\n",
    "X_train, X_test, Y_train, Y_test = train_test_split(X, Y, test_size = test_size, random_state = random_state)\n",
    "\n",
    "model_DT = DecisionTreeClassifier()\n",
    "model_DT.fit(X_train, Y_train)\n",
    "accuracy_DT = model_DT.score(X_test, Y_test)\n",
    "# Predict\n",
    "y_pred_DT = model_DT.predict(X_test)\n",
    "confusion_matrix_DT = confusion_matrix(Y_test, y_pred_DT)\n",
    "print('Accuracy  DECISION TREE: {:.03f}'.format(accuracy_DT))\n",
    "print('Confusion Matrix DECISION TREE:\\n{}'.format(confusion_matrix_DT))"
   ]
  },
  {
   "cell_type": "code",
   "execution_count": 9,
   "metadata": {},
   "outputs": [
    {
     "name": "stdout",
     "output_type": "stream",
     "text": [
      "Accuracy KNeighbors: 0.872\n",
      "Confusion Matrix KNeighbors:\n",
      "[[659  30]\n",
      " [ 69  15]]\n"
     ]
    }
   ],
   "source": [
    "# PUNTO 2.3\n",
    "model_KNN = KNeighborsClassifier()\n",
    "model_KNN.fit(X_train, Y_train)\n",
    "accuracy_KNN = model_KNN.score(X_test, Y_test)\n",
    "# Predict\n",
    "y_pred_KNN = model_KNN.predict(X_test)\n",
    "confusion_matrix_KNN = confusion_matrix(Y_test, y_pred_KNN)\n",
    "print('Accuracy KNeighbors: {:.03f}'.format(accuracy_KNN))\n",
    "print('Confusion Matrix KNeighbors:\\n{}'.format(confusion_matrix_KNN))"
   ]
  },
  {
   "cell_type": "code",
   "execution_count": 10,
   "metadata": {},
   "outputs": [
    {
     "name": "stdout",
     "output_type": "stream",
     "text": [
      "Lo score del modello KNN è di: 80.129 (13.809)\n",
      "Lo score del modello DT è di: 81.165 (8.031)\n"
     ]
    }
   ],
   "source": [
    "# PUNTO 2.4\n",
    "\n",
    "models = []\n",
    "models.append(('KNN', KNeighborsClassifier()))\n",
    "models.append(('DT', DecisionTreeClassifier()))\n",
    "\n",
    "scores = []\n",
    "cv = 10\n",
    "scoring = 'accuracy'\n",
    "for name, model in models:\n",
    "    score = cross_val_score(model, X, Y, cv = 10, scoring = scoring)\n",
    "    scores.append(score)\n",
    "    string = 'Lo score del modello {} è di: {:0.3f} ({:0.3f})'.format(name, score.mean() * 100, \n",
    "                                                                      score.std() * 100)\n",
    "    print(string)"
   ]
  },
  {
   "cell_type": "code",
   "execution_count": 11,
   "metadata": {},
   "outputs": [
    {
     "name": "stdout",
     "output_type": "stream",
     "text": [
      "Lo score del modello KNN è di: 71.694 (17.910)\n",
      "Lo score del modello DT è di: 77.521 (11.103)\n"
     ]
    }
   ],
   "source": [
    "# Punto 2.5\n",
    "numerical = dataset.copy()\n",
    "numerical = dataset.drop(['job', 'marital', 'education','default', 'housing', 'loan'], axis = 1)\n",
    "\n",
    "# RICONVERTO LA COLONNA DA PREDIRE\n",
    "numerical['y'] = np.where(numerical['y'] == 'no', 0, 1)\n",
    "\n",
    "Y_numerical = numerical['y']\n",
    "X_numerical = numerical.drop('y', axis = 1)\n",
    "\n",
    "scores = []\n",
    "for name, model in models:\n",
    "    score = cross_val_score(model, X_numerical, Y_numerical, cv = 10, scoring = scoring)\n",
    "    scores.append(score)\n",
    "    string = 'Lo score del modello {} è di: {:0.3f} ({:0.3f})'.format(name, score.mean() * 100, \n",
    "                                                                      score.std() * 100)\n",
    "    print(string)"
   ]
  },
  {
   "cell_type": "code",
   "execution_count": 12,
   "metadata": {},
   "outputs": [
    {
     "name": "stdout",
     "output_type": "stream",
     "text": [
      "Lo score del modello KNN è di: 80.129 (13.809)\n",
      "Lo score del modello DT è di: 77.379 (11.035)\n"
     ]
    }
   ],
   "source": [
    "# PUNTO 2.6\n",
    "# Riprendo il dataset originale e rielimino i valori di 'unknown'\n",
    "\n",
    "numerical_2 = dataset.copy()\n",
    "# Le colonne categoriche sono le uniche che contengono il valore 'unknonw'\n",
    "columns_name_categoriche = ['job', 'marital','education', 'default', 'housing', 'loan']\n",
    "\n",
    "for name in columns_name_categoriche:\n",
    "    numerical_2 = numerical_2[numerical_2[name] != 'unknown']\n",
    "    dummies =  pd.get_dummies(numerical_2[name])\n",
    "    numerical_2 = pd.concat([numerical_2, dummies], axis = 1)\n",
    "    \n",
    "numerical_2.drop(columns_name_categoriche, axis = 1, inplace = True)\n",
    "\n",
    "\n",
    "numerical_2['y'] = np.where(numerical_2['y'] == 'no', 0, 1)\n",
    "\n",
    "Y_numerical2 = numerical_2['y']\n",
    "X_numerical2 = numerical_2.drop('y', axis = 1)\n",
    "\n",
    "scores = []\n",
    "for name, model in models:\n",
    "    score = cross_val_score(model, X_numerical2, Y_numerical2, cv = 10, scoring = scoring)\n",
    "    scores.append(score)\n",
    "    string = 'Lo score del modello {} è di: {:0.3f} ({:0.3f})'.format(name, score.mean() * 100, \n",
    "                                                                      score.std() * 100)\n",
    "    print(string)"
   ]
  },
  {
   "cell_type": "code",
   "execution_count": 25,
   "metadata": {},
   "outputs": [
    {
     "name": "stdout",
     "output_type": "stream",
     "text": [
      "Accuracy LINEARE REGRESSION: 0.118\n",
      "Confusion Matrix DECISION TREE:\n",
      "[[447 242]\n",
      " [ 20  64]]\n"
     ]
    }
   ],
   "source": [
    "# PUNTO 7\n",
    "linear_regression = LinearRegression()\n",
    "linear_regression.fit(X_train, Y_train)\n",
    "accuracy_LR = linear_regression.score(X_test, Y_test)\n",
    "# Predict\n",
    "y_pred_LR = linear_regression.predict(X_test)\n",
    "y_pred_LR = np.where(y_pred_LR < np.mean(y_pred_LR), 0, 1)\n",
    "confusion_matrix_LR = confusion_matrix(Y_test, y_pred_LR)\n",
    "print('Accuracy LINEARE REGRESSION: {:.03f}'.format(accuracy_LR))\n",
    "print('Confusion Matrix DECISION TREE:\\n{}'.format(confusion_matrix_LR))"
   ]
  },
  {
   "cell_type": "code",
   "execution_count": null,
   "metadata": {},
   "outputs": [],
   "source": []
  }
 ],
 "metadata": {
  "kernelspec": {
   "display_name": "Python 3",
   "language": "python",
   "name": "python3"
  },
  "language_info": {
   "codemirror_mode": {
    "name": "ipython",
    "version": 3
   },
   "file_extension": ".py",
   "mimetype": "text/x-python",
   "name": "python",
   "nbconvert_exporter": "python",
   "pygments_lexer": "ipython3",
   "version": "3.6.4"
  }
 },
 "nbformat": 4,
 "nbformat_minor": 2
}
