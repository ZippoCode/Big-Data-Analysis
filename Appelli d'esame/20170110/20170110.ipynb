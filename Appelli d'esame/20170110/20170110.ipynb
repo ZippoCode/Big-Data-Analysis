{
 "cells": [
  {
   "cell_type": "markdown",
   "metadata": {},
   "source": [
    "## Parte 1"
   ]
  },
  {
   "cell_type": "code",
   "execution_count": 1,
   "metadata": {},
   "outputs": [],
   "source": [
    "import pandas as pd\n",
    "import numpy as np\n",
    "import matplotlib.pyplot as plt\n",
    "from pandas.plotting import scatter_matrix\n",
    "\n",
    "from sklearn.model_selection import train_test_split\n",
    "from sklearn.metrics import confusion_matrix\n",
    "from sklearn.preprocessing import LabelEncoder\n",
    "\n",
    "#Algoritmi\n",
    "from sklearn.naive_bayes import MultinomialNB\n",
    "from sklearn.tree import DecisionTreeClassifier\n",
    "from sklearn.model_selection import cross_val_score\n"
   ]
  },
  {
   "cell_type": "markdown",
   "metadata": {},
   "source": [
    "### Punto 1.1"
   ]
  },
  {
   "cell_type": "code",
   "execution_count": 2,
   "metadata": {},
   "outputs": [
    {
     "data": {
      "text/html": [
       "<div>\n",
       "<style scoped>\n",
       "    .dataframe tbody tr th:only-of-type {\n",
       "        vertical-align: middle;\n",
       "    }\n",
       "\n",
       "    .dataframe tbody tr th {\n",
       "        vertical-align: top;\n",
       "    }\n",
       "\n",
       "    .dataframe thead th {\n",
       "        text-align: right;\n",
       "    }\n",
       "</style>\n",
       "<table border=\"1\" class=\"dataframe\">\n",
       "  <thead>\n",
       "    <tr style=\"text-align: right;\">\n",
       "      <th></th>\n",
       "      <th>satisfaction_level</th>\n",
       "      <th>last_evaluation</th>\n",
       "      <th>number_project</th>\n",
       "      <th>average_montly_hours</th>\n",
       "      <th>time_spend_company</th>\n",
       "      <th>Work_accident</th>\n",
       "      <th>left</th>\n",
       "      <th>promotion_last_5years</th>\n",
       "      <th>sales</th>\n",
       "      <th>salary</th>\n",
       "    </tr>\n",
       "  </thead>\n",
       "  <tbody>\n",
       "    <tr>\n",
       "      <th>0</th>\n",
       "      <td>0.38</td>\n",
       "      <td>0.53</td>\n",
       "      <td>2</td>\n",
       "      <td>157</td>\n",
       "      <td>3</td>\n",
       "      <td>0</td>\n",
       "      <td>1</td>\n",
       "      <td>0</td>\n",
       "      <td>sales</td>\n",
       "      <td>low</td>\n",
       "    </tr>\n",
       "    <tr>\n",
       "      <th>1</th>\n",
       "      <td>0.80</td>\n",
       "      <td>0.86</td>\n",
       "      <td>5</td>\n",
       "      <td>262</td>\n",
       "      <td>6</td>\n",
       "      <td>0</td>\n",
       "      <td>1</td>\n",
       "      <td>0</td>\n",
       "      <td>sales</td>\n",
       "      <td>medium</td>\n",
       "    </tr>\n",
       "    <tr>\n",
       "      <th>2</th>\n",
       "      <td>0.11</td>\n",
       "      <td>0.88</td>\n",
       "      <td>7</td>\n",
       "      <td>272</td>\n",
       "      <td>4</td>\n",
       "      <td>0</td>\n",
       "      <td>1</td>\n",
       "      <td>0</td>\n",
       "      <td>sales</td>\n",
       "      <td>medium</td>\n",
       "    </tr>\n",
       "    <tr>\n",
       "      <th>3</th>\n",
       "      <td>0.72</td>\n",
       "      <td>0.87</td>\n",
       "      <td>5</td>\n",
       "      <td>223</td>\n",
       "      <td>5</td>\n",
       "      <td>0</td>\n",
       "      <td>1</td>\n",
       "      <td>0</td>\n",
       "      <td>sales</td>\n",
       "      <td>low</td>\n",
       "    </tr>\n",
       "    <tr>\n",
       "      <th>4</th>\n",
       "      <td>0.37</td>\n",
       "      <td>0.52</td>\n",
       "      <td>2</td>\n",
       "      <td>159</td>\n",
       "      <td>3</td>\n",
       "      <td>0</td>\n",
       "      <td>1</td>\n",
       "      <td>0</td>\n",
       "      <td>sales</td>\n",
       "      <td>low</td>\n",
       "    </tr>\n",
       "  </tbody>\n",
       "</table>\n",
       "</div>"
      ],
      "text/plain": [
       "   satisfaction_level  last_evaluation  number_project  average_montly_hours  \\\n",
       "0                0.38             0.53               2                   157   \n",
       "1                0.80             0.86               5                   262   \n",
       "2                0.11             0.88               7                   272   \n",
       "3                0.72             0.87               5                   223   \n",
       "4                0.37             0.52               2                   159   \n",
       "\n",
       "   time_spend_company  Work_accident  left  promotion_last_5years  sales  \\\n",
       "0                   3              0     1                      0  sales   \n",
       "1                   6              0     1                      0  sales   \n",
       "2                   4              0     1                      0  sales   \n",
       "3                   5              0     1                      0  sales   \n",
       "4                   3              0     1                      0  sales   \n",
       "\n",
       "   salary  \n",
       "0     low  \n",
       "1  medium  \n",
       "2  medium  \n",
       "3     low  \n",
       "4     low  "
      ]
     },
     "execution_count": 2,
     "metadata": {},
     "output_type": "execute_result"
    }
   ],
   "source": [
    "dataset = pd.read_csv('HR_comma_sep_orig.csv', sep = ',')\n",
    "dataset.head()"
   ]
  },
  {
   "cell_type": "code",
   "execution_count": 3,
   "metadata": {},
   "outputs": [
    {
     "data": {
      "image/png": "[encoded data removed]",
      "text/plain": [
       "<matplotlib.figure.Figure at 0x7f1245f5ce10>"
      ]
     },
     "metadata": {},
     "output_type": "display_data"
    }
   ],
   "source": [
    "# Distrubizione valori\n",
    "dataset.hist(figsize = (16,8), bins = 100)\n",
    "plt.show()"
   ]
  },
  {
   "cell_type": "code",
   "execution_count": 4,
   "metadata": {},
   "outputs": [
    {
     "data": {
      "image/png": "[encoded data removed]",
      "text/plain": [
       "<matplotlib.figure.Figure at 0x7f123df38ac8>"
      ]
     },
     "metadata": {},
     "output_type": "display_data"
    }
   ],
   "source": [
    "## Correlazione delle features tra di loro\n",
    "scatter_matrix(dataset, alpha = 0.8, figsize = (14, 6), diagonal = 'kde')\n",
    "plt.show()"
   ]
  },
  {
   "cell_type": "code",
   "execution_count": 5,
   "metadata": {},
   "outputs": [
    {
     "data": {
      "text/html": [
       "<div>\n",
       "<style scoped>\n",
       "    .dataframe tbody tr th:only-of-type {\n",
       "        vertical-align: middle;\n",
       "    }\n",
       "\n",
       "    .dataframe tbody tr th {\n",
       "        vertical-align: top;\n",
       "    }\n",
       "\n",
       "    .dataframe thead th {\n",
       "        text-align: right;\n",
       "    }\n",
       "</style>\n",
       "<table border=\"1\" class=\"dataframe\">\n",
       "  <thead>\n",
       "    <tr style=\"text-align: right;\">\n",
       "      <th></th>\n",
       "      <th>satisfaction_level</th>\n",
       "      <th>last_evaluation</th>\n",
       "      <th>number_project</th>\n",
       "      <th>average_montly_hours</th>\n",
       "      <th>time_spend_company</th>\n",
       "      <th>Work_accident</th>\n",
       "      <th>left</th>\n",
       "      <th>promotion_last_5years</th>\n",
       "    </tr>\n",
       "  </thead>\n",
       "  <tbody>\n",
       "    <tr>\n",
       "      <th>satisfaction_level</th>\n",
       "      <td>1.000000</td>\n",
       "      <td>0.105021</td>\n",
       "      <td>-0.142970</td>\n",
       "      <td>-0.020048</td>\n",
       "      <td>-0.100866</td>\n",
       "      <td>0.058697</td>\n",
       "      <td>-0.388375</td>\n",
       "      <td>0.025605</td>\n",
       "    </tr>\n",
       "    <tr>\n",
       "      <th>last_evaluation</th>\n",
       "      <td>0.105021</td>\n",
       "      <td>1.000000</td>\n",
       "      <td>0.349333</td>\n",
       "      <td>0.339742</td>\n",
       "      <td>0.131591</td>\n",
       "      <td>-0.007104</td>\n",
       "      <td>0.006567</td>\n",
       "      <td>-0.008684</td>\n",
       "    </tr>\n",
       "    <tr>\n",
       "      <th>number_project</th>\n",
       "      <td>-0.142970</td>\n",
       "      <td>0.349333</td>\n",
       "      <td>1.000000</td>\n",
       "      <td>0.417211</td>\n",
       "      <td>0.196786</td>\n",
       "      <td>-0.004741</td>\n",
       "      <td>0.023787</td>\n",
       "      <td>-0.006064</td>\n",
       "    </tr>\n",
       "    <tr>\n",
       "      <th>average_montly_hours</th>\n",
       "      <td>-0.020048</td>\n",
       "      <td>0.339742</td>\n",
       "      <td>0.417211</td>\n",
       "      <td>1.000000</td>\n",
       "      <td>0.127755</td>\n",
       "      <td>-0.010143</td>\n",
       "      <td>0.071287</td>\n",
       "      <td>-0.003544</td>\n",
       "    </tr>\n",
       "    <tr>\n",
       "      <th>time_spend_company</th>\n",
       "      <td>-0.100866</td>\n",
       "      <td>0.131591</td>\n",
       "      <td>0.196786</td>\n",
       "      <td>0.127755</td>\n",
       "      <td>1.000000</td>\n",
       "      <td>0.002120</td>\n",
       "      <td>0.144822</td>\n",
       "      <td>0.067433</td>\n",
       "    </tr>\n",
       "    <tr>\n",
       "      <th>Work_accident</th>\n",
       "      <td>0.058697</td>\n",
       "      <td>-0.007104</td>\n",
       "      <td>-0.004741</td>\n",
       "      <td>-0.010143</td>\n",
       "      <td>0.002120</td>\n",
       "      <td>1.000000</td>\n",
       "      <td>-0.154622</td>\n",
       "      <td>0.039245</td>\n",
       "    </tr>\n",
       "    <tr>\n",
       "      <th>left</th>\n",
       "      <td>-0.388375</td>\n",
       "      <td>0.006567</td>\n",
       "      <td>0.023787</td>\n",
       "      <td>0.071287</td>\n",
       "      <td>0.144822</td>\n",
       "      <td>-0.154622</td>\n",
       "      <td>1.000000</td>\n",
       "      <td>-0.061788</td>\n",
       "    </tr>\n",
       "    <tr>\n",
       "      <th>promotion_last_5years</th>\n",
       "      <td>0.025605</td>\n",
       "      <td>-0.008684</td>\n",
       "      <td>-0.006064</td>\n",
       "      <td>-0.003544</td>\n",
       "      <td>0.067433</td>\n",
       "      <td>0.039245</td>\n",
       "      <td>-0.061788</td>\n",
       "      <td>1.000000</td>\n",
       "    </tr>\n",
       "  </tbody>\n",
       "</table>\n",
       "</div>"
      ],
      "text/plain": [
       "                       satisfaction_level  last_evaluation  number_project  \\\n",
       "satisfaction_level               1.000000         0.105021       -0.142970   \n",
       "last_evaluation                  0.105021         1.000000        0.349333   \n",
       "number_project                  -0.142970         0.349333        1.000000   \n",
       "average_montly_hours            -0.020048         0.339742        0.417211   \n",
       "time_spend_company              -0.100866         0.131591        0.196786   \n",
       "Work_accident                    0.058697        -0.007104       -0.004741   \n",
       "left                            -0.388375         0.006567        0.023787   \n",
       "promotion_last_5years            0.025605        -0.008684       -0.006064   \n",
       "\n",
       "                       average_montly_hours  time_spend_company  \\\n",
       "satisfaction_level                -0.020048           -0.100866   \n",
       "last_evaluation                    0.339742            0.131591   \n",
       "number_project                     0.417211            0.196786   \n",
       "average_montly_hours               1.000000            0.127755   \n",
       "time_spend_company                 0.127755            1.000000   \n",
       "Work_accident                     -0.010143            0.002120   \n",
       "left                               0.071287            0.144822   \n",
       "promotion_last_5years             -0.003544            0.067433   \n",
       "\n",
       "                       Work_accident      left  promotion_last_5years  \n",
       "satisfaction_level          0.058697 -0.388375               0.025605  \n",
       "last_evaluation            -0.007104  0.006567              -0.008684  \n",
       "number_project             -0.004741  0.023787              -0.006064  \n",
       "average_montly_hours       -0.010143  0.071287              -0.003544  \n",
       "time_spend_company          0.002120  0.144822               0.067433  \n",
       "Work_accident               1.000000 -0.154622               0.039245  \n",
       "left                       -0.154622  1.000000              -0.061788  \n",
       "promotion_last_5years       0.039245 -0.061788               1.000000  "
      ]
     },
     "execution_count": 5,
     "metadata": {},
     "output_type": "execute_result"
    }
   ],
   "source": [
    "# Correlazione delle features\n",
    "dataset.corr()"
   ]
  },
  {
   "cell_type": "markdown",
   "metadata": {},
   "source": [
    "### Punto 1.2"
   ]
  },
  {
   "cell_type": "code",
   "execution_count": 6,
   "metadata": {},
   "outputs": [
    {
     "name": "stdout",
     "output_type": "stream",
     "text": [
      "Numero istanze: 14999\n",
      "Il numero di valori nulli: 0\n",
      "Sono presenti valori nulli:  False\n",
      "****************************************************************************************************\n",
      "Elementi della classe 1: 3571\n",
      "Elementi della classe 2: 11428\n"
     ]
    }
   ],
   "source": [
    "num_istanze = dataset.shape[0]\n",
    "print('Numero istanze:',num_istanze)\n",
    "# Conto i valori nulla (somma prima sulle righe e poi sulle colonne)\n",
    "num_nan = dataset.isna().sum().sum()\n",
    "print('Il numero di valori nulli:', num_nan)\n",
    "bool_nan = dataset.isna().any().any()\n",
    "print('Sono presenti valori nulli: ', bool_nan == True)\n",
    "print('*' * 100)\n",
    "predict_count = dataset['left'].value_counts()\n",
    "num_0 = predict_count[0]\n",
    "num_1 = predict_count[1]\n",
    "print('Elementi della classe 1: {}\\nElementi della classe 2: {}'.format(num_1, num_0))"
   ]
  },
  {
   "cell_type": "markdown",
   "metadata": {},
   "source": [
    "### Punto 1.3"
   ]
  },
  {
   "cell_type": "code",
   "execution_count": 7,
   "metadata": {},
   "outputs": [
    {
     "name": "stdout",
     "output_type": "stream",
     "text": [
      "Media:\n"
     ]
    },
    {
     "data": {
      "text/html": [
       "<div>\n",
       "<style scoped>\n",
       "    .dataframe tbody tr th:only-of-type {\n",
       "        vertical-align: middle;\n",
       "    }\n",
       "\n",
       "    .dataframe tbody tr th {\n",
       "        vertical-align: top;\n",
       "    }\n",
       "\n",
       "    .dataframe thead th {\n",
       "        text-align: right;\n",
       "    }\n",
       "</style>\n",
       "<table border=\"1\" class=\"dataframe\">\n",
       "  <thead>\n",
       "    <tr style=\"text-align: right;\">\n",
       "      <th>promotion_last_5years</th>\n",
       "      <th>0</th>\n",
       "      <th>1</th>\n",
       "    </tr>\n",
       "    <tr>\n",
       "      <th>left</th>\n",
       "      <th></th>\n",
       "      <th></th>\n",
       "    </tr>\n",
       "  </thead>\n",
       "  <tbody>\n",
       "    <tr>\n",
       "      <th>0</th>\n",
       "      <td>0.666766</td>\n",
       "      <td>0.668433</td>\n",
       "    </tr>\n",
       "    <tr>\n",
       "      <th>1</th>\n",
       "      <td>0.439992</td>\n",
       "      <td>0.460000</td>\n",
       "    </tr>\n",
       "  </tbody>\n",
       "</table>\n",
       "</div>"
      ],
      "text/plain": [
       "promotion_last_5years         0         1\n",
       "left                                     \n",
       "0                      0.666766  0.668433\n",
       "1                      0.439992  0.460000"
      ]
     },
     "execution_count": 7,
     "metadata": {},
     "output_type": "execute_result"
    }
   ],
   "source": [
    "mean = dataset.groupby(['left', 'promotion_last_5years'])['satisfaction_level'].mean().unstack()\n",
    "print('Media:')\n",
    "mean"
   ]
  },
  {
   "cell_type": "code",
   "execution_count": 8,
   "metadata": {},
   "outputs": [
    {
     "name": "stdout",
     "output_type": "stream",
     "text": [
      "Mediana:\n"
     ]
    },
    {
     "data": {
      "text/html": [
       "<div>\n",
       "<style scoped>\n",
       "    .dataframe tbody tr th:only-of-type {\n",
       "        vertical-align: middle;\n",
       "    }\n",
       "\n",
       "    .dataframe tbody tr th {\n",
       "        vertical-align: top;\n",
       "    }\n",
       "\n",
       "    .dataframe thead th {\n",
       "        text-align: right;\n",
       "    }\n",
       "</style>\n",
       "<table border=\"1\" class=\"dataframe\">\n",
       "  <thead>\n",
       "    <tr style=\"text-align: right;\">\n",
       "      <th>promotion_last_5years</th>\n",
       "      <th>0</th>\n",
       "      <th>1</th>\n",
       "    </tr>\n",
       "    <tr>\n",
       "      <th>left</th>\n",
       "      <th></th>\n",
       "      <th></th>\n",
       "    </tr>\n",
       "  </thead>\n",
       "  <tbody>\n",
       "    <tr>\n",
       "      <th>0</th>\n",
       "      <td>0.69</td>\n",
       "      <td>0.695</td>\n",
       "    </tr>\n",
       "    <tr>\n",
       "      <th>1</th>\n",
       "      <td>0.41</td>\n",
       "      <td>0.440</td>\n",
       "    </tr>\n",
       "  </tbody>\n",
       "</table>\n",
       "</div>"
      ],
      "text/plain": [
       "promotion_last_5years     0      1\n",
       "left                              \n",
       "0                      0.69  0.695\n",
       "1                      0.41  0.440"
      ]
     },
     "execution_count": 8,
     "metadata": {},
     "output_type": "execute_result"
    }
   ],
   "source": [
    "median = dataset.groupby(['left', 'promotion_last_5years'])['satisfaction_level'].median().unstack()\n",
    "print('Mediana:')\n",
    "median"
   ]
  },
  {
   "cell_type": "markdown",
   "metadata": {},
   "source": [
    "### Punto 1.4"
   ]
  },
  {
   "cell_type": "code",
   "execution_count": 9,
   "metadata": {},
   "outputs": [
    {
     "name": "stdout",
     "output_type": "stream",
     "text": [
      "Mediana: 0.640\n"
     ]
    },
    {
     "data": {
      "image/png": "[encoded data removed]",
      "text/plain": [
       "<matplotlib.figure.Figure at 0x7f123d7e2358>"
      ]
     },
     "metadata": {},
     "output_type": "display_data"
    },
    {
     "name": "stdout",
     "output_type": "stream",
     "text": [
      "****************************************************************************************************\n",
      "Le caratteristiche di questo blocco di dipendenti sono:\n",
      "satisfaction_level         0.129832\n",
      "last_evaluation            0.803935\n",
      "number_project             5.484790\n",
      "average_montly_hours     246.174110\n",
      "time_spend_company         4.238188\n",
      "Work_accident              0.102265\n",
      "left                       0.598706\n",
      "promotion_last_5years      0.010356\n",
      "Name: 0.0 - 0.1, dtype: float64\n"
     ]
    }
   ],
   "source": [
    "print('Mediana: {:.3f}'.format(dataset['satisfaction_level'].median()))\n",
    "\n",
    "array_satisfaction = dataset['satisfaction_level']\n",
    "array_satisfaction.hist(figsize=(8, 4), bins = 100)\n",
    "plt.xlabel('Valore di soddisfazione')\n",
    "plt.ylabel('Numero di dipendenti')\n",
    "plt.show()\n",
    "\n",
    "# Creo le labels in automatico\n",
    "labels = []\n",
    "num_chunks = 10\n",
    "for i in np.arange(0.0, 1.0, 0.1): # Va a 0.0 a 1.0 a step di 0.1\n",
    "    label = '{:0.2} - {:0.2}'.format(i, i + 0.1)\n",
    "    labels.append(label)\n",
    "\n",
    "#satisfaction_grouped = pd.cut(dataset['satisfaction_level'], np.arange(0, 1.01, 0.1))\n",
    "# Raggruppo i valori in 10 range 0.1 a 1.0\n",
    "satisfaction_grouped = pd.qcut(dataset['satisfaction_level'], num_chunks, labels)\n",
    "# Calcolo i valori medi di ogni gruppo\n",
    "dataset_mean_sg = dataset.groupby(satisfaction_grouped).mean()\n",
    "# Prendo il gruppo con soddisfazione minima\n",
    "min_satisfaction = dataset_mean_sg.iloc[0]\n",
    "print('*' * 100)\n",
    "print('Le caratteristiche di questo blocco di dipendenti sono:\\n{}'.format(min_satisfaction))"
   ]
  },
  {
   "cell_type": "markdown",
   "metadata": {},
   "source": [
    "### Punto 1.5"
   ]
  },
  {
   "cell_type": "code",
   "execution_count": 10,
   "metadata": {},
   "outputs": [
    {
     "data": {
      "image/png": "[encoded data removed]",
      "text/plain": [
       "<matplotlib.figure.Figure at 0x7f1245f5ccf8>"
      ]
     },
     "metadata": {},
     "output_type": "display_data"
    },
    {
     "name": "stdout",
     "output_type": "stream",
     "text": [
      "****************************************************************************************************\n",
      "Il numero di dipendenti con salario inferiore a 0.22 hanno un salario\n",
      "Alto: 92\n",
      "Medio: 620\n",
      "Basso: 833\n"
     ]
    }
   ],
   "source": [
    "# Prendo il valore di soddisfazione minimo del secondo blocco\n",
    "min_satisfacion_for_range = dataset['satisfaction_level'].groupby(satisfaction_grouped).min()\n",
    "min_satisfaction = min_satisfacion_for_range.iloc[1]\n",
    "# Ricerco i dipendenti che hanno un valore di soffisfazione minore di tale soglia\n",
    "dip_ins = dataset[dataset['satisfaction_level'] < min_satisfaction]\n",
    "salary = dip_ins.groupby(['salary']).size()\n",
    "salary.plot(kind = 'bar')\n",
    "plt.xlabel('Salario')\n",
    "plt.ylabel('Numero dei dipendenti')\n",
    "plt.show()\n",
    "print('*' * 100)\n",
    "salary_high = salary['high']\n",
    "salary_medium = salary['medium']\n",
    "salary_low = salary['low']\n",
    "print('Il numero di dipendenti con salario inferiore a {} hanno un salario'.format(min_satisfaction))\n",
    "print('Alto: {}'.format(salary_high))\n",
    "print('Medio: {}'.format(salary_medium))\n",
    "print('Basso: {}'.format(salary_low))"
   ]
  },
  {
   "cell_type": "markdown",
   "metadata": {},
   "source": [
    "### Punto 1.5"
   ]
  },
  {
   "cell_type": "code",
   "execution_count": 11,
   "metadata": {},
   "outputs": [
    {
     "name": "stdout",
     "output_type": "stream",
     "text": [
      "I settori in cui i dipendenti sono maggiormente insoddisfatti\n",
      "['sales' 'technical' 'support' 'IT' 'accounting']\n",
      "****************************************************************************************************\n",
      "In particolare si ha la seguente corrispondenza\n",
      "sales\n",
      "sales         428\n",
      "technical     312\n",
      "support       211\n",
      "IT            131\n",
      "accounting     91\n",
      "dtype: int64\n"
     ]
    }
   ],
   "source": [
    "#Calcolo i settori\n",
    "series_sales = dip_ins.groupby(dip_ins['sales'], as_index = False).size()\n",
    "# Li ordino per valore\n",
    "series_sales = series_sales.sort_values(ascending = False)\n",
    "# Nomi settori\n",
    "names_sales = series_sales.index.values\n",
    "# Prendo i primi cinque valori\n",
    "max_sales = names_sales[: 5]\n",
    "print('I settori in cui i dipendenti sono maggiormente insoddisfatti\\n{}'.format(max_sales))\n",
    "print('*' * 100)\n",
    "print('In particolare si ha la seguente corrispondenza\\n{}'.format(series_sales.head()))"
   ]
  },
  {
   "cell_type": "markdown",
   "metadata": {},
   "source": [
    "### Punto 2.1"
   ]
  },
  {
   "cell_type": "code",
   "execution_count": 12,
   "metadata": {},
   "outputs": [
    {
     "name": "stdout",
     "output_type": "stream",
     "text": [
      "Aggiungo: satisfaction_level\n",
      "Aggiungo: last_evaluation\n",
      "Aggiungo: number_project\n",
      "Aggiungo: average_montly_hours\n",
      "Aggiungo: time_spend_company\n",
      "Aggiungo: Work_accident\n",
      "Aggiungo: left\n",
      "Aggiungo: promotion_last_5years\n"
     ]
    },
    {
     "data": {
      "text/html": [
       "<div>\n",
       "<style scoped>\n",
       "    .dataframe tbody tr th:only-of-type {\n",
       "        vertical-align: middle;\n",
       "    }\n",
       "\n",
       "    .dataframe tbody tr th {\n",
       "        vertical-align: top;\n",
       "    }\n",
       "\n",
       "    .dataframe thead th {\n",
       "        text-align: right;\n",
       "    }\n",
       "</style>\n",
       "<table border=\"1\" class=\"dataframe\">\n",
       "  <thead>\n",
       "    <tr style=\"text-align: right;\">\n",
       "      <th></th>\n",
       "      <th>satisfaction_level</th>\n",
       "      <th>last_evaluation</th>\n",
       "      <th>number_project</th>\n",
       "      <th>average_montly_hours</th>\n",
       "      <th>time_spend_company</th>\n",
       "      <th>Work_accident</th>\n",
       "      <th>left</th>\n",
       "      <th>promotion_last_5years</th>\n",
       "    </tr>\n",
       "  </thead>\n",
       "  <tbody>\n",
       "    <tr>\n",
       "      <th>0</th>\n",
       "      <td>0.38</td>\n",
       "      <td>0.53</td>\n",
       "      <td>2</td>\n",
       "      <td>157</td>\n",
       "      <td>3</td>\n",
       "      <td>0</td>\n",
       "      <td>1</td>\n",
       "      <td>0</td>\n",
       "    </tr>\n",
       "    <tr>\n",
       "      <th>1</th>\n",
       "      <td>0.80</td>\n",
       "      <td>0.86</td>\n",
       "      <td>5</td>\n",
       "      <td>262</td>\n",
       "      <td>6</td>\n",
       "      <td>0</td>\n",
       "      <td>1</td>\n",
       "      <td>0</td>\n",
       "    </tr>\n",
       "    <tr>\n",
       "      <th>2</th>\n",
       "      <td>0.11</td>\n",
       "      <td>0.88</td>\n",
       "      <td>7</td>\n",
       "      <td>272</td>\n",
       "      <td>4</td>\n",
       "      <td>0</td>\n",
       "      <td>1</td>\n",
       "      <td>0</td>\n",
       "    </tr>\n",
       "    <tr>\n",
       "      <th>3</th>\n",
       "      <td>0.72</td>\n",
       "      <td>0.87</td>\n",
       "      <td>5</td>\n",
       "      <td>223</td>\n",
       "      <td>5</td>\n",
       "      <td>0</td>\n",
       "      <td>1</td>\n",
       "      <td>0</td>\n",
       "    </tr>\n",
       "    <tr>\n",
       "      <th>4</th>\n",
       "      <td>0.37</td>\n",
       "      <td>0.52</td>\n",
       "      <td>2</td>\n",
       "      <td>159</td>\n",
       "      <td>3</td>\n",
       "      <td>0</td>\n",
       "      <td>1</td>\n",
       "      <td>0</td>\n",
       "    </tr>\n",
       "  </tbody>\n",
       "</table>\n",
       "</div>"
      ],
      "text/plain": [
       "   satisfaction_level  last_evaluation  number_project  average_montly_hours  \\\n",
       "0                0.38             0.53               2                   157   \n",
       "1                0.80             0.86               5                   262   \n",
       "2                0.11             0.88               7                   272   \n",
       "3                0.72             0.87               5                   223   \n",
       "4                0.37             0.52               2                   159   \n",
       "\n",
       "   time_spend_company  Work_accident  left  promotion_last_5years  \n",
       "0                   3              0     1                      0  \n",
       "1                   6              0     1                      0  \n",
       "2                   4              0     1                      0  \n",
       "3                   5              0     1                      0  \n",
       "4                   3              0     1                      0  "
      ]
     },
     "execution_count": 12,
     "metadata": {},
     "output_type": "execute_result"
    }
   ],
   "source": [
    "reduced = pd.DataFrame()\n",
    "\n",
    "# Prendo solo le colonne con valori numerici\n",
    "for column in dataset.columns:\n",
    "    if dataset[column].dtypes != 'object':\n",
    "        print('Aggiungo:', column)\n",
    "        reduced = pd.concat([reduced, dataset[column]], axis = 1)\n",
    "reduced.head()"
   ]
  },
  {
   "cell_type": "code",
   "execution_count": 13,
   "metadata": {},
   "outputs": [
    {
     "data": {
      "text/html": [
       "<div>\n",
       "<style scoped>\n",
       "    .dataframe tbody tr th:only-of-type {\n",
       "        vertical-align: middle;\n",
       "    }\n",
       "\n",
       "    .dataframe tbody tr th {\n",
       "        vertical-align: top;\n",
       "    }\n",
       "\n",
       "    .dataframe thead th {\n",
       "        text-align: right;\n",
       "    }\n",
       "</style>\n",
       "<table border=\"1\" class=\"dataframe\">\n",
       "  <thead>\n",
       "    <tr style=\"text-align: right;\">\n",
       "      <th></th>\n",
       "      <th>satisfaction_level</th>\n",
       "      <th>last_evaluation</th>\n",
       "      <th>number_project</th>\n",
       "      <th>average_montly_hours</th>\n",
       "      <th>time_spend_company</th>\n",
       "      <th>Work_accident</th>\n",
       "      <th>left</th>\n",
       "      <th>promotion_last_5years</th>\n",
       "      <th>sales</th>\n",
       "      <th>salary</th>\n",
       "    </tr>\n",
       "  </thead>\n",
       "  <tbody>\n",
       "    <tr>\n",
       "      <th>0</th>\n",
       "      <td>0.38</td>\n",
       "      <td>0.53</td>\n",
       "      <td>2</td>\n",
       "      <td>157</td>\n",
       "      <td>3</td>\n",
       "      <td>0</td>\n",
       "      <td>1</td>\n",
       "      <td>0</td>\n",
       "      <td>7</td>\n",
       "      <td>1</td>\n",
       "    </tr>\n",
       "    <tr>\n",
       "      <th>1</th>\n",
       "      <td>0.80</td>\n",
       "      <td>0.86</td>\n",
       "      <td>5</td>\n",
       "      <td>262</td>\n",
       "      <td>6</td>\n",
       "      <td>0</td>\n",
       "      <td>1</td>\n",
       "      <td>0</td>\n",
       "      <td>7</td>\n",
       "      <td>2</td>\n",
       "    </tr>\n",
       "    <tr>\n",
       "      <th>2</th>\n",
       "      <td>0.11</td>\n",
       "      <td>0.88</td>\n",
       "      <td>7</td>\n",
       "      <td>272</td>\n",
       "      <td>4</td>\n",
       "      <td>0</td>\n",
       "      <td>1</td>\n",
       "      <td>0</td>\n",
       "      <td>7</td>\n",
       "      <td>2</td>\n",
       "    </tr>\n",
       "    <tr>\n",
       "      <th>3</th>\n",
       "      <td>0.72</td>\n",
       "      <td>0.87</td>\n",
       "      <td>5</td>\n",
       "      <td>223</td>\n",
       "      <td>5</td>\n",
       "      <td>0</td>\n",
       "      <td>1</td>\n",
       "      <td>0</td>\n",
       "      <td>7</td>\n",
       "      <td>1</td>\n",
       "    </tr>\n",
       "    <tr>\n",
       "      <th>4</th>\n",
       "      <td>0.37</td>\n",
       "      <td>0.52</td>\n",
       "      <td>2</td>\n",
       "      <td>159</td>\n",
       "      <td>3</td>\n",
       "      <td>0</td>\n",
       "      <td>1</td>\n",
       "      <td>0</td>\n",
       "      <td>7</td>\n",
       "      <td>1</td>\n",
       "    </tr>\n",
       "  </tbody>\n",
       "</table>\n",
       "</div>"
      ],
      "text/plain": [
       "   satisfaction_level  last_evaluation  number_project  average_montly_hours  \\\n",
       "0                0.38             0.53               2                   157   \n",
       "1                0.80             0.86               5                   262   \n",
       "2                0.11             0.88               7                   272   \n",
       "3                0.72             0.87               5                   223   \n",
       "4                0.37             0.52               2                   159   \n",
       "\n",
       "   time_spend_company  Work_accident  left  promotion_last_5years  sales  \\\n",
       "0                   3              0     1                      0      7   \n",
       "1                   6              0     1                      0      7   \n",
       "2                   4              0     1                      0      7   \n",
       "3                   5              0     1                      0      7   \n",
       "4                   3              0     1                      0      7   \n",
       "\n",
       "   salary  \n",
       "0       1  \n",
       "1       2  \n",
       "2       2  \n",
       "3       1  \n",
       "4       1  "
      ]
     },
     "execution_count": 13,
     "metadata": {},
     "output_type": "execute_result"
    }
   ],
   "source": [
    "df = dataset.copy()\n",
    "\n",
    "label = LabelEncoder()\n",
    "\n",
    "# Trasformo le colonne con valori non numerici\n",
    "for column in df.columns:\n",
    "    if df[column].dtype == 'object':\n",
    "        df[column] = df[[column]].apply(label.fit_transform)\n",
    "        \n",
    "df.head()"
   ]
  },
  {
   "cell_type": "markdown",
   "metadata": {},
   "source": [
    "### Punto 2.3"
   ]
  },
  {
   "cell_type": "code",
   "execution_count": 23,
   "metadata": {},
   "outputs": [
    {
     "name": "stdout",
     "output_type": "stream",
     "text": [
      "Accuracy MULTINOMIAL NB: 0.752\n"
     ]
    }
   ],
   "source": [
    "test_size = 0.33\n",
    "random_state = 103\n",
    "# SOLUZIONE PROBLEMA DOPPIA COLONNA 'left': LA DROPPO IN UN DATAFRAME\n",
    "reduced_left = reduced.drop('left', axis = 1)\n",
    "train, test = train_test_split(pd.concat([df, reduced_left], axis = 1), test_size = test_size, \n",
    "                               random_state = random_state)\n",
    "\n",
    "# Costruisco il dataset per il training e il target\n",
    "X_train = train.drop('left', axis = 1)\n",
    "Y_train = train['left']\n",
    "X_test = test.drop('left', axis = 1)\n",
    "Y_test = test['left']\n",
    "\n",
    "# Fit\n",
    "multinomial_NB = MultinomialNB()\n",
    "multinomial_NB.fit(X_train, Y_train)\n",
    "\n",
    "# Viene chiesto più volte di valutare l'accuracy quindi definisco una funzione\n",
    "def valutatore_accuracy(X_train, X_test, Y_train, Y_test, model):\n",
    "    model.fit(X_train, Y_train)\n",
    "    print('Accuracy: {:0.3f} '.format(model.score(X_test, Y_test)))\n",
    "    print('Confusion Matrix: \\n', confusion_matrix(Y_test, model.predict(X_test)))\n",
    "    \n",
    "score_MNB = multinomial_NB.score(X_test, Y_test)\n",
    "print('Accuracy MULTINOMIAL NB: {:0.3f}'.format(score_MNB))"
   ]
  },
  {
   "cell_type": "markdown",
   "metadata": {},
   "source": [
    "### Punto 2.4"
   ]
  },
  {
   "cell_type": "code",
   "execution_count": 24,
   "metadata": {},
   "outputs": [
    {
     "name": "stdout",
     "output_type": "stream",
     "text": [
      "Confusion Matrix: \n",
      " [[3723   72]\n",
      " [1155    0]]\n"
     ]
    }
   ],
   "source": [
    "# Calcola la confusion matrix del Muntinomial NB\n",
    "cm_BNB = confusion_matrix(Y_test, multinomial_NB.predict(X_test))\n",
    "print('Confusion Matrix: \\n', cm_BNB)"
   ]
  },
  {
   "cell_type": "markdown",
   "metadata": {},
   "source": [
    "### Punto 2.5"
   ]
  },
  {
   "cell_type": "code",
   "execution_count": 26,
   "metadata": {},
   "outputs": [
    {
     "name": "stdout",
     "output_type": "stream",
     "text": [
      "Accuracy: 0.974 \n",
      "Confusion Matrix: \n",
      " [[3701   94]\n",
      " [  34 1121]]\n"
     ]
    }
   ],
   "source": [
    "# Valuto un classificatore di tipo Decision Tree\n",
    "decision_tree = DecisionTreeClassifier()\n",
    "valutatore_accuracy(X_train, X_test, Y_train, Y_test, decision_tree)"
   ]
  },
  {
   "cell_type": "markdown",
   "metadata": {},
   "source": [
    "### Punto 2.6"
   ]
  },
  {
   "cell_type": "code",
   "execution_count": 27,
   "metadata": {},
   "outputs": [
    {
     "name": "stdout",
     "output_type": "stream",
     "text": [
      "Accuracy: 74.825 (0.160)\n"
     ]
    }
   ],
   "source": [
    "# Prendo il training e il dataset e li unisco\n",
    "X = pd.concat([X_train, X_test])\n",
    "Y = pd.concat([Y_train, Y_test])\n",
    "\n",
    "seed = 5\n",
    "scoring = 'accuracy'\n",
    "score = cross_val_score(multinomial_NB, X, Y, cv = seed, scoring = scoring)\n",
    "print('Accuracy: {:.3f} ({:.3f})'.format(score.mean() * 100.0, score.std() * 100.0))"
   ]
  },
  {
   "cell_type": "markdown",
   "metadata": {},
   "source": [
    "### Punto 2.7"
   ]
  },
  {
   "cell_type": "code",
   "execution_count": 28,
   "metadata": {},
   "outputs": [
    {
     "name": "stdout",
     "output_type": "stream",
     "text": [
      "Numero di SI: 3571\n",
      "Numero di NO: 11428\n",
      "****************************************************************************************************\n",
      "**************************************************************************************************** \n",
      "VALUTO LA CROSS VALIDATION\n",
      "Accuracy MNB: 74.503 (1.387)\n",
      "Accuracy DT: 96.415 (1.443)\n"
     ]
    },
    {
     "data": {
      "image/png": "[encoded data removed]",
      "text/plain": [
       "<matplotlib.figure.Figure at 0x7f123e078748>"
      ]
     },
     "metadata": {},
     "output_type": "display_data"
    }
   ],
   "source": [
    "left_yn = Y.value_counts()\n",
    "left_yes = left_yn[1]\n",
    "left_no = left_yn[0]\n",
    "print('Numero di SI: {}\\nNumero di NO: {}'.format(left_yes, left_no))\n",
    "dataset_yes = df[df['left'] == 0].sample(n = left_yes, replace = False)\n",
    "dataset_no = df[df['left'] == 1]\n",
    "print('*' * 100)\n",
    "\n",
    "dataset_bal = pd.concat([dataset_yes, dataset_no])\n",
    "\n",
    "X_bal = dataset_bal.drop('left', axis = 1)\n",
    "Y_bal = dataset_bal['left']\n",
    "\n",
    "models = []\n",
    "models.append(('MNB', MultinomialNB()))\n",
    "models.append(('DT', DecisionTreeClassifier()))\n",
    "\n",
    "# Metodo per valutare l'accuracy tramite la cross validation (viene chiesta più volte quindi creo il metodo)\n",
    "def valuta_cvs(X, Y, figure = False):\n",
    "    print('*' * 100, '\\nVALUTO LA CROSS VALIDATION')\n",
    "    seed = 5\n",
    "    scoring = 'accuracy'\n",
    "    scores = []\n",
    "    names = []\n",
    "    for name, model in models:\n",
    "        score = cross_val_score(model, X, Y, cv = seed, scoring = scoring)\n",
    "        scores.append(score)\n",
    "        names.append(name)\n",
    "        print('Accuracy {}: {:.3f} ({:.3f})'.format(name, score.mean() * 100.0, score.std() * 100.0))\n",
    "    if(figure):\n",
    "        fig = plt.figure()\n",
    "        fig.suptitle('Algoritmi')\n",
    "        ax = fig.add_subplot(111)\n",
    "        plt.boxplot(scores)\n",
    "        ax.set_xticklabels(name)\n",
    "        plt.show()\n",
    "    \n",
    "valuta_cvs(X_bal, Y_bal, True)"
   ]
  },
  {
   "cell_type": "code",
   "execution_count": 30,
   "metadata": {},
   "outputs": [
    {
     "name": "stdout",
     "output_type": "stream",
     "text": [
      "Elaboro la colonna: sales\n",
      "Elaboro la colonna: salary\n",
      "**************************************************************************************************** \n",
      "VALUTO LA CROSS VALIDATION\n",
      "Accuracy MNB: 75.712 (0.977)\n",
      "Accuracy DT: 97.447 (0.981)\n"
     ]
    }
   ],
   "source": [
    "# Copia dataset\n",
    "df_dummy = dataset.copy()\n",
    "\n",
    "# Costruisco i dummies\n",
    "for column in df_dummy.columns:\n",
    "    if df_dummy[column].dtypes == 'object':\n",
    "        print('Elaboro la colonna:', column)\n",
    "        dummies = (pd.get_dummies(df_dummy[column]))\n",
    "        df_dummy.drop(column, axis = 1, inplace = True)\n",
    "        df_dummy = pd.concat([df_dummy, dummies], axis = 1)\n",
    "        \n",
    "X_dummies = df_dummy.drop('left', axis = 1)\n",
    "Y_dummies = df_dummy['left']\n",
    "\n",
    "valuta_cvs(X_dummies, Y_dummies)"
   ]
  },
  {
   "cell_type": "markdown",
   "metadata": {},
   "source": [
    "### Punto 2.9"
   ]
  },
  {
   "cell_type": "code",
   "execution_count": 31,
   "metadata": {},
   "outputs": [
    {
     "name": "stdout",
     "output_type": "stream",
     "text": [
      "**************************************************************************************************** \n",
      "VALUTO LA CROSS VALIDATION\n",
      "Accuracy MNB: 75.365 (1.654)\n",
      "Accuracy DT: 97.207 (0.984)\n"
     ]
    }
   ],
   "source": [
    "# Copia del dataset\n",
    "df_oneofv = df.copy()\n",
    "\n",
    "labels = [1, 2, 3, 4, 5, 6]\n",
    "num = 6\n",
    "df_oneofv['average_montly_hours'] = pd.qcut(df_oneofv['average_montly_hours'], q = num, labels= labels)\n",
    "\n",
    "X_oneofv = df_oneofv.drop('left', axis = 1)\n",
    "Y_oneofv = df_oneofv['left']\n",
    "\n",
    "# Valutazione\n",
    "valuta_cvs(X_oneofv, Y_oneofv)"
   ]
  },
  {
   "cell_type": "markdown",
   "metadata": {},
   "source": [
    "### Punto 2.10"
   ]
  },
  {
   "cell_type": "code",
   "execution_count": 32,
   "metadata": {},
   "outputs": [
    {
     "name": "stdout",
     "output_type": "stream",
     "text": [
      "**************************************************************************************************** \n",
      "VALUTO LA CROSS VALIDATION\n",
      "Accuracy MNB: 75.525 (1.334)\n",
      "Accuracy DT: 97.500 (0.767)\n"
     ]
    }
   ],
   "source": [
    "dfz = df.copy()\n",
    "\n",
    "# Creo una nuova colonna come prodotto tra l'ultima valutazione e il numero di progetti\n",
    "dfz['num_proj_eva'] = dfz['number_project'] * dfz['average_montly_hours'] * dfz['last_evaluation']\n",
    "\n",
    "# Trasformo il tempo medio in one in un mese tra 0 e 1\n",
    "from sklearn.preprocessing import MinMaxScaler\n",
    "scaler = MinMaxScaler()\n",
    "dfz['average_montly_hours'] = scaler.fit_transform(dfz[['average_montly_hours']])\n",
    "dfz['num_proj_eva'] = scaler.fit_transform(dfz[['num_proj_eva']])\n",
    "\n",
    "\n",
    "X = dfz.drop('left', axis = 1)\n",
    "Y = dfz['left']\n",
    "valuta_cvs(X, Y)"
   ]
  },
  {
   "cell_type": "code",
   "execution_count": null,
   "metadata": {},
   "outputs": [],
   "source": []
  }
 ],
 "metadata": {
  "kernelspec": {
   "display_name": "Python 3",
   "language": "python",
   "name": "python3"
  },
  "language_info": {
   "codemirror_mode": {
    "name": "ipython",
    "version": 3
   },
   "file_extension": ".py",
   "mimetype": "text/x-python",
   "name": "python",
   "nbconvert_exporter": "python",
   "pygments_lexer": "ipython3",
   "version": "3.6.4"
  }
 },
 "nbformat": 4,
 "nbformat_minor": 2
}
