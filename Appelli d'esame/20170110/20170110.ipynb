{
 "cells": [
  {
   "cell_type": "markdown",
   "metadata": {},
   "source": [
    "## Parte 0"
   ]
  },
  {
   "cell_type": "code",
   "execution_count": 1,
   "metadata": {
    "collapsed": true
   },
   "outputs": [],
   "source": [
    "\"\"\"\n",
    "Parte 0: Il Dataset\n",
    "\n",
    "    Il datataset contiene dati che descrivono i dipendenti di una impresa secondo le seguenti\n",
    "    feature (l’ordine delle feature nel dataset potrebbe essere diverso):\n",
    "        1. Employee satisfaction level\n",
    "        2. Last evaluation\n",
    "        3. Number of projects\n",
    "        4. Average monthly hours\n",
    "        5. Time spent at the company\n",
    "        6. Whether they have had a work accident\n",
    "        7. Whether they have had a promotion in the last 5 years\n",
    "        8. Sales\n",
    "        9. Salary\n",
    "        10. Whether the employee has left\n",
    "        \n",
    "Scopo finale del dataset è predire se un dipendente abbandonerà o meno l’impresa.\n",
    "\n",
    "\"\"\"\n",
    "# IMPORT\n",
    "import pandas as pd\n",
    "import numpy as np\n",
    "import matplotlib.pyplot as plt\n",
    "\n",
    "from sklearn.preprocessing import LabelEncoder\n",
    "from sklearn.model_selection import (train_test_split, cross_val_score)\n",
    "from sklearn.naive_bayes import MultinomialNB\n",
    "from sklearn.tree import DecisionTreeClassifier\n",
    "\n",
    "from sklearn.metrics import (accuracy_score, confusion_matrix)\n",
    "\n",
    "%matplotlib inline"
   ]
  },
  {
   "cell_type": "markdown",
   "metadata": {},
   "source": [
    "## Parte 1"
   ]
  },
  {
   "cell_type": "markdown",
   "metadata": {},
   "source": [
    "### Punto 1.1"
   ]
  },
  {
   "cell_type": "code",
   "execution_count": 2,
   "metadata": {},
   "outputs": [
    {
     "data": {
      "text/html": [
       "<div>\n",
       "<style>\n",
       "    .dataframe thead tr:only-child th {\n",
       "        text-align: right;\n",
       "    }\n",
       "\n",
       "    .dataframe thead th {\n",
       "        text-align: left;\n",
       "    }\n",
       "\n",
       "    .dataframe tbody tr th {\n",
       "        vertical-align: top;\n",
       "    }\n",
       "</style>\n",
       "<table border=\"1\" class=\"dataframe\">\n",
       "  <thead>\n",
       "    <tr style=\"text-align: right;\">\n",
       "      <th></th>\n",
       "      <th>satisfaction_level</th>\n",
       "      <th>last_evaluation</th>\n",
       "      <th>number_project</th>\n",
       "      <th>average_montly_hours</th>\n",
       "      <th>time_spend_company</th>\n",
       "      <th>Work_accident</th>\n",
       "      <th>left</th>\n",
       "      <th>promotion_last_5years</th>\n",
       "      <th>sales</th>\n",
       "      <th>salary</th>\n",
       "    </tr>\n",
       "  </thead>\n",
       "  <tbody>\n",
       "    <tr>\n",
       "      <th>0</th>\n",
       "      <td>0.38</td>\n",
       "      <td>0.53</td>\n",
       "      <td>2</td>\n",
       "      <td>157</td>\n",
       "      <td>3</td>\n",
       "      <td>0</td>\n",
       "      <td>1</td>\n",
       "      <td>0</td>\n",
       "      <td>sales</td>\n",
       "      <td>low</td>\n",
       "    </tr>\n",
       "    <tr>\n",
       "      <th>1</th>\n",
       "      <td>0.80</td>\n",
       "      <td>0.86</td>\n",
       "      <td>5</td>\n",
       "      <td>262</td>\n",
       "      <td>6</td>\n",
       "      <td>0</td>\n",
       "      <td>1</td>\n",
       "      <td>0</td>\n",
       "      <td>sales</td>\n",
       "      <td>medium</td>\n",
       "    </tr>\n",
       "    <tr>\n",
       "      <th>2</th>\n",
       "      <td>0.11</td>\n",
       "      <td>0.88</td>\n",
       "      <td>7</td>\n",
       "      <td>272</td>\n",
       "      <td>4</td>\n",
       "      <td>0</td>\n",
       "      <td>1</td>\n",
       "      <td>0</td>\n",
       "      <td>sales</td>\n",
       "      <td>medium</td>\n",
       "    </tr>\n",
       "    <tr>\n",
       "      <th>3</th>\n",
       "      <td>0.72</td>\n",
       "      <td>0.87</td>\n",
       "      <td>5</td>\n",
       "      <td>223</td>\n",
       "      <td>5</td>\n",
       "      <td>0</td>\n",
       "      <td>1</td>\n",
       "      <td>0</td>\n",
       "      <td>sales</td>\n",
       "      <td>low</td>\n",
       "    </tr>\n",
       "    <tr>\n",
       "      <th>4</th>\n",
       "      <td>0.37</td>\n",
       "      <td>0.52</td>\n",
       "      <td>2</td>\n",
       "      <td>159</td>\n",
       "      <td>3</td>\n",
       "      <td>0</td>\n",
       "      <td>1</td>\n",
       "      <td>0</td>\n",
       "      <td>sales</td>\n",
       "      <td>low</td>\n",
       "    </tr>\n",
       "  </tbody>\n",
       "</table>\n",
       "</div>"
      ],
      "text/plain": [
       "   satisfaction_level  last_evaluation  number_project  average_montly_hours  \\\n",
       "0                0.38             0.53               2                   157   \n",
       "1                0.80             0.86               5                   262   \n",
       "2                0.11             0.88               7                   272   \n",
       "3                0.72             0.87               5                   223   \n",
       "4                0.37             0.52               2                   159   \n",
       "\n",
       "   time_spend_company  Work_accident  left  promotion_last_5years  sales  \\\n",
       "0                   3              0     1                      0  sales   \n",
       "1                   6              0     1                      0  sales   \n",
       "2                   4              0     1                      0  sales   \n",
       "3                   5              0     1                      0  sales   \n",
       "4                   3              0     1                      0  sales   \n",
       "\n",
       "   salary  \n",
       "0     low  \n",
       "1  medium  \n",
       "2  medium  \n",
       "3     low  \n",
       "4     low  "
      ]
     },
     "execution_count": 2,
     "metadata": {},
     "output_type": "execute_result"
    }
   ],
   "source": [
    "\"\"\" \n",
    "    Caricare il dataset e denominarlo con una variabile chiamata “dataset”\n",
    "\"\"\"\n",
    "dataset = pd.read_csv('HR_comma_sep_orig.csv')\n",
    "dataset.head()"
   ]
  },
  {
   "cell_type": "code",
   "execution_count": 3,
   "metadata": {
    "scrolled": true
   },
   "outputs": [
    {
     "data": {
      "image/png": "[encoded data removed]",
      "text/plain": [
       "<matplotlib.figure.Figure at 0x7f669f26bf28>"
      ]
     },
     "metadata": {},
     "output_type": "display_data"
    }
   ],
   "source": [
    "# Ai fini della didattica visualizzare le colonne del dataset\n",
    "dataset.hist(figsize = (14, 12), bins = 50)\n",
    "plt.show()"
   ]
  },
  {
   "cell_type": "markdown",
   "metadata": {},
   "source": [
    "### Punto 1.2"
   ]
  },
  {
   "cell_type": "code",
   "execution_count": 4,
   "metadata": {},
   "outputs": [
    {
     "name": "stdout",
     "output_type": "stream",
     "text": [
      "Numero di istanze: 14999\n",
      "****************************************************************************************************\n",
      "Numero di instanze nulle: 0\n",
      "****************************************************************************************************\n",
      "Dipendenti che hanno lasciato la compagnia: 3571\n",
      "Dipendenti che sono rimasti: 11428\n",
      "****************************************************************************************************\n",
      "Dipendenti che hanno avuto una promozione: 319\n",
      "Dipendenti che non hanno avuto una promozione: 14680\n",
      "Il database non è bilanciato.\n",
      "****************************************************************************************************\n",
      "                           satisfaction_level                     \\\n",
      "                                         mean median  amax  amin   \n",
      "left promotion_last_5years                                         \n",
      "0    0                               0.666766  0.690  1.00  0.12   \n",
      "     1                               0.668433  0.695  1.00  0.15   \n",
      "1    0                               0.439992  0.410  0.92  0.09   \n",
      "     1                               0.460000  0.440  0.87  0.11   \n",
      "\n",
      "                           average_montly_hours                   \\\n",
      "                                           mean median amax amin   \n",
      "left promotion_last_5years                                         \n",
      "0    0                               199.001168  198.0  287   96   \n",
      "     1                               201.250000  208.0  286  100   \n",
      "1    0                               207.577984  224.5  310  126   \n",
      "     1                               177.736842  160.0  292  128   \n",
      "\n",
      "                           time_spend_company                   \n",
      "                                         mean median amax amin  \n",
      "left promotion_last_5years                                      \n",
      "0    0                               3.357297      3   10    2  \n",
      "     1                               4.223333      3   10    2  \n",
      "1    0                               3.879786      4    6    2  \n",
      "     1                               3.263158      3    5    3  \n"
     ]
    }
   ],
   "source": [
    "\"\"\"\n",
    "    Quante sono le istanze contenute nel dataset? Il dataset è completo (cioè per ogni istanza tutti \n",
    "    i valori di attributo sono sempre specificati – non esistono “missing values”)? Il dataset è bilanciato \n",
    "    per quanto riguarda la classe da predire? Osservando direttamente i dati, in che modo l’avere avuto\n",
    "    una promozione negli ultimi 5 anni ha influito sulla scelta del dipendente di abbandonare l’impresa.\n",
    "\"\"\"\n",
    "# Calcolo il numero di istanze\n",
    "num_istance = dataset.shape[0]\n",
    "print('Numero di istanze: {}'.format(num_istance))\n",
    "\n",
    "# Calcolo il numero di valori nulli\n",
    "num_for_columns_NaN = dataset.isnull().sum()\n",
    "num_NaN = num_for_columns_NaN.sum()\n",
    "print('*' * 100)\n",
    "print('Numero di instanze nulle: {}'.format(num_NaN))\n",
    "    \n",
    "# Considero ora la colonna 'left' ho una rappresentazione dei dipendenti che sono rimasti e quelli \n",
    "# che se ne sono andati\n",
    "array_left = dataset.groupby(['left']).size()\n",
    "num_yes = array_left[1]\n",
    "num_no = array_left[0]\n",
    "print('*' * 100)\n",
    "print('Dipendenti che hanno lasciato la compagnia: {}'.format(num_yes))\n",
    "print('Dipendenti che sono rimasti: {}'.format(num_no))\n",
    "    \n",
    "# Analizzo i dipendenti che hanno avuto una promozione\n",
    "array_promotion = dataset.groupby(['promotion_last_5years']).size()\n",
    "promotion_yes = array_promotion[1]\n",
    "promotion_no = array_promotion[0]\n",
    "print('*' * 100)\n",
    "print('Dipendenti che hanno avuto una promozione: {}'.format(promotion_yes))\n",
    "print('Dipendenti che non hanno avuto una promozione: {}'.format(promotion_no))\n",
    "print('Il database non è bilanciato.')\n",
    "\n",
    "functions = [np.mean, np.median, np.max, np.min]\n",
    "values = ['left', 'promotion_last_5years','satisfaction_level', 'average_montly_hours', \n",
    "         'time_spend_company']\n",
    "dataset_left_promotion = dataset[values]\n",
    "dataset_left = dataset_left_promotion.groupby(['left', 'promotion_last_5years']).agg(functions)\n",
    "print('*' * 100)\n",
    "print(dataset_left)"
   ]
  },
  {
   "cell_type": "markdown",
   "metadata": {},
   "source": [
    "### Punto 1.3"
   ]
  },
  {
   "cell_type": "code",
   "execution_count": 5,
   "metadata": {},
   "outputs": [
    {
     "name": "stdout",
     "output_type": "stream",
     "text": [
      "Soddisfazione media: 0.613\n",
      "Mediana: 0.640\n"
     ]
    },
    {
     "data": {
      "image/png": "[encoded data removed]",
      "text/plain": [
       "<matplotlib.figure.Figure at 0x7f669eec7438>"
      ]
     },
     "metadata": {},
     "output_type": "display_data"
    },
    {
     "name": "stdout",
     "output_type": "stream",
     "text": [
      "****************************************************************************************************\n",
      "Le caratteristiche di questo blocco di dipendenti sono:\n",
      "satisfaction_level         0.129832\n",
      "last_evaluation            0.803935\n",
      "number_project             5.484790\n",
      "average_montly_hours     246.174110\n",
      "time_spend_company         4.238188\n",
      "Work_accident              0.102265\n",
      "left                       0.598706\n",
      "promotion_last_5years      0.010356\n",
      "Name: 0.0 - 0.1, dtype: float64\n"
     ]
    }
   ],
   "source": [
    "\"\"\"\n",
    "    Guardando la media e la mediana si evince che i dipendenti che lavorano nell’impresa sono \n",
    "    in generale soddisfatti? Se si rappresenta un istogramma della soddisfazione dei dipendenti \n",
    "    (usare il parametro bins=100 nella funzione che realizza l’istogramma) si osserva \n",
    "    che c’è un blocco iniziale di dipendenti per nulla soddisfatti. Calcolare il valore di \n",
    "    insoddisfazione di questo blocco di dipendenti.\n",
    "    \n",
    "    Che cosa hanno in comune questi dipendenti (a parte il livello di soddisfazione basso)?\n",
    "\"\"\"\n",
    "print('Soddisfazione media: {:.3f}'.format(dataset['satisfaction_level'].mean()))\n",
    "print('Mediana: {:.3f}'.format(dataset['satisfaction_level'].median()))\n",
    "\n",
    "array_satisfaction = dataset['satisfaction_level']\n",
    "array_satisfaction.hist(figsize=(8, 4), bins = 100)\n",
    "plt.xlabel('Valore di soddisfazione')\n",
    "plt.ylabel('Numero di dipendenti')\n",
    "plt.show()\n",
    "\n",
    "# Creo le labels in automatico\n",
    "labels = []\n",
    "num_chunks = 10\n",
    "for i in np.arange(0.0, 1.0, 0.1): # Va a 0.0 a 1.0 a step di 0.1\n",
    "    label = '{:0.2} - {:0.2}'.format(i, i + 0.1)\n",
    "    labels.append(label)\n",
    "\n",
    "#satisfaction_grouped = pd.cut(dataset['satisfaction_level'], np.arange(0, 1.01, 0.1))\n",
    "# Raggruppo i valori in 10 range 0.1 a 1.0\n",
    "satisfaction_grouped = pd.qcut(dataset['satisfaction_level'], num_chunks, labels)\n",
    "# Calcolo i valori medi di ogni gruppo\n",
    "dataset_mean_sg = dataset.groupby(satisfaction_grouped).mean()\n",
    "# Prendo il gruppo con soddisfazione minima\n",
    "min_satisfaction = dataset_mean_sg.iloc[0]\n",
    "print('*' * 100)\n",
    "print('Le caratteristiche di questo blocco di dipendenti sono:\\n{}'.format(min_satisfaction))"
   ]
  },
  {
   "cell_type": "markdown",
   "metadata": {},
   "source": [
    "### Punto 1.4"
   ]
  },
  {
   "cell_type": "code",
   "execution_count": 6,
   "metadata": {},
   "outputs": [
    {
     "data": {
      "image/png": "[encoded data removed]",
      "text/plain": [
       "<matplotlib.figure.Figure at 0x7f669ec2dcf8>"
      ]
     },
     "metadata": {},
     "output_type": "display_data"
    },
    {
     "name": "stdout",
     "output_type": "stream",
     "text": [
      "****************************************************************************************************\n",
      "Il numero di dipendenti con salario inferiore a 0.22 hanno un salario\n",
      "Alto: 92\n",
      "Medio: 620\n",
      "Basso: 833\n"
     ]
    }
   ],
   "source": [
    "\"\"\"\n",
    "    Rappresentare in un grafico il salario dei dipendenti insoddisfatti descritti nel punto\n",
    "    precedente.\n",
    "\"\"\"\n",
    "# Prendo il valore di soddisfazione minimo del secondo blocco\n",
    "min_satisfacion_for_range = dataset['satisfaction_level'].groupby(satisfaction_grouped).min()\n",
    "min_satisfaction = min_satisfacion_for_range.iloc[1]\n",
    "# Ricerco i dipendenti che hanno un valore di soffisfazione minore di tale soglia\n",
    "dip_ins = dataset[dataset['satisfaction_level'] < min_satisfaction]\n",
    "salary = dip_ins.groupby(['salary']).size()\n",
    "salary.plot(kind = 'bar')\n",
    "plt.xlabel('Salario')\n",
    "plt.ylabel('Numero dei dipendenti')\n",
    "plt.show()\n",
    "print('*' * 100)\n",
    "salary_high = salary['high']\n",
    "salary_medium = salary['medium']\n",
    "salary_low = salary['low']\n",
    "print('Il numero di dipendenti con salario inferiore a {} hanno un salario'.format(min_satisfaction))\n",
    "print('Alto: {}'.format(salary_high))\n",
    "print('Medio: {}'.format(salary_medium))\n",
    "print('Basso: {}'.format(salary_low))"
   ]
  },
  {
   "cell_type": "markdown",
   "metadata": {},
   "source": [
    "### Punto 1.5"
   ]
  },
  {
   "cell_type": "code",
   "execution_count": 7,
   "metadata": {},
   "outputs": [
    {
     "name": "stdout",
     "output_type": "stream",
     "text": [
      "I settori in cui i dipendenti sono maggiormente insoddisfatti\n",
      "['sales' 'technical' 'support' 'IT' 'accounting']\n",
      "****************************************************************************************************\n",
      "In particolare si ha la seguente corrispondenza\n",
      "sales\n",
      "sales         428\n",
      "technical     312\n",
      "support       211\n",
      "IT            131\n",
      "accounting     91\n",
      "dtype: int64\n"
     ]
    }
   ],
   "source": [
    "\"\"\"\n",
    "    Analizzare i settori (attributo “sales”) in cui i dipendenti insoddisfatti sono collocati.\n",
    "    C’è un settore che è maggiormente fonte di disagio?\n",
    "\"\"\"\n",
    "# Calcolo i settori\n",
    "series_sales = dip_ins.groupby(dip_ins['sales'], as_index = False).size()\n",
    "# Li ordino per valore\n",
    "series_sales = series_sales.sort_values(ascending = False)\n",
    "# Nomi settori\n",
    "names_sales = series_sales.index.values\n",
    "# Prendo i primi cinque valori\n",
    "max_sales = names_sales[: 5]\n",
    "print('I settori in cui i dipendenti sono maggiormente insoddisfatti\\n{}'.format(max_sales))\n",
    "print('*' * 100)\n",
    "print('In particolare si ha la seguente corrispondenza\\n{}'.format(series_sales.head()))"
   ]
  },
  {
   "cell_type": "markdown",
   "metadata": {},
   "source": [
    "## Parte 2"
   ]
  },
  {
   "cell_type": "markdown",
   "metadata": {},
   "source": [
    "### Punto 2.1"
   ]
  },
  {
   "cell_type": "code",
   "execution_count": 8,
   "metadata": {},
   "outputs": [],
   "source": [
    "\"\"\"\n",
    "    Scikit-learn utilizza un array numpy per effettuare le proprie predizioni. Gli elementi\n",
    "    dell’array numpy devono essere delle stesso data type numerico. E’ necessario pertanto\n",
    "    trasformare i dati del dataset per renderli utilizzabili con scikit.\n",
    "    Creare un nuovo dataset dal precedente e chiamarlo reduced in si considerano\n",
    "    unicamente le feature numeriche.\n",
    "\"\"\"\n",
    "reduced = dataset.drop(['sales', 'salary'], axis = 1)"
   ]
  },
  {
   "cell_type": "markdown",
   "metadata": {},
   "source": [
    "### Punto 2.2"
   ]
  },
  {
   "cell_type": "code",
   "execution_count": 9,
   "metadata": {},
   "outputs": [
    {
     "data": {
      "text/html": [
       "<div>\n",
       "<style>\n",
       "    .dataframe thead tr:only-child th {\n",
       "        text-align: right;\n",
       "    }\n",
       "\n",
       "    .dataframe thead th {\n",
       "        text-align: left;\n",
       "    }\n",
       "\n",
       "    .dataframe tbody tr th {\n",
       "        vertical-align: top;\n",
       "    }\n",
       "</style>\n",
       "<table border=\"1\" class=\"dataframe\">\n",
       "  <thead>\n",
       "    <tr style=\"text-align: right;\">\n",
       "      <th></th>\n",
       "      <th>satisfaction_level</th>\n",
       "      <th>last_evaluation</th>\n",
       "      <th>number_project</th>\n",
       "      <th>average_montly_hours</th>\n",
       "      <th>time_spend_company</th>\n",
       "      <th>Work_accident</th>\n",
       "      <th>left</th>\n",
       "      <th>promotion_last_5years</th>\n",
       "      <th>sales</th>\n",
       "      <th>salary</th>\n",
       "    </tr>\n",
       "  </thead>\n",
       "  <tbody>\n",
       "    <tr>\n",
       "      <th>0</th>\n",
       "      <td>29</td>\n",
       "      <td>17</td>\n",
       "      <td>0</td>\n",
       "      <td>61</td>\n",
       "      <td>1</td>\n",
       "      <td>0</td>\n",
       "      <td>1</td>\n",
       "      <td>0</td>\n",
       "      <td>7</td>\n",
       "      <td>1</td>\n",
       "    </tr>\n",
       "    <tr>\n",
       "      <th>1</th>\n",
       "      <td>71</td>\n",
       "      <td>50</td>\n",
       "      <td>3</td>\n",
       "      <td>166</td>\n",
       "      <td>4</td>\n",
       "      <td>0</td>\n",
       "      <td>1</td>\n",
       "      <td>0</td>\n",
       "      <td>7</td>\n",
       "      <td>2</td>\n",
       "    </tr>\n",
       "    <tr>\n",
       "      <th>2</th>\n",
       "      <td>2</td>\n",
       "      <td>52</td>\n",
       "      <td>5</td>\n",
       "      <td>176</td>\n",
       "      <td>2</td>\n",
       "      <td>0</td>\n",
       "      <td>1</td>\n",
       "      <td>0</td>\n",
       "      <td>7</td>\n",
       "      <td>2</td>\n",
       "    </tr>\n",
       "    <tr>\n",
       "      <th>3</th>\n",
       "      <td>63</td>\n",
       "      <td>51</td>\n",
       "      <td>3</td>\n",
       "      <td>127</td>\n",
       "      <td>3</td>\n",
       "      <td>0</td>\n",
       "      <td>1</td>\n",
       "      <td>0</td>\n",
       "      <td>7</td>\n",
       "      <td>1</td>\n",
       "    </tr>\n",
       "    <tr>\n",
       "      <th>4</th>\n",
       "      <td>28</td>\n",
       "      <td>16</td>\n",
       "      <td>0</td>\n",
       "      <td>63</td>\n",
       "      <td>1</td>\n",
       "      <td>0</td>\n",
       "      <td>1</td>\n",
       "      <td>0</td>\n",
       "      <td>7</td>\n",
       "      <td>1</td>\n",
       "    </tr>\n",
       "  </tbody>\n",
       "</table>\n",
       "</div>"
      ],
      "text/plain": [
       "   satisfaction_level  last_evaluation  number_project  average_montly_hours  \\\n",
       "0                  29               17               0                    61   \n",
       "1                  71               50               3                   166   \n",
       "2                   2               52               5                   176   \n",
       "3                  63               51               3                   127   \n",
       "4                  28               16               0                    63   \n",
       "\n",
       "   time_spend_company  Work_accident  left  promotion_last_5years  sales  \\\n",
       "0                   1              0     1                      0      7   \n",
       "1                   4              0     1                      0      7   \n",
       "2                   2              0     1                      0      7   \n",
       "3                   3              0     1                      0      7   \n",
       "4                   1              0     1                      0      7   \n",
       "\n",
       "   salary  \n",
       "0       1  \n",
       "1       2  \n",
       "2       2  \n",
       "3       1  \n",
       "4       1  "
      ]
     },
     "execution_count": 9,
     "metadata": {},
     "output_type": "execute_result"
    }
   ],
   "source": [
    "\"\"\"\n",
    "    Nel dataset originale, trasformare i valori dei campi non numerici in numerici,\n",
    "    utilizzando una opportuna funzione di trasformazione.\n",
    "\"\"\"\n",
    "le = LabelEncoder()\n",
    "dataset = dataset.apply(le.fit_transform)\n",
    "dataset.head()"
   ]
  },
  {
   "cell_type": "markdown",
   "metadata": {},
   "source": [
    "### Punto 2.3"
   ]
  },
  {
   "cell_type": "code",
   "execution_count": 10,
   "metadata": {},
   "outputs": [
    {
     "name": "stdout",
     "output_type": "stream",
     "text": [
      "Accuracy: 0.661\n"
     ]
    }
   ],
   "source": [
    "\"\"\"\n",
    "    Si vuole predire il il fatto che un dipendente abbia lasciato o meno l’impresa (feature\n",
    "    left) sulla base degli altri attributi presenti nel dataset. Dividere i due dataset (quello\n",
    "    originale e quello ridotto) in modo che 3⁄4 degli elementi siano contenuti in un nuovo\n",
    "    dataset “train” e 1⁄4 nel dataset “test”.\n",
    "    \n",
    "    Valutare l’accuracy ottenuta con il modello MultinomialNB su entrambi i dataset\n",
    "    (from sklearn.naive_bayes import MultinomialNB)\n",
    "\"\"\"\n",
    "\n",
    "X = dataset.drop('left', axis = 1)\n",
    "Y = dataset['left']\n",
    "\n",
    "# Splitto il dataset\n",
    "test_size = 0.25\n",
    "random_state = 147\n",
    "X_train, X_test, Y_train, Y_test = train_test_split(X, Y, test_size = test_size, \n",
    "                                                    random_state = random_state)\n",
    "model_MNB = MultinomialNB()\n",
    "model_MNB.fit(X_train, Y_train)\n",
    "score = model_MNB.score(X_test, Y_test)\n",
    "print('Accuracy: {:.3f}'.format(score))"
   ]
  },
  {
   "cell_type": "markdown",
   "metadata": {},
   "source": [
    "### Punto 2.4"
   ]
  },
  {
   "cell_type": "code",
   "execution_count": 11,
   "metadata": {},
   "outputs": [
    {
     "name": "stdout",
     "output_type": "stream",
     "text": [
      "Confusion matrix:\n",
      "[[2190  658]\n",
      " [ 615  287]]\n"
     ]
    }
   ],
   "source": [
    "\"\"\"\n",
    "    Il valore di accuratezza ottenuto è pari a. \n",
    "    \n",
    "    Cosa si scopre analizzando le confusion matrix?\n",
    "\"\"\"\n",
    "\n",
    "\n",
    "y_pred = model_MNB.predict(X_test)\n",
    "accuracy_score(Y_test, y_pred)\n",
    "\n",
    "print('Confusion matrix:\\n{}'.format(confusion_matrix(Y_test, y_pred)))"
   ]
  },
  {
   "cell_type": "markdown",
   "metadata": {
    "collapsed": true
   },
   "source": [
    "### Punto 2.5"
   ]
  },
  {
   "cell_type": "code",
   "execution_count": 12,
   "metadata": {},
   "outputs": [
    {
     "name": "stdout",
     "output_type": "stream",
     "text": [
      "Score: 0.9826666666666667\n",
      "Confusion matrix:\n",
      "[[2811   28]\n",
      " [  37  874]]\n"
     ]
    }
   ],
   "source": [
    "\"\"\"\n",
    "    Se si utilizza un modello basato su Decision Tree che valore di accuratezza si ottiene?\n",
    "    Cambia qualcosa nella confusion matrix?\n",
    "\"\"\"\n",
    "model_DT = DecisionTreeClassifier()\n",
    "model_DT.fit(X_train, Y_train)\n",
    "print('Score: {}'.format(model_DT.score(X_test, Y_test)))\n",
    "print('Confusion matrix:\\n{}'.format(confusion_matrix(model_DT.predict(X_test), Y_test)))"
   ]
  },
  {
   "cell_type": "markdown",
   "metadata": {},
   "source": [
    "### Punto 2.6"
   ]
  },
  {
   "cell_type": "code",
   "execution_count": 13,
   "metadata": {},
   "outputs": [
    {
     "name": "stdout",
     "output_type": "stream",
     "text": [
      "Score 5 Fold cross validation - DECISION TREE\n",
      "Accuracy: 0.976 (0.009)\n",
      "Score 5 Fold cross validation - MULTINOMIALNB\n",
      "Accuracy: 0.656 (0.009)\n"
     ]
    }
   ],
   "source": [
    "\"\"\"\n",
    "    Che valore di accuratezza si ottiene con un 5 Fold cross validation e il modello basato\n",
    "    su Decision Tree? E il modello basato su MultinomialNB?\n",
    "\"\"\"\n",
    "num_folds = 5\n",
    "random_state = 141\n",
    "scoring = 'accuracy'\n",
    "\n",
    "# Accuratezza Decision Tree\n",
    "print('Score 5 Fold cross validation - DECISION TREE')\n",
    "score_dt = cross_val_score(model_DT, X, Y, cv = num_folds, scoring = scoring)\n",
    "print('Accuracy: {:0.3f} ({:0.3f})'.format(score_dt.mean(), score_dt.std()))\n",
    "\n",
    "# Accuratezza MultinomialNB\n",
    "print('Score 5 Fold cross validation - MULTINOMIALNB')\n",
    "score_mnb = cross_val_score(model_MNB, X, Y, cv = num_folds, scoring = scoring)\n",
    "print('Accuracy: {:0.3f} ({:0.3f})'.format(score_mnb.mean(), score_mnb.std()))"
   ]
  },
  {
   "cell_type": "markdown",
   "metadata": {},
   "source": [
    "### Punto 2.7"
   ]
  },
  {
   "cell_type": "code",
   "execution_count": 14,
   "metadata": {},
   "outputs": [
    {
     "name": "stdout",
     "output_type": "stream",
     "text": [
      "Valori: Classe SI 3571 - Classe No 11428\n",
      "****************************************************************************************************\n",
      "Il numero di righe conferma la suddivisione: 7142\n",
      "****************************************************************************************************\n",
      "DT score: 96.499% (0.987%)\n",
      "MNB score: 53.963% (1.648%)\n"
     ]
    }
   ],
   "source": [
    "\"\"\"\n",
    "    Creare un dataset bilanciato rispetto l’attributo “left”, e verificare se cambia\n",
    "    l’accuratezza con un 5 Fold cross validation e il modello basato su Decision Tree\n",
    "    e il modello basato su MultinomialNB.\n",
    "\"\"\"\n",
    "# I valori di 'left' sono:\n",
    "left_yn = dataset['left'].value_counts()\n",
    "num_no = left_yn[0]\n",
    "num_yes = left_yn[1]\n",
    "print('Valori: Classe SI {} - Classe No {}'.format(num_yes, num_no))\n",
    "\n",
    "# Scelgo dunque i valori di NO uguali a quelli di si. \n",
    "# Il parametro 'replace' serve per non avere duplicati\n",
    "dataset_yes = dataset[dataset['left'] == 0].sample(n = num_yes, replace = False)\n",
    "# Prendo il dataset con i valori di no\n",
    "dataset_no = dataset[dataset['left'] == 1]\n",
    "# Unisco i due datagrame\n",
    "dataset_balanced = pd.concat([dataset_yes, dataset_no])\n",
    "print('*' * 100)\n",
    "print('Il numero di righe conferma la suddivisione: {}'.format(dataset_balanced.shape[0]))\n",
    "print('*' * 100)\n",
    "XB = dataset_balanced.drop('left', axis = 1)\n",
    "YB = dataset_balanced['left']\n",
    "\n",
    "test_size = 0.25\n",
    "random_state = 111\n",
    "\n",
    "# Cross Validation\n",
    "models = []\n",
    "models.append(('DT', DecisionTreeClassifier()))\n",
    "models.append(('MNB', MultinomialNB()))\n",
    "\n",
    "num_folds = 5\n",
    "scoring = 'accuracy'\n",
    "for name, model in models:\n",
    "    scores = cross_val_score(model, XB, YB, cv = num_folds, scoring = scoring)\n",
    "    print('{} score: {:.3f}% ({:.3f}%)'.format(name, scores.mean() * 100.0, scores.std() * 100.0))"
   ]
  },
  {
   "cell_type": "markdown",
   "metadata": {},
   "source": [
    "### Punto 2.8"
   ]
  },
  {
   "cell_type": "code",
   "execution_count": 15,
   "metadata": {},
   "outputs": [
    {
     "name": "stdout",
     "output_type": "stream",
     "text": [
      "Accuracy MultinominalNB: 0.763\n",
      "Accuracy Decision Tree: 0.984\n"
     ]
    }
   ],
   "source": [
    "\"\"\"\n",
    "    Creare une versione 1-of-V della matrice (indicator matrix) per quanto riguarda le\n",
    "    colonne “sales” e “salary”. Si tratta di una matrice in cui ogni colonna è trasformata in\n",
    "    un numero di colonne pari alla cardinalità (i valori unici) del dominio della colonna\n",
    "    originale. Ogni cella nella colonna assume un valore 0 o 1 a seconda del fatto che il\n",
    "    valore inizialmente contenuto dall’attributo sia uguale a quello rappresentato dalla\n",
    "    colonna\n",
    "    \n",
    "    Calcolare l’accuratezza con i metodi precedenti. Migliora o peggiora? Questo tipo di\n",
    "    trasformazione è in generale migliore o peggiore di quella effettuata al punto 2?\n",
    "\"\"\"\n",
    "# Ricarido il dataset perché i valori testuali nelle colonne 'salary' e 'sales' li ho convertiti\n",
    "dataset = pd.read_csv('HR_comma_sep_orig.csv')\n",
    "\n",
    "# Aggiungo le matrici\n",
    "dummy_sales = pd.get_dummies(dataset['sales'])\n",
    "dummy_salary = pd.get_dummies(dataset['salary'])\n",
    "dataset = pd.concat([dataset, dummy_sales], axis = 1)\n",
    "dataset = pd.concat([dataset, dummy_salary], axis = 1)\n",
    "\n",
    "# Ricalcolo X e Y - Eliminando le righe 'salary' e 'sales'\n",
    "X = dataset.drop('left', axis = 1)\n",
    "X = X.drop(['salary', 'sales'], axis = 1)\n",
    "Y = dataset['left']\n",
    "X_train, X_test, Y_train, Y_test = train_test_split(X, Y, test_size = 0.25, random_state = random_state)\n",
    "\n",
    "# Modello MultinomialNB\n",
    "model_MNB.fit(X_train, Y_train)\n",
    "print('Accuracy MultinominalNB: {:0.3f}'.format(model_MNB.score(X_test, Y_test)))\n",
    "\n",
    "# Modello Decision Tree\n",
    "model_DT.fit(X_train, Y_train)\n",
    "print('Accuracy Decision Tree: {:.03f}'.format(model_DT.score(X_test, Y_test)))"
   ]
  },
  {
   "cell_type": "markdown",
   "metadata": {},
   "source": [
    "### Punto 2.9"
   ]
  },
  {
   "cell_type": "code",
   "execution_count": 16,
   "metadata": {},
   "outputs": [
    {
     "name": "stdout",
     "output_type": "stream",
     "text": [
      "Accuracy MultinominalNB: 0.761\n",
      "Accuracy Decision Tree: 0.975\n"
     ]
    }
   ],
   "source": [
    "\"\"\"\n",
    "    Raggruppare i valori dell’attributo “average_montly_hours” in 6 gruppi. Sostituire al\n",
    "    valore originale dell’attributo un numero che va da 1 a 6 e che indica l’appartenenza\n",
    "    allo specifico gruppo. Valutare l’accuratezza.\n",
    "\"\"\"\n",
    "# Uso X e Y modificati al punto precendente\n",
    "# Per raggruppare uso la funzione 'qcut'\n",
    "num_chunks = 6\n",
    "name_labels = [1, 2, 3, 4, 5, 6]\n",
    "chunks = pd.qcut(X['average_montly_hours'], q = num_chunks, labels = name_labels)\n",
    "\n",
    "# Per evitare dei problemi in future esecuzioni (cambiando il valore della colonna poi da errori)\n",
    "# la copia in un nuovo dataframe\n",
    "X_chunks = X.copy()\n",
    "X_chunks['average_montly_hours'] = chunks.values\n",
    "\n",
    "# Ricalcolo X e Y\n",
    "X_train, X_test, Y_train, Y_test = train_test_split(X_chunks, Y, test_size = 0.25, random_state = random_state)\n",
    "\n",
    "# Modello MultinomialNB\n",
    "model_MNB.fit(X_train, Y_train)\n",
    "print('Accuracy MultinominalNB: {:0.3f}'.format(model_MNB.score(X_test, Y_test)))\n",
    "\n",
    "# Modello Decision Tree\n",
    "model_DT.fit(X_train, Y_train)\n",
    "print('Accuracy Decision Tree: {:.03f}'.format(model_DT.score(X_test, Y_test)))"
   ]
  },
  {
   "cell_type": "markdown",
   "metadata": {},
   "source": [
    "### Punto 2.10"
   ]
  },
  {
   "cell_type": "code",
   "execution_count": 17,
   "metadata": {},
   "outputs": [
    {
     "name": "stdout",
     "output_type": "stream",
     "text": [
      "Accuracy MultinominalNB: 0.763\n",
      "Accuracy Decision Tree: 0.972\n"
     ]
    }
   ],
   "source": [
    "\"\"\"\n",
    "    Si consideri un nuovo dataset ottenuto attraverso una variazione a piacere del\n",
    "    precedente e si analizzi l’accuratezza ottenuta con un modello basato su Decision Tree.\n",
    "    Che valore si ottiene?\n",
    "\"\"\"\n",
    "# Provo inizialmente a normalizzare il DataFrame\n",
    "from sklearn.preprocessing import Normalizer\n",
    "normalizer = Normalizer()\n",
    "X_normalizer = normalizer.fit_transform(X_chunks)\n",
    "\n",
    "# Poi mi considero solo le features più importanti\n",
    "from sklearn.feature_selection import RFE\n",
    "from sklearn.svm import SVC\n",
    "\n",
    "estimator = SVC(kernel = 'linear')\n",
    "rfe = RFE(estimator = estimator, n_features_to_select= 10)\n",
    "X_features = rfe.fit_transform(X_normalizer, Y)\n",
    "\n",
    "# Ricalcolo X e Y\n",
    "X_train, X_test, Y_train, Y_test = train_test_split(X_features, Y, test_size = 0.25, random_state = random_state)\n",
    "\n",
    "# Modello MultinomialNB\n",
    "model_MNB.fit(X_train, Y_train)\n",
    "print('Accuracy MultinominalNB: {:0.3f}'.format(model_MNB.score(X_test, Y_test)))\n",
    "\n",
    "# Modello Decision Tree\n",
    "model_DT.fit(X_train, Y_train)\n",
    "print('Accuracy Decision Tree: {:.03f}'.format(model_DT.score(X_test, Y_test)))"
   ]
  }
 ],
 "metadata": {
  "kernelspec": {
   "display_name": "Python 3",
   "language": "python",
   "name": "python3"
  },
  "language_info": {
   "codemirror_mode": {
    "name": "ipython",
    "version": 3
   },
   "file_extension": ".py",
   "mimetype": "text/x-python",
   "name": "python",
   "nbconvert_exporter": "python",
   "pygments_lexer": "ipython3",
   "version": "3.6.2"
  }
 },
 "nbformat": 4,
 "nbformat_minor": 2
}
