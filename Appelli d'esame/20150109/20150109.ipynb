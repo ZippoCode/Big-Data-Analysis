{
 "cells": [
  {
   "cell_type": "markdown",
   "metadata": {},
   "source": [
    "## Punto 0"
   ]
  },
  {
   "cell_type": "code",
   "execution_count": 48,
   "metadata": {},
   "outputs": [],
   "source": [
    "\"\"\"\n",
    "\n",
    "Il dataset wildlife.csv è posto nella cartella esame sul desktop del vostro PC.\n",
    "Lo schema del dataset è:\n",
    "    AC_CLASS; AC_MASS; NUM_ENGS; INCIDENT_MONTH; INCIDENT_YEAR; HEIGHT;\n",
    "    SPEED; PHASE_OF_FLT; DAMAGE; BIRDS_STRUCK; SIZE; WARNED\n",
    "\n",
    "Il separatore adottato è il carattere “;”\n",
    "\n",
    "Il file registra gli impatti tra volatili e aeroplani dal 2010 a oggi. In particolare:\n",
    "\n",
    "AC_CLASS \n",
    "    Type of aircraft\n",
    "    A: Airplane\n",
    "    B: elicopter\n",
    "    Empty: Unknown\n",
    "\n",
    "AC_MASS\n",
    "    1 = 2,250 kg or less: \n",
    "    2 = ,2251-5700 kg\n",
    "    3 = 5,701-27,000 kg\n",
    "    4 = 27,001-272,000 kg \n",
    "    5 = above 272,000 kg\n",
    "\n",
    "NUM_ENGS\n",
    "    Number of engines\n",
    "\n",
    "PHASE_OF_FLT\n",
    "    Phase of flight during which strike occurred\n",
    "    1: Parked / Taxi\n",
    "    2: Approach\n",
    "    3: Climb\n",
    "    4: Departure/Take off\n",
    "    5: En Route\n",
    "    6: Descent\n",
    "    7: Landing roll\n",
    "\n",
    "DAMAGE\n",
    "    U = Unknown\n",
    "    N = no problem\n",
    "    M = minor\n",
    "        When the aircraft can be rendered airworthy by simple repairs or replacements and an extensive \n",
    "        inspection is not necessary.\n",
    "    M? = uncertain level\n",
    "        The aircraft was damaged, but details as to the extent of the damage are lacking.\n",
    "    S = substantial\n",
    "        When the aircraft incurs damage or structural failure which adversely affects the structure strength, \n",
    "        performance or flight characteristics of the aircraft and which would normally require major repair \n",
    "        or replacement of the affected component.\n",
    "    D = Destroyed\n",
    "        When the damage sustained makes it inadvisable to restore the aircraft to an airworthy condition.\n",
    "\n",
    "BIRDS_STRUCK\n",
    "    0: unknown\n",
    "    1:  1\n",
    "    2: 2-10\n",
    "    3: 11-100\n",
    "    4: > 100\n",
    "\n",
    "SIZE\n",
    "    Small\n",
    "    Medium\n",
    "    Large\n",
    "    Unknown\n",
    "\n",
    "WARNED\n",
    "    Pilot warned of birds/wildlife\n",
    "    Yes\n",
    "    No\n",
    "    Unknown\n",
    "\"\"\"\n",
    "# Import\n",
    "import pandas as pd\n",
    "import numpy as np\n",
    "import matplotlib.pyplot as plt\n",
    "\n",
    "from sklearn.model_selection import train_test_split, cross_val_score\n",
    "from sklearn.naive_bayes import BernoulliNB\n",
    "from sklearn.metrics import confusion_matrix\n",
    "from sklearn.tree import DecisionTreeClassifier\n",
    "from sklearn.preprocessing import MinMaxScaler\n",
    "from sklearn.feature_selection import SelectKBest, chi2"
   ]
  },
  {
   "cell_type": "markdown",
   "metadata": {},
   "source": [
    "## Parte 1"
   ]
  },
  {
   "cell_type": "markdown",
   "metadata": {},
   "source": [
    "### Punto 1.1"
   ]
  },
  {
   "cell_type": "code",
   "execution_count": 2,
   "metadata": {},
   "outputs": [
    {
     "data": {
      "text/html": [
       "<div>\n",
       "<style scoped>\n",
       "    .dataframe tbody tr th:only-of-type {\n",
       "        vertical-align: middle;\n",
       "    }\n",
       "\n",
       "    .dataframe tbody tr th {\n",
       "        vertical-align: top;\n",
       "    }\n",
       "\n",
       "    .dataframe thead th {\n",
       "        text-align: right;\n",
       "    }\n",
       "</style>\n",
       "<table border=\"1\" class=\"dataframe\">\n",
       "  <thead>\n",
       "    <tr style=\"text-align: right;\">\n",
       "      <th></th>\n",
       "      <th>AC_CLASS</th>\n",
       "      <th>AC_MASS</th>\n",
       "      <th>NUM_ENGS</th>\n",
       "      <th>INCIDENT_MONTH</th>\n",
       "      <th>INCIDENT_YEAR</th>\n",
       "      <th>HEIGHT</th>\n",
       "      <th>SPEED</th>\n",
       "      <th>PHASE_OF_FLT</th>\n",
       "      <th>DAMAGE</th>\n",
       "      <th>BIRDS_STRUCK</th>\n",
       "      <th>SIZE</th>\n",
       "      <th>WARNED</th>\n",
       "    </tr>\n",
       "  </thead>\n",
       "  <tbody>\n",
       "    <tr>\n",
       "      <th>0</th>\n",
       "      <td>A</td>\n",
       "      <td>1</td>\n",
       "      <td>1.0</td>\n",
       "      <td>9</td>\n",
       "      <td>2011</td>\n",
       "      <td>0</td>\n",
       "      <td>0</td>\n",
       "      <td>1</td>\n",
       "      <td>N</td>\n",
       "      <td>1</td>\n",
       "      <td>Small</td>\n",
       "      <td>N</td>\n",
       "    </tr>\n",
       "    <tr>\n",
       "      <th>1</th>\n",
       "      <td>A</td>\n",
       "      <td>1</td>\n",
       "      <td>1.0</td>\n",
       "      <td>5</td>\n",
       "      <td>2013</td>\n",
       "      <td>0</td>\n",
       "      <td>0</td>\n",
       "      <td>1</td>\n",
       "      <td>S</td>\n",
       "      <td>1</td>\n",
       "      <td>Large</td>\n",
       "      <td>N</td>\n",
       "    </tr>\n",
       "    <tr>\n",
       "      <th>2</th>\n",
       "      <td>A</td>\n",
       "      <td>1</td>\n",
       "      <td>1.0</td>\n",
       "      <td>9</td>\n",
       "      <td>2013</td>\n",
       "      <td>0</td>\n",
       "      <td>0</td>\n",
       "      <td>1</td>\n",
       "      <td>N</td>\n",
       "      <td>1</td>\n",
       "      <td>Small</td>\n",
       "      <td>Y</td>\n",
       "    </tr>\n",
       "    <tr>\n",
       "      <th>3</th>\n",
       "      <td>A</td>\n",
       "      <td>1</td>\n",
       "      <td>1.0</td>\n",
       "      <td>12</td>\n",
       "      <td>2013</td>\n",
       "      <td>0</td>\n",
       "      <td>0</td>\n",
       "      <td>1</td>\n",
       "      <td>N</td>\n",
       "      <td>1</td>\n",
       "      <td>Small</td>\n",
       "      <td>N</td>\n",
       "    </tr>\n",
       "    <tr>\n",
       "      <th>4</th>\n",
       "      <td>B</td>\n",
       "      <td>1</td>\n",
       "      <td>1.0</td>\n",
       "      <td>7</td>\n",
       "      <td>2010</td>\n",
       "      <td>0</td>\n",
       "      <td>0</td>\n",
       "      <td>1</td>\n",
       "      <td>N</td>\n",
       "      <td>1</td>\n",
       "      <td>Medium</td>\n",
       "      <td>Y</td>\n",
       "    </tr>\n",
       "  </tbody>\n",
       "</table>\n",
       "</div>"
      ],
      "text/plain": [
       "  AC_CLASS  AC_MASS  NUM_ENGS  INCIDENT_MONTH  INCIDENT_YEAR  HEIGHT  SPEED  \\\n",
       "0        A        1       1.0               9           2011       0      0   \n",
       "1        A        1       1.0               5           2013       0      0   \n",
       "2        A        1       1.0               9           2013       0      0   \n",
       "3        A        1       1.0              12           2013       0      0   \n",
       "4        B        1       1.0               7           2010       0      0   \n",
       "\n",
       "   PHASE_OF_FLT DAMAGE  BIRDS_STRUCK    SIZE WARNED  \n",
       "0             1      N             1   Small      N  \n",
       "1             1      S             1   Large      N  \n",
       "2             1      N             1   Small      Y  \n",
       "3             1      N             1   Small      N  \n",
       "4             1      N             1  Medium      Y  "
      ]
     },
     "execution_count": 2,
     "metadata": {},
     "output_type": "execute_result"
    }
   ],
   "source": [
    "path = 'wildlife0901.csv'\n",
    "dataset = pd.read_csv(path, sep = ';')\n",
    "dataset.head()"
   ]
  },
  {
   "cell_type": "markdown",
   "metadata": {},
   "source": [
    "### Punto 1.2"
   ]
  },
  {
   "cell_type": "code",
   "execution_count": 3,
   "metadata": {},
   "outputs": [
    {
     "name": "stdout",
     "output_type": "stream",
     "text": [
      "Numero totale di incidenti è: 16122\n",
      "Numero degli incidenti elicotteri: 15617\n",
      "Numero degli incidenti aereoplani: 482\n",
      "Numero degli sconosciuti 23\n"
     ]
    }
   ],
   "source": [
    "\"\"\"\n",
    "Quanti sono gli incidenti che hanno coinvolto elicotteri?\n",
    "Quanti hanno coinvolto areoplani?\n",
    "\"\"\"\n",
    "incidenti_class = dataset.groupby('AC_CLASS').size()\n",
    "incidenti_A = incidenti_class['A']\n",
    "incidenti_B = incidenti_class['B']\n",
    "\n",
    "incidenti_nan = dataset['AC_CLASS'].isna().sum()\n",
    "\n",
    "print('Numero totale di incidenti è:', dataset.shape[0])\n",
    "print('Numero degli incidenti elicotteri:', incidenti_A)\n",
    "print('Numero degli incidenti aereoplani:', incidenti_B)\n",
    "print('Numero degli sconosciuti', incidenti_nan)"
   ]
  },
  {
   "cell_type": "markdown",
   "metadata": {},
   "source": [
    "### Punto 1.3"
   ]
  },
  {
   "cell_type": "code",
   "execution_count": 4,
   "metadata": {},
   "outputs": [
    {
     "name": "stdout",
     "output_type": "stream",
     "text": [
      "Il mese con il numero di alti di incidenti è 9 con 2152\n",
      "\n",
      "****************************************************************************************************\n"
     ]
    },
    {
     "data": {
      "image/png": "[encoded data removed]",
      "text/plain": [
       "<matplotlib.figure.Figure at 0x7f4310e3e6a0>"
      ]
     },
     "metadata": {},
     "output_type": "display_data"
    }
   ],
   "source": [
    "\"\"\"\n",
    "Raggruppare gli incidenti per mesi e visualizzarli in un grafico. Qual è il mese con il maggior \n",
    "numero di incidenti? \n",
    "\"\"\"\n",
    "incidenti_mese = dataset.groupby('INCIDENT_MONTH').size()\n",
    "idx_mese_max = incidenti_mese.idxmax()\n",
    "values_mese_max = incidenti_mese.max()\n",
    "\n",
    "print('Il mese con il numero di alti di incidenti è {} con {}\\n'. format(idx_mese_max, values_mese_max))\n",
    "print('*' * 100)\n",
    "\n",
    "plt.plot(incidenti_mese)\n",
    "plt.title('Incidenti al mese')\n",
    "plt.xlabel('Mesi')\n",
    "plt.ylabel('Numero incidenti')\n",
    "plt.show()"
   ]
  },
  {
   "cell_type": "markdown",
   "metadata": {},
   "source": [
    "### Punto 1.4"
   ]
  },
  {
   "cell_type": "code",
   "execution_count": 5,
   "metadata": {},
   "outputs": [
    {
     "data": {
      "image/png": "[encoded data removed]",
      "text/plain": [
       "<matplotlib.figure.Figure at 0x7f4310e3e390>"
      ]
     },
     "metadata": {},
     "output_type": "display_data"
    },
    {
     "name": "stdout",
     "output_type": "stream",
     "text": [
      "****************************************************************************************************\n",
      "INCIDENT_YEAR    2010   2011   2012   2013   2014\n",
      "INCIDENT_MONTH                                   \n",
      "1               141.0  131.0  142.0  128.0   80.0\n",
      "2                79.0   90.0  143.0   95.0  112.0\n",
      "3               177.0  163.0  199.0  147.0  156.0\n",
      "4               245.0  293.0  350.0  297.0  267.0\n",
      "5               309.0  340.0  443.0  426.0  432.0\n",
      "6               248.0  271.0  319.0  269.0  279.0\n",
      "7               404.0  360.0  446.0  401.0    NaN\n",
      "8               514.0  449.0  484.0  537.0    NaN\n",
      "9               505.0  560.0  562.0  525.0    NaN\n",
      "10              411.0  489.0  541.0  546.0    NaN\n",
      "11              270.0  273.0  232.0  290.0    NaN\n",
      "12              122.0  142.0  147.0  141.0    NaN\n"
     ]
    }
   ],
   "source": [
    "\"\"\"\n",
    "Creare un nuovo dataset (chiamato “summary”) nel quale rappresentare sulle righe i mesi e sulle colonne \n",
    "gli anni. E’ possibile individuare attraverso una rappresentazione grafica un trend nella frequenza \n",
    "degli incidenti?\n",
    "\"\"\"\n",
    "summary = dataset.groupby(['INCIDENT_MONTH', 'INCIDENT_YEAR']).size().unstack()\n",
    "plt.plot(summary)\n",
    "plt.title('Rapporto incidenti mese - anno')\n",
    "plt.legend(summary.columns)\n",
    "plt.xlabel('Mesi')\n",
    "plt.show()\n",
    "\n",
    "# Print\n",
    "print('*' * 100)\n",
    "print(summary)"
   ]
  },
  {
   "cell_type": "markdown",
   "metadata": {},
   "source": [
    "## Parte 2"
   ]
  },
  {
   "cell_type": "markdown",
   "metadata": {},
   "source": [
    "### Punto 1.2"
   ]
  },
  {
   "cell_type": "code",
   "execution_count": 6,
   "metadata": {},
   "outputs": [
    {
     "name": "stdout",
     "output_type": "stream",
     "text": [
      "Valori DAMAGE: [1 7 3 5]\n",
      "Valori SIZE: [1 5 3 0]\n",
      "Valori WARNED: [0 1 3]\n"
     ]
    }
   ],
   "source": [
    "\"\"\"\n",
    "Scikit-learn utilizza un array numpy per effettuare le proprie predizioni. Gli elementi \n",
    "dell’array numpy devono essere delle stesso data type. E’ necessario pertanto trasformare i \n",
    "dati del dataset per renderli utilizzabili con scikit.\n",
    "\n",
    "Trasformare i valori dei campi DAMAGE, SIZE, WARNED adottando i seguenti valori:\n",
    "    * DAMAGE\n",
    "        U = 0\n",
    "        N = 1\n",
    "        M = 3\n",
    "        M?= 5\n",
    "        S = 7\n",
    "        D = 9\n",
    "    *SIZE\n",
    "        Small = 1\n",
    "        Medium = 3\n",
    "        Large = 5\n",
    "        Unknown = 0\n",
    "    *WARNED\n",
    "        N = 0\n",
    "        Y = 1\n",
    "        Unknown = 3\n",
    "\"\"\"\n",
    "# Copio il dizionario\n",
    "dataset_new = dataset.copy()\n",
    "#Creo i dizionari\n",
    "dict_damage = {'U' : 0, 'N' : 1, 'M' : 3, 'M?' : 5, 'S' : 7, 'D' : 7}\n",
    "dict_size = {'Small' : 1, 'Medium' : 3, 'Large' : 5, 'Unknown' : 0}\n",
    "dict_warned = {'N' : 0, 'Y' : 1, 'n': 0, 'y' : 1, 'Unknown' : 3}\n",
    "# Applico la trasformazione. Potevo anche usare 'replace'\n",
    "dataset_new['DAMAGE'] = dataset_new['DAMAGE'].map(dict_damage)\n",
    "dataset_new['SIZE'] = dataset_new['SIZE'].map(dict_size)\n",
    "dataset_new['WARNED'] = dataset_new['WARNED'].map(dict_warned)\n",
    "# Si potevano anche rappuggrare i dataset e applicare tutti insieme. Soluzione più rapida\n",
    "\n",
    "# Controllo i valori\n",
    "value_damage = dataset_new['DAMAGE'].unique()\n",
    "value_size = dataset_new['SIZE'].unique()\n",
    "value_warned = dataset_new['WARNED'].unique()\n",
    "print('Valori DAMAGE:', value_damage)\n",
    "print('Valori SIZE:', value_size)\n",
    "print('Valori WARNED:', value_warned)"
   ]
  },
  {
   "cell_type": "code",
   "execution_count": 7,
   "metadata": {},
   "outputs": [
    {
     "name": "stdout",
     "output_type": "stream",
     "text": [
      "Dimensioni iniziali: 16122\n",
      "Dimensioni finali: 14842\n",
      "Dimensioni CLASS uguali B o NaN 505. Con SIZE uguale a 0 797\n"
     ]
    }
   ],
   "source": [
    "\"\"\"\n",
    "Creare un nuovo dataset che consideri solo gli aeroplani e gli incidenti che coinvolgono animali \n",
    "con una dimensione nota. Denominare il dataset  “data_air”. In data_air eliminare poi l’attributo\n",
    "AC_CLASS divenuto irrilevante. \n",
    "\"\"\"\n",
    "data_air = dataset_new.copy()\n",
    "data_air = data_air[data_air['AC_CLASS'] == 'A']\n",
    "data_air = data_air[data_air['SIZE'] != 0]\n",
    "data_air = data_air.drop('AC_CLASS', axis = 1)\n",
    "\n",
    "#Confronto dimensioni\n",
    "print('Dimensioni iniziali:', dataset_new.shape[0])\n",
    "print('Dimensioni finali:', data_air.shape[0])\n",
    "num_A = dataset_new[dataset_new['AC_CLASS'] == 'B'].shape[0] + dataset_new['AC_CLASS'].isna().sum()\n",
    "num_0 = dataset_new[dataset_new['SIZE'] == 0].shape[0]\n",
    "print('Dimensioni CLASS uguali B o NaN {}. Con SIZE uguale a 0 {}'.format(num_A, num_0))"
   ]
  },
  {
   "cell_type": "markdown",
   "metadata": {},
   "source": [
    "### Punto 2.3"
   ]
  },
  {
   "cell_type": "code",
   "execution_count": 8,
   "metadata": {},
   "outputs": [],
   "source": [
    "\"\"\"\n",
    "Eliminare le righe che contengono almeno un element NaN\n",
    "\"\"\"\n",
    "data_air = data_air.dropna(axis = 1)"
   ]
  },
  {
   "cell_type": "markdown",
   "metadata": {},
   "source": [
    "### Punto 2.4"
   ]
  },
  {
   "cell_type": "code",
   "execution_count": 9,
   "metadata": {},
   "outputs": [
    {
     "name": "stdout",
     "output_type": "stream",
     "text": [
      "Accuracy: 0.697\n"
     ]
    }
   ],
   "source": [
    "\"\"\"\n",
    "Si vuole predire la dimensione dell’animale sulla base degli altri attributi presenti nel datase.\n",
    "Dividere “data_air” in modo che ¾ degli elementi siano contenuti in un nuovo dataset “train” e ¼ nel \n",
    "dataset “test”.\n",
    "\n",
    "Valutare l’accuracy ottenuta con il modello BernoulliNB\n",
    "(from sklearn.naive_bayes import BernoulliNB)\n",
    "\"\"\"\n",
    "Y = data_air['SIZE']\n",
    "X = data_air.drop('SIZE', axis = 1)\n",
    "\n",
    "test_size = 0.33\n",
    "X_train, X_test, Y_train, Y_test = train_test_split(X, Y, test_size = test_size, random_state = 0)\n",
    "bernoulliNB = BernoulliNB()\n",
    "bernoulliNB.fit(X_train, Y_train)\n",
    "score = bernoulliNB.score(X_test, Y_test)\n",
    "print('Accuracy: {:0.3f}'.format(score))"
   ]
  },
  {
   "cell_type": "markdown",
   "metadata": {},
   "source": [
    "### Punto 2.5"
   ]
  },
  {
   "cell_type": "code",
   "execution_count": 10,
   "metadata": {},
   "outputs": [
    {
     "name": "stdout",
     "output_type": "stream",
     "text": [
      "Confusion Matrix Bernoulli BNB:\n",
      " [[3411    0    2]\n",
      " [1100    0    2]\n",
      " [ 381    0    2]]\n"
     ]
    }
   ],
   "source": [
    "\"\"\"\n",
    "Il valore di accuratezza ottenuto è abbastanza elevato, tuttavia, cosa si scopre analizzando \n",
    "la confusion matrix?\n",
    "\"\"\"\n",
    "y_pred_BNB = bernoulliNB.predict(X_test)\n",
    "confusion_matrix_BNB = confusion_matrix(Y_test, y_pred_BNB)\n",
    "print('Confusion Matrix Bernoulli BNB:\\n', confusion_matrix_BNB)"
   ]
  },
  {
   "cell_type": "markdown",
   "metadata": {},
   "source": [
    "### Punto 2.6"
   ]
  },
  {
   "cell_type": "code",
   "execution_count": 11,
   "metadata": {},
   "outputs": [
    {
     "name": "stdout",
     "output_type": "stream",
     "text": [
      "Accuracy DECISION TREE: 0.612\n",
      "Confusion matrix DECISION TREE:\n",
      " [[2572  680  161]\n",
      " [ 666  317  119]\n",
      " [ 154  120  109]]\n"
     ]
    }
   ],
   "source": [
    "\"\"\"\n",
    "Se si utilizza un modello basato su Decision Tree che valore di accuratezza si ottiene? Cambia\n",
    "qualcosa nella confusion matrix?\n",
    "\"\"\"\n",
    "decision_tree = DecisionTreeClassifier()\n",
    "decision_tree.fit(X_train, Y_train)\n",
    "score = decision_tree.score(X_test, Y_test)\n",
    "y_pred_DT = decision_tree.predict(X_test)\n",
    "confusion_matrix_DT = confusion_matrix(Y_test, y_pred_DT)\n",
    "print('Accuracy DECISION TREE: {:0.3f}'.format(score))\n",
    "print('Confusion matrix DECISION TREE:\\n', confusion_matrix_DT)"
   ]
  },
  {
   "cell_type": "markdown",
   "metadata": {},
   "source": [
    "### Punto 2.7"
   ]
  },
  {
   "cell_type": "code",
   "execution_count": 12,
   "metadata": {},
   "outputs": [
    {
     "name": "stdout",
     "output_type": "stream",
     "text": [
      "Accuracy DECISION TREE con dataset bilanciato: 0.612\n",
      "Confusion matrix DECISION TREE con dataset bilanciato:\n",
      " [[2576  673  168]\n",
      " [ 663  310  125]\n",
      " [ 156  116  112]]\n"
     ]
    }
   ],
   "source": [
    "\"\"\"\n",
    "Si analizzi il dataset “data_air” e si crei un nuovo training set “bilanciato” composto cioè di ¾ delle\n",
    "istanze aventi valore di SIZE = 1 (Small), ¾ delle istanze aventi valore di SIZE =3 (Medium), ¾ delle \n",
    "istanze aventi valore di SIZE = 5 (Large) e aventi come test set il rimanente delle istanze. \n",
    "Come cambia l’accuratezza considerando sempre un modello basato su Decision Tree? Cambia qualcosa nella \n",
    "confusion matrix?\n",
    "\"\"\"\n",
    "dataset_bilanced = data_air.copy()\n",
    "\n",
    "one = dataset_bilanced[dataset_bilanced['SIZE'] == 1]\n",
    "three = dataset_bilanced[dataset_bilanced['SIZE'] == 3]\n",
    "five = dataset_bilanced[dataset_bilanced['SIZE'] == 5]\n",
    "\n",
    "test_size = 0.33\n",
    "train_one, test_one = train_test_split(one, test_size = test_size)\n",
    "train_three, test_three = train_test_split(five, test_size = test_size)\n",
    "train_five, test_five = train_test_split(three, test_size = test_size)\n",
    "\n",
    "train = pd.concat([train_one, train_three, train_five])\n",
    "test = pd.concat([test_one, test_three, test_five])\n",
    "\n",
    "Y_train = train['SIZE']\n",
    "X_train = train.drop('SIZE', axis = 1)\n",
    "Y_test = test['SIZE']\n",
    "X_test = test.drop('SIZE', axis = 1)\n",
    "\n",
    "decision_tree.fit(X_train, Y_train)\n",
    "y_pred_bal = decision_tree.predict(X_test)\n",
    "score_bal = decision_tree.score(X_test, Y_test)\n",
    "confusion_matrix_bal = confusion_matrix(Y_test, y_pred_bal)\n",
    "\n",
    "print('Accuracy DECISION TREE con dataset bilanciato: {:0.3f}'.format(score_bal))\n",
    "print('Confusion matrix DECISION TREE con dataset bilanciato:\\n', confusion_matrix_bal)"
   ]
  },
  {
   "cell_type": "markdown",
   "metadata": {},
   "source": [
    "### Punto 2.8"
   ]
  },
  {
   "cell_type": "code",
   "execution_count": 44,
   "metadata": {},
   "outputs": [
    {
     "name": "stdout",
     "output_type": "stream",
     "text": [
      "Accuracy DECISION TREE: 0.922\n",
      "Confusion matrix DECISION TREE:\n",
      " [[9751  358   82]\n",
      " [ 491 2801   51]\n",
      " [ 100   64  996]]\n"
     ]
    }
   ],
   "source": [
    "\"\"\"\n",
    "Si consideri un nuovo dataset ottenuto attraverso una variazione a piacere del precedente e si analizzi \n",
    "l’accuratezza ottenuta con un modello basato su Decision Tree. Che valore si ottiene?\n",
    "\"\"\"\n",
    "dataset_z = data_air.copy()\n",
    "# Replico i dati per aumentare il numero di esempi\n",
    "dataset_z = pd.concat([dataset_z, dataset_z, dataset_z])\n",
    "\n",
    "# Trasformo SPEED Tra 0 a 1\n",
    "scaler = MinMaxScaler()\n",
    "scaler.fit(dataset_z[['SPEED']])\n",
    "dataset_z['SPEED'] = scaler.transform(dataset_z[['SPEED']])\n",
    "\n",
    "\n",
    "# Creo due nuove colonne con 1 se l'incidente è avvenuto sopra l'altezza e la velocità media, altrimenti 0\n",
    "mean_height = np.mean(dataset_z['HEIGHT'])\n",
    "mean_speed = np.mean(dataset_z['SPEED'])\n",
    "dataset_z['HEIGHT_MEAN'] = np.where(dataset_z['HEIGHT'] > mean_height, 1, 0)\n",
    "dataset_z['SPEED_MEAN'] = np.where(dataset_z['SPEED'] < mean_speed, 1, 0)\n",
    "\n",
    "# Creo i dummies di DAMAGE\n",
    "dummies_damage = pd.get_dummies(dataset_z['DAMAGE'])\n",
    "dataset_z = pd.concat([dataset_z, dummies_damage], axis = 1)\n",
    "\n",
    "# Raggruppo i mesi per stagioni\n",
    "seasons = [1, 2, 3, 4]\n",
    "num_seasons = 4\n",
    "dataset_z['SEASON'] = pd.qcut(dataset_z['INCIDENT_MONTH'], q = num_seasons, labels= seasons)\n",
    "\n",
    "Y = dataset_z['SIZE']\n",
    "X = dataset_z.drop('SIZE', axis = 1)\n",
    "\n",
    "\n",
    "X_train, X_test, Y_train, Y_test = train_test_split(X, Y, test_size = 0.33, random_state = 1)\n",
    "\n",
    "decision_tree.fit(X_train, Y_train)\n",
    "score = decision_tree.score(X_test, Y_test)\n",
    "y_pred_DT = decision_tree.predict(X_test)\n",
    "confusion_matrix_DT = confusion_matrix(Y_test, y_pred_DT)\n",
    "print('Accuracy DECISION TREE: {:0.3f}'.format(score))\n",
    "print('Confusion matrix DECISION TREE:\\n', confusion_matrix_DT)"
   ]
  },
  {
   "cell_type": "markdown",
   "metadata": {},
   "source": [
    "### Punto 2.9"
   ]
  },
  {
   "cell_type": "code",
   "execution_count": 49,
   "metadata": {},
   "outputs": [
    {
     "name": "stdout",
     "output_type": "stream",
     "text": [
      "Accuracy 0.9711 (0.0049)\n"
     ]
    }
   ],
   "source": [
    "\"\"\"\n",
    "Che valore di accuratezza si ottiene con un 5 Fold cross validation e un modello basato su Decision Tree\n",
    "\"\"\"\n",
    "num_folds = 5\n",
    "scores = cross_val_score(decision_tree, X, Y, cv = num_folds)\n",
    "print('Accuracy {:.04f} ({:.04f})'.format(scores.mean(), scores.std()))"
   ]
  }
 ],
 "metadata": {
  "kernelspec": {
   "display_name": "Python 3",
   "language": "python",
   "name": "python3"
  },
  "language_info": {
   "codemirror_mode": {
    "name": "ipython",
    "version": 3
   },
   "file_extension": ".py",
   "mimetype": "text/x-python",
   "name": "python",
   "nbconvert_exporter": "python",
   "pygments_lexer": "ipython3",
   "version": "3.6.4"
  }
 },
 "nbformat": 4,
 "nbformat_minor": 2
}
