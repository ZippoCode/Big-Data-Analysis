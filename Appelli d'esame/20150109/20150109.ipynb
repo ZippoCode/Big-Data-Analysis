{
 "cells": [
  {
   "cell_type": "markdown",
   "metadata": {
    "collapsed": true
   },
   "source": [
    "## Appello del 09 Gennaio 2015"
   ]
  },
  {
   "cell_type": "code",
   "execution_count": 19,
   "metadata": {
    "collapsed": true
   },
   "outputs": [],
   "source": [
    "#IMPORT\n",
    "import numpy as np\n",
    "import pandas as pd\n",
    "import matplotlib.pyplot as plt\n",
    "\n",
    "from sklearn.model_selection import (train_test_split, cross_val_score)\n",
    "\n",
    "# Algorithms\n",
    "from sklearn.tree import DecisionTreeClassifier\n",
    "from sklearn.naive_bayes import BernoulliNB\n",
    "from sklearn.neighbors import KNeighborsClassifier\n",
    "\n",
    "# Metrics\n",
    "from sklearn.metrics import (accuracy_score, confusion_matrix)\n",
    "from sklearn.metrics import confusion_matrix\n",
    "\n",
    "# PreProcessing\n",
    "from sklearn.preprocessing import MinMaxScaler\n",
    "from sklearn.preprocessing import Normalizer\n",
    "\n",
    "#Features Selection\n",
    "from sklearn.feature_selection import SelectKBest\n",
    "from sklearn.feature_selection import chi2"
   ]
  },
  {
   "cell_type": "markdown",
   "metadata": {},
   "source": [
    "### Punto 1.1"
   ]
  },
  {
   "cell_type": "code",
   "execution_count": 20,
   "metadata": {},
   "outputs": [
    {
     "data": {
      "text/html": [
       "<div>\n",
       "<style>\n",
       "    .dataframe thead tr:only-child th {\n",
       "        text-align: right;\n",
       "    }\n",
       "\n",
       "    .dataframe thead th {\n",
       "        text-align: left;\n",
       "    }\n",
       "\n",
       "    .dataframe tbody tr th {\n",
       "        vertical-align: top;\n",
       "    }\n",
       "</style>\n",
       "<table border=\"1\" class=\"dataframe\">\n",
       "  <thead>\n",
       "    <tr style=\"text-align: right;\">\n",
       "      <th></th>\n",
       "      <th>AC_CLASS</th>\n",
       "      <th>AC_MASS</th>\n",
       "      <th>NUM_ENGS</th>\n",
       "      <th>INCIDENT_MONTH</th>\n",
       "      <th>INCIDENT_YEAR</th>\n",
       "      <th>HEIGHT</th>\n",
       "      <th>SPEED</th>\n",
       "      <th>PHASE_OF_FLT</th>\n",
       "      <th>DAMAGE</th>\n",
       "      <th>BIRDS_STRUCK</th>\n",
       "      <th>SIZE</th>\n",
       "      <th>WARNED</th>\n",
       "    </tr>\n",
       "  </thead>\n",
       "  <tbody>\n",
       "    <tr>\n",
       "      <th>0</th>\n",
       "      <td>A</td>\n",
       "      <td>1</td>\n",
       "      <td>1.0</td>\n",
       "      <td>9</td>\n",
       "      <td>2011</td>\n",
       "      <td>0</td>\n",
       "      <td>0</td>\n",
       "      <td>1</td>\n",
       "      <td>N</td>\n",
       "      <td>1</td>\n",
       "      <td>Small</td>\n",
       "      <td>N</td>\n",
       "    </tr>\n",
       "    <tr>\n",
       "      <th>1</th>\n",
       "      <td>A</td>\n",
       "      <td>1</td>\n",
       "      <td>1.0</td>\n",
       "      <td>5</td>\n",
       "      <td>2013</td>\n",
       "      <td>0</td>\n",
       "      <td>0</td>\n",
       "      <td>1</td>\n",
       "      <td>S</td>\n",
       "      <td>1</td>\n",
       "      <td>Large</td>\n",
       "      <td>N</td>\n",
       "    </tr>\n",
       "    <tr>\n",
       "      <th>2</th>\n",
       "      <td>A</td>\n",
       "      <td>1</td>\n",
       "      <td>1.0</td>\n",
       "      <td>9</td>\n",
       "      <td>2013</td>\n",
       "      <td>0</td>\n",
       "      <td>0</td>\n",
       "      <td>1</td>\n",
       "      <td>N</td>\n",
       "      <td>1</td>\n",
       "      <td>Small</td>\n",
       "      <td>Y</td>\n",
       "    </tr>\n",
       "    <tr>\n",
       "      <th>3</th>\n",
       "      <td>A</td>\n",
       "      <td>1</td>\n",
       "      <td>1.0</td>\n",
       "      <td>12</td>\n",
       "      <td>2013</td>\n",
       "      <td>0</td>\n",
       "      <td>0</td>\n",
       "      <td>1</td>\n",
       "      <td>N</td>\n",
       "      <td>1</td>\n",
       "      <td>Small</td>\n",
       "      <td>N</td>\n",
       "    </tr>\n",
       "    <tr>\n",
       "      <th>4</th>\n",
       "      <td>B</td>\n",
       "      <td>1</td>\n",
       "      <td>1.0</td>\n",
       "      <td>7</td>\n",
       "      <td>2010</td>\n",
       "      <td>0</td>\n",
       "      <td>0</td>\n",
       "      <td>1</td>\n",
       "      <td>N</td>\n",
       "      <td>1</td>\n",
       "      <td>Medium</td>\n",
       "      <td>Y</td>\n",
       "    </tr>\n",
       "  </tbody>\n",
       "</table>\n",
       "</div>"
      ],
      "text/plain": [
       "  AC_CLASS  AC_MASS  NUM_ENGS  INCIDENT_MONTH  INCIDENT_YEAR  HEIGHT  SPEED  \\\n",
       "0        A        1       1.0               9           2011       0      0   \n",
       "1        A        1       1.0               5           2013       0      0   \n",
       "2        A        1       1.0               9           2013       0      0   \n",
       "3        A        1       1.0              12           2013       0      0   \n",
       "4        B        1       1.0               7           2010       0      0   \n",
       "\n",
       "   PHASE_OF_FLT DAMAGE  BIRDS_STRUCK    SIZE WARNED  \n",
       "0             1      N             1   Small      N  \n",
       "1             1      S             1   Large      N  \n",
       "2             1      N             1   Small      Y  \n",
       "3             1      N             1   Small      N  \n",
       "4             1      N             1  Medium      Y  "
      ]
     },
     "execution_count": 20,
     "metadata": {},
     "output_type": "execute_result"
    }
   ],
   "source": [
    "\"\"\"\n",
    "    Caricare il dataset e denominarlo con una variabile chiamata “dataset”\n",
    "\"\"\"\n",
    "path = 'wildlife0901.csv'\n",
    "dataset = pd.read_csv(path, sep=';')\n",
    "dataset.head()"
   ]
  },
  {
   "cell_type": "markdown",
   "metadata": {},
   "source": [
    "### Punto 1.2"
   ]
  },
  {
   "cell_type": "code",
   "execution_count": 3,
   "metadata": {
    "scrolled": true
   },
   "outputs": [
    {
     "name": "stdout",
     "output_type": "stream",
     "text": [
      "Elicotteri coinvolti: 15617\n",
      "Aereoplani coinvolti: 482\n"
     ]
    }
   ],
   "source": [
    "\"\"\"\n",
    "    Quanti sono gli incidenti che hanno coinvolto elicotteri?\n",
    "    Quanti hanno coinvolto areoplani?\n",
    "\"\"\"\n",
    "num = dataset.groupby(['AC_CLASS'])['AC_CLASS'].size()\n",
    "num_A = num['A']\n",
    "num_B = num['B']\n",
    "print(\"Elicotteri coinvolti: {}\".format(num_A))\n",
    "print(\"Aereoplani coinvolti: {}\".format(num_B))"
   ]
  },
  {
   "cell_type": "markdown",
   "metadata": {},
   "source": [
    "### Punto 1.3"
   ]
  },
  {
   "cell_type": "code",
   "execution_count": 4,
   "metadata": {},
   "outputs": [
    {
     "data": {
      "image/png": "[encoded data removed]",
      "text/plain": [
       "<matplotlib.figure.Figure at 0x7fb4960bff98>"
      ]
     },
     "metadata": {},
     "output_type": "display_data"
    },
    {
     "name": "stdout",
     "output_type": "stream",
     "text": [
      "L'anno 2012 e il mese 9 si sono registrati il numero massimo di incidenti, pari a 562\n"
     ]
    }
   ],
   "source": [
    "\"\"\"\n",
    "    Raggruppare gli incidenti per mesi e visualizzarli in un grafico. \n",
    "    Qual è il mese con il maggior numero di incidenti? \n",
    "\"\"\"\n",
    "incident_year_month= dataset.groupby(['INCIDENT_YEAR','INCIDENT_MONTH'])['INCIDENT_MONTH'].count()\n",
    "incident_year_month.plot(figsize = (8, 4), title = 'Rapporto incidenti anno-mese')\n",
    "plt.ylabel(\"Incidenti annuali\")\n",
    "plt.xlabel(\"Anni\")\n",
    "plt.show()\n",
    "\n",
    "# Prendo il numero massimo di incidenti e il mese e l'anno in cui si sono verificati\n",
    "incidenti_max = incident_year_month.max()\n",
    "year_max = incident_year_month.idxmax()\n",
    "print('L\\'anno {} e il mese {} si sono registrati il numero massimo di incidenti, pari a {}'\n",
    "      .format(year_max[0], year_max[1], incidenti_max))"
   ]
  },
  {
   "cell_type": "code",
   "execution_count": 5,
   "metadata": {},
   "outputs": [
    {
     "data": {
      "image/png": "[encoded data removed]",
      "text/plain": [
       "<matplotlib.figure.Figure at 0x7fb4a69146d8>"
      ]
     },
     "metadata": {},
     "output_type": "display_data"
    },
    {
     "name": "stdout",
     "output_type": "stream",
     "text": [
      "Il mese nel quale si sono registrati più incidenti è 9 con 2152 incidenti\n"
     ]
    }
   ],
   "source": [
    "\"\"\"\n",
    "    Questo è un modo alternativo per calcolare il punto 1.2 basandosi solamente sui mesi\n",
    "\"\"\"\n",
    "incident_month = dataset['INCIDENT_MONTH'].value_counts().sort_index()\n",
    "plt.plot(incident_month)\n",
    "plt.show()\n",
    "indicent_max = incident_month.max()\n",
    "month_max = incident_month.idxmax()\n",
    "print('Il mese nel quale si sono registrati più incidenti è {} con {} incidenti'.format(month_max, indicent_max))"
   ]
  },
  {
   "cell_type": "markdown",
   "metadata": {},
   "source": [
    "### Punto 1.4"
   ]
  },
  {
   "cell_type": "code",
   "execution_count": 6,
   "metadata": {},
   "outputs": [
    {
     "name": "stdout",
     "output_type": "stream",
     "text": [
      "Summary Dataset: \n",
      "INCIDENT_YEAR    2010   2011   2012   2013   2014\n",
      "INCIDENT_MONTH                                   \n",
      "1               141.0  131.0  142.0  128.0   80.0\n",
      "2                79.0   90.0  143.0   95.0  112.0\n",
      "3               177.0  163.0  199.0  147.0  156.0\n",
      "4               245.0  293.0  350.0  297.0  267.0\n",
      "5               309.0  340.0  443.0  426.0  432.0\n",
      "6               248.0  271.0  319.0  269.0  279.0\n",
      "7               404.0  360.0  446.0  401.0    NaN\n",
      "8               514.0  449.0  484.0  537.0    NaN\n",
      "9               505.0  560.0  562.0  525.0    NaN\n",
      "10              411.0  489.0  541.0  546.0    NaN\n",
      "11              270.0  273.0  232.0  290.0    NaN\n",
      "12              122.0  142.0  147.0  141.0    NaN\n"
     ]
    }
   ],
   "source": [
    "\"\"\" \n",
    "    Creare un nuovo dataset (chiamato “summary”) nel quale rappresentare sulle righe i mesi e\n",
    "    sulle colonne gli anni. \n",
    "    E’ possibile individuare attraverso una rappresentazione grafica un trend \n",
    "    nella frequenza degli incidenti?\n",
    "\"\"\" \n",
    "# Raggruppo il dataset per mesi ed anni\n",
    "summary = dataset.groupby(['INCIDENT_MONTH', 'INCIDENT_YEAR']).size()\n",
    "# Uso la funzione 'unstack' per ruotare l'indice 'INCIDENT_YEAR' e utilizzarlo come colonna\n",
    "summary = summary.unstack(['INCIDENT_YEAR'])\n",
    "print('Summary Dataset: ')\n",
    "print(summary)"
   ]
  },
  {
   "cell_type": "markdown",
   "metadata": {},
   "source": [
    "### Punto 2.1"
   ]
  },
  {
   "cell_type": "code",
   "execution_count": 32,
   "metadata": {},
   "outputs": [
    {
     "name": "stdout",
     "output_type": "stream",
     "text": [
      "****************************************************************************************************\n",
      "Trasformazione\n",
      "   AC_CLASS  AC_MASS  NUM_ENGS  INCIDENT_MONTH  INCIDENT_YEAR  HEIGHT  SPEED  \\\n",
      "0        A        1       1.0               9           2011       0      0   \n",
      "1        A        1       1.0               5           2013       0      0   \n",
      "2        A        1       1.0               9           2013       0      0   \n",
      "3        A        1       1.0              12           2013       0      0   \n",
      "4        B        1       1.0               7           2010       0      0   \n",
      "\n",
      "   PHASE_OF_FLT DAMAGE  BIRDS_STRUCK    SIZE WARNED  \n",
      "0             1      N             1   Small      N  \n",
      "1             1      S             1   Large      N  \n",
      "2             1      N             1   Small      Y  \n",
      "3             1      N             1   Small      N  \n",
      "4             1      N             1  Medium      Y  \n",
      "Valori 'DAMAGE': ['N' 'S' 'D' 'M' 'M?']\n",
      "Valori 'SIZE': ['Small' 'Large' 'Medium' 'Unknown']\n",
      "Valori 'WARNED': ['N' 'Y' 'Unknown' 'n' 'y']\n"
     ]
    }
   ],
   "source": [
    "\"\"\"\n",
    "    Scikit-learn utilizza un array numpy per effettuare le proprie predizioni. Gli elementi \n",
    "    dell’array numpy devono essere delle stesso data type. E’ necessario pertanto trasformare i \n",
    "    dati del dataset per renderli utilizzabili con scikit.\n",
    "\n",
    "    Trasformare i valori dei campi DAMAGE, SIZE, WARNED adottando i seguenti valori:\n",
    "        * DAMAGE\n",
    "            U = 0\n",
    "            N = 1\n",
    "            M = 3\n",
    "            M?= 5\n",
    "            S = 7\n",
    "            D = 9\n",
    "        *SIZE\n",
    "            Small = 1\n",
    "            Medium = 3\n",
    "            Large = 5\n",
    "            Unknown = 0\n",
    "        *WARNED\n",
    "            N = 0\n",
    "            Y = 1\n",
    "            Unknown = 3\n",
    "    \n",
    "\"\"\"\n",
    "# Creo i dizionari per la sostituzione\n",
    "dict_damage = {'U':'0', 'N':'1','M':'3','M?':'5', 'S':'7', 'D':'9'}\n",
    "dict_size = {'Small':'1', 'Medium':'3', 'Large':'5', 'Unknown':'0'}\n",
    "dict_warned = {'N':'0', 'Y':'1', 'Unknown':'3'}\n",
    "dict_df = {'DAMAGE': dict_damage, 'SIZE': dict_size, 'WARNED': dict_warned}\n",
    "\n",
    "# Per evitare problemi con le future esecuzioni copio il dataset in un nuovo Dataframe chiamato 'df_new'\n",
    "df_new = dataset.copy()\n",
    "# Sostituisco i valori\n",
    "df_new.replace(dict_df)\n",
    "# Print\n",
    "print('*' * 100)\n",
    "print(\"Trasformazione\\n\", dataset.head(5))\n",
    "print('Valori \\'DAMAGE\\': {}'.format(df_new['DAMAGE'].unique()))\n",
    "print('Valori \\'SIZE\\': {}'.format(df_new['SIZE'].unique()))\n",
    "print('Valori \\'WARNED\\': {}'.format(df_new['WARNED'].unique()))"
   ]
  },
  {
   "cell_type": "code",
   "execution_count": 33,
   "metadata": {},
   "outputs": [
    {
     "name": "stdout",
     "output_type": "stream",
     "text": [
      "Trasformazione\n",
      "   AC_CLASS  AC_MASS  NUM_ENGS  INCIDENT_MONTH  INCIDENT_YEAR  HEIGHT  SPEED  \\\n",
      "0        A        1       1.0               9           2011       0      0   \n",
      "1        A        1       1.0               5           2013       0      0   \n",
      "2        A        1       1.0               9           2013       0      0   \n",
      "3        A        1       1.0              12           2013       0      0   \n",
      "4        B        1       1.0               7           2010       0      0   \n",
      "\n",
      "   PHASE_OF_FLT DAMAGE  BIRDS_STRUCK    SIZE WARNED  \n",
      "0             1      N             1   Small      N  \n",
      "1             1      S             1   Large      N  \n",
      "2             1      N             1   Small      Y  \n",
      "3             1      N             1   Small      N  \n",
      "4             1      N             1  Medium      Y  \n"
     ]
    }
   ],
   "source": [
    "\"\"\"\n",
    "    Si poteva anche realizzare come:\n",
    "\"\"\"\n",
    "# Per evitare problemi con le future esecuzioni copio il dataset in un nuovo Dataframe chiamato 'df_new'\n",
    "df_new = dataset.copy()\n",
    "# Sostituisco i valori\n",
    "df_new['DAMAGE'] = df_new['DAMAGE'].map(dict_damage)\n",
    "df_new['SIZE'] = df_new['SIZE'].map(dict_size)\n",
    "df_new['WARNED'] = df_new['WARNED'].map(dict_warned)\n",
    "print(\"Trasformazione\\n\", dataset.head())"
   ]
  },
  {
   "cell_type": "markdown",
   "metadata": {},
   "source": [
    "### Punto 2.2"
   ]
  },
  {
   "cell_type": "code",
   "execution_count": 34,
   "metadata": {},
   "outputs": [
    {
     "name": "stdout",
     "output_type": "stream",
     "text": [
      "Data Air:\n",
      "    AC_MASS  NUM_ENGS  INCIDENT_MONTH  INCIDENT_YEAR  HEIGHT  SPEED  \\\n",
      "0        1       1.0               9           2011       0      0   \n",
      "1        1       1.0               5           2013       0      0   \n",
      "2        1       1.0               9           2013       0      0   \n",
      "3        1       1.0              12           2013       0      0   \n",
      "8        2       2.0               9           2012       0      0   \n",
      "\n",
      "   PHASE_OF_FLT DAMAGE  BIRDS_STRUCK SIZE WARNED  \n",
      "0             1      1             1    1      0  \n",
      "1             1      7             1    5      0  \n",
      "2             1      1             1    1      1  \n",
      "3             1      1             1    1      0  \n",
      "8             1      1             1    3      3  \n",
      "****************************************************************************************************\n",
      "Righe Dataset iniziale: 16122\n",
      "Nuova dimensione: 14842 (Non A:505, Uguali a zero:797)\n"
     ]
    }
   ],
   "source": [
    "\"\"\"\n",
    "    Creare un nuovo dataset che consideri solo gli aeroplani e gli incidenti \n",
    "    che coinvolgono animali con una dimensione nota. Denominare il dataset  “data_air”. \n",
    "    In data_air eliminare poi l’attributo AC_CLASS divenuto irrilevante. \n",
    "\"\"\"\n",
    "# Utilizzo il DataFrame 'df_new' modificato precedentemente e per evitare problemi lo copio in 'data_air' e poi\n",
    "# modifico quest'ultimo\n",
    "data_air = df_new.copy()\n",
    "data_air = data_air[(dataset.AC_CLASS == 'A')]\n",
    "data_air = data_air[(data_air.SIZE != '0')]\n",
    "data_air = data_air.drop(['AC_CLASS'], axis = 1)\n",
    "print('Data Air:\\n', data_air.head())\n",
    "\n",
    "# Per verificare la corretta esecuzioni controllo il numero di righe coinvolte\n",
    "num_ac_class_A = df_new[(df_new['AC_CLASS'] != 'A')].shape[0]\n",
    "num_size_0 = df_new[(df_new['SIZE'] == '0')].shape[0]\n",
    "print('*' * 100)\n",
    "print('Righe Dataset iniziale: {}'.format(df_new.shape[0]))\n",
    "print('Nuova dimensione: {} (Non A:{}, Uguali a zero:{})'.format(data_air.shape[0],\n",
    "                                                                 num_ac_class_A, num_size_0))"
   ]
  },
  {
   "cell_type": "markdown",
   "metadata": {},
   "source": [
    "### Punto 2.3"
   ]
  },
  {
   "cell_type": "code",
   "execution_count": 10,
   "metadata": {},
   "outputs": [
    {
     "name": "stdout",
     "output_type": "stream",
     "text": [
      "Si può notare l'eliminazione delle istante che contengono valori NaN dalla loro dimesione\n",
      "\n",
      "Con NaN 14842 senza 14789\n",
      "Num NaN: 53\n"
     ]
    }
   ],
   "source": [
    "\"\"\"\n",
    "    - Eliminare le righe che contengono almeno un element NaN\n",
    "\"\"\"\n",
    "# Solito discorso, copio\n",
    "data_air_new = data_air.copy()\n",
    "num_NaN = data_air_new.isnull().sum().sum()\n",
    "data_air_new = data_air_new.dropna()\n",
    "print(\"Si può notare l'eliminazione delle istante che contengono valori NaN dalla loro dimesione\\n\")\n",
    "print(\"Con NaN {} senza {}\".format(data_air.shape[0], data_air_new.shape[0]))\n",
    "print('Num NaN: {}'.format(num_NaN))"
   ]
  },
  {
   "cell_type": "markdown",
   "metadata": {},
   "source": [
    "### Punto 2.4"
   ]
  },
  {
   "cell_type": "code",
   "execution_count": 11,
   "metadata": {},
   "outputs": [
    {
     "name": "stdout",
     "output_type": "stream",
     "text": [
      "Dimensioni:\n",
      "Iniziale: 14789\n",
      "Train: 11091\n",
      "Test: 3698\n",
      "Accuracy: 0.7031\n"
     ]
    }
   ],
   "source": [
    "\"\"\"\n",
    "    Si vuole predire la dimensione dell’animale sulla base degli altri attributi \n",
    "    presenti nel dataset . Dividere “data_air” in modo che ¾ degli elementi siano contenuti \n",
    "    in un nuovo dataset “train” e ¼ nel dataset “test”.\n",
    "    Valutare l’accuracy ottenuta con il modello BernoulliNB\n",
    "    (from sklearn.naive_bayes import BernoulliNB)\n",
    "\"\"\"\n",
    "# Utilizzo il dataset creato precedentemente, solito discorso copio\n",
    "dataset_bnb = data_air_new.copy()\n",
    "Y = dataset_bnb['SIZE']\n",
    "X = dataset_bnb.drop(['SIZE'], axis = 1)\n",
    "X_train, X_test, Y_train, Y_test = train_test_split(X, Y, test_size = 0.25)\n",
    "print(\"Dimensioni:\\nIniziale: {}\\nTrain: {}\\nTest: {}\".format(dataset_bnb.shape[0], \n",
    "                                                             X_train.shape[0], X_test.shape[0]))\n",
    "model_BNB = BernoulliNB()\n",
    "# Fit\n",
    "model_BNB.fit(X_train, Y_train)\n",
    "# Score\n",
    "score_BNB = model_BNB.score(X_test, Y_test)\n",
    "print('*' * 100)\n",
    "print(\"Accuracy: {:.04f}\".format(score_BNB))"
   ]
  },
  {
   "cell_type": "markdown",
   "metadata": {},
   "source": [
    "### Punto 2.5"
   ]
  },
  {
   "cell_type": "code",
   "execution_count": 12,
   "metadata": {},
   "outputs": [
    {
     "name": "stdout",
     "output_type": "stream",
     "text": [
      "Confusion matrix:\n",
      "[[2600    1    0]\n",
      " [ 801    0    0]\n",
      " [ 293    3    0]]\n"
     ]
    }
   ],
   "source": [
    "\"\"\"\n",
    "    Il valore di accuratezza ottenuto è abbastanza elevato, tuttavia, cosa si scopre analizzando la \n",
    "    confusion matrix?\n",
    "\"\"\"\n",
    "y_pred_BNB = model_BNB.predict(X_test)\n",
    "confusion_matrix_BNB = confusion_matrix(Y_test, y_pred_BNB)\n",
    "print(\"Confusion matrix:\\n{}\".format(confusion_matrix_BNB))"
   ]
  },
  {
   "cell_type": "markdown",
   "metadata": {},
   "source": [
    "### Punto 2.6"
   ]
  },
  {
   "cell_type": "code",
   "execution_count": 13,
   "metadata": {},
   "outputs": [
    {
     "name": "stdout",
     "output_type": "stream",
     "text": [
      "Accuracy: 0.6044\n",
      "Confusion matrix:\n",
      "[[1933  523  145]\n",
      " [ 506  221   74]\n",
      " [ 122   93   81]]\n"
     ]
    }
   ],
   "source": [
    "\"\"\"\n",
    "    Se si utilizza un modello basato su Decision Tree che valore di accuratezza si ottiene? \n",
    "    Cambia qualcosa nella confusion matrix?\n",
    "\"\"\"\n",
    "model_DT= DecisionTreeClassifier()\n",
    "# Fit\n",
    "model_DT.fit(X_train, Y_train)\n",
    "# Score Decision Tree\n",
    "score_DT = model_DT.score(X_test, Y_test)\n",
    "# Predict Decision Tree\n",
    "y_pred_DT = model_DT.predict(X_test)\n",
    "# Confusion Matrix Decision Tree\n",
    "confusion_matrix_DT = confusion_matrix(Y_test, y_pred_DT)\n",
    "# Print\n",
    "print(\"Accuracy: {:.04f}\".format(score_DT))\n",
    "print(\"Confusion matrix:\\n{}\".format(confusion_matrix_DT))"
   ]
  },
  {
   "cell_type": "markdown",
   "metadata": {},
   "source": [
    "### Punto 2.7"
   ]
  },
  {
   "cell_type": "code",
   "execution_count": 14,
   "metadata": {},
   "outputs": [
    {
     "name": "stdout",
     "output_type": "stream",
     "text": [
      "Numero righe iniziali: ONE: 10325 - THREE:3304 - FIVE:1160\n",
      "Numero righe Train: ONE: 7743 - THREE:2478 - FIVE:870\n",
      "Accuracy DT Balanced: 0.6091\n",
      "Confusion matrix DT Balanced:\n",
      "[[1439  411   89]\n",
      " [ 370  190   61]\n",
      " [  92   61   60]]\n"
     ]
    }
   ],
   "source": [
    "\"\"\"\n",
    "    Si analizzi il dataset “data_air” e si crei un nuovo training set “bilanciato” composto\n",
    "    cioè di ¾ delle istanze aventi valore di SIZE = 1 (Small), ¾ delle istanze aventi valore di SIZE =3 \n",
    "    (Medium), ¾ delle istanze aventi valore di SIZE = 5 (Large) e aventi come test set il rimanente \n",
    "    delle istanze. Come cambia l’accuratezza considerando sempre un modello basato su Decision Tree? \n",
    "    Cambia qualcosa nella confusion matrix?\n",
    "\"\"\"\n",
    "# Utilizzo 'data_air_new' nel quale non sono presenti i valori di SIZE uguale a 0 e considera solo gli aereoplani\n",
    "# Prendo separatamente le istanze per 'SIZE' uguale a 1, 3 e 5\n",
    "data_air_size_one = data_air_new[data_air_new.SIZE == '1']\n",
    "data_air_size_three = data_air_new[data_air_new.SIZE == '3']\n",
    "data_air_size_five = data_air_new[data_air_new.SIZE == '5']\n",
    "# Creo il training set\n",
    "X_train_one, _ = train_test_split(data_air_size_one, test_size = 0.25)\n",
    "X_train_three, _ = train_test_split(data_air_size_three, test_size = 0.25)\n",
    "X_train_five, _ = train_test_split(data_air_size_five, test_size = 0.25)\n",
    "# Verifico le dimensioni\n",
    "print('Numero righe iniziali: ONE: {} - THREE:{} - FIVE:{}'.format(data_air_size_one.shape[0],\n",
    "                                                                   data_air_size_three.shape[0],\n",
    "                                                                   data_air_size_five.shape[0]))\n",
    "print('Numero righe Train: ONE: {} - THREE:{} - FIVE:{}'.format(X_train_one.shape[0], X_train_three.shape[0],\n",
    "                                                                X_train_five.shape[0]))\n",
    "\n",
    "\n",
    "#Creo il nuovo dataset\n",
    "dataset_balanced = X_train_one.append(X_train_three).append(X_train_five)\n",
    "\n",
    "# Calcolo i nuovi X e Y\n",
    "Y_bal = dataset_balanced['SIZE']\n",
    "X_bal = dataset_balanced.drop(['SIZE'], axis = 1)\n",
    "X_bal_train, X_bal_test, Y_bal_train, Y_bal_test = train_test_split(X_bal, Y_bal, test_size = 0.25)\n",
    "\n",
    "model_DT.fit(X_bal_train, Y_bal_train)\n",
    "# Calcolo l'accuracy e la confusion_matrix\n",
    "\n",
    "score_bal_DT = model_DT.score(X_bal_test, Y_bal_test)\n",
    "y_pred_bal_DT = model_DT.predict(X_bal_test)\n",
    "\n",
    "confusion_matrix_bal_DT = confusion_matrix(Y_bal_test, y_pred_bal_DT)\n",
    "\n",
    "# Print\n",
    "print(\"Accuracy DT Balanced: {:.04f}\".format(score_bal_DT))\n",
    "print(\"Confusion matrix DT Balanced:\\n{}\".format(confusion_matrix_bal_DT))"
   ]
  },
  {
   "cell_type": "markdown",
   "metadata": {},
   "source": [
    "###  PUNTO 2.8"
   ]
  },
  {
   "cell_type": "code",
   "execution_count": 29,
   "metadata": {},
   "outputs": [
    {
     "name": "stdout",
     "output_type": "stream",
     "text": [
      "Accuracy: 0.713\n",
      "Confusione matrix:\n",
      " [[2488   79   23]\n",
      " [ 702   94   34]\n",
      " [ 170   52   56]]\n"
     ]
    }
   ],
   "source": [
    "\"\"\"\n",
    "    Si consideri un nuovo dataset ottenuto attraverso una variazione a piacere del\n",
    "    precedente e si analizzi l’accuratezza ottenuta con un modello basato su Decision Tree. \n",
    "    Che valore si ottiene? \n",
    "\"\"\"\n",
    "# Lavoro su un nuovo DataFrame copia di X\n",
    "X_zip = X.copy()\n",
    "\n",
    "# Rescale 'SPEED' tra 0 e 5\n",
    "scaler = MinMaxScaler(feature_range = (0, 5))\n",
    "X_zip['SPEED'] = scaler.fit_transform(X_zip[['SPEED']])\n",
    "\n",
    "# Raggruppo 'INCIDENT_MONTH' in 5 chunks\n",
    "num_chunks = 5\n",
    "name_chunks = [1, 2, 3, 4, 5]\n",
    "chunks = pd.qcut(X_zip['INCIDENT_MONTH'],q = num_chunks, labels = name_chunks)\n",
    "X_zip['IM_CHUNKS'] = chunks.values\n",
    "\n",
    "# Creo una colonna se l'incidente è avvenuto sopra o sotto l'altezza media\n",
    "mean_height = X_zip['HEIGHT'].mean()\n",
    "X_zip['MEAN_HEIGHT'] = np.where(X_zip['HEIGHT'] > mean_height, '1' , '0')\n",
    "\n",
    "# Cerco le features più importanti utilizzando X e Y calcolati al punto 2.4\n",
    "selector = SelectKBest(score_func = chi2, k = 5)\n",
    "X_zip = selector.fit_transform(X_zip, Y)\n",
    "\n",
    "# Split dataset\n",
    "X_train_zip, X_test_zip, Y_train_zip, Y_test_zip = train_test_split(X_zip, Y, test_size = 0.25)\n",
    "\n",
    "# Fit and Predict\n",
    "model_DT.fit(X_train_zip, Y_train_zip)\n",
    "score = model_DT.score(X_test_zip, Y_test_zip)\n",
    "y_pred_zip = model_DT.predict(X_test_zip)\n",
    "#Print\n",
    "print('Accuracy: {:0.3f}'.format(score))\n",
    "confusion_matrix_zip = confusion_matrix(Y_test_zip, y_pred_zip)\n",
    "print('Confusione matrix:\\n {}'.format(confusion_matrix_zip))"
   ]
  },
  {
   "cell_type": "markdown",
   "metadata": {},
   "source": [
    "### Punto 2.9"
   ]
  },
  {
   "cell_type": "code",
   "execution_count": 16,
   "metadata": {},
   "outputs": [
    {
     "name": "stdout",
     "output_type": "stream",
     "text": [
      "Accuracy 0.4201 (0.1707)\n"
     ]
    }
   ],
   "source": [
    "\"\"\"\n",
    "    Che valore di accuratezza si ottiene con un 5 Fold cross validation e un modello basato su Decision Tree\n",
    "\"\"\"\n",
    "num_folds = 5\n",
    "scores = cross_val_score(model_DT, X, Y, cv = num_folds)\n",
    "print('Accuracy {:.04f} ({:.04f})'.format(scores.mean(), scores.std()))"
   ]
  }
 ],
 "metadata": {
  "kernelspec": {
   "display_name": "Python 3",
   "language": "python",
   "name": "python3"
  },
  "language_info": {
   "codemirror_mode": {
    "name": "ipython",
    "version": 3
   },
   "file_extension": ".py",
   "mimetype": "text/x-python",
   "name": "python",
   "nbconvert_exporter": "python",
   "pygments_lexer": "ipython3",
   "version": "3.6.2"
  }
 },
 "nbformat": 4,
 "nbformat_minor": 2
}
