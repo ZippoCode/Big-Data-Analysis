{
 "cells": [
  {
   "cell_type": "markdown",
   "metadata": {
    "collapsed": true
   },
   "source": [
    "## Appello del 09 Gennaio 2015"
   ]
  },
  {
   "cell_type": "code",
   "execution_count": 1,
   "metadata": {
    "collapsed": true
   },
   "outputs": [],
   "source": [
    "#IMPORT\n",
    "import numpy as np\n",
    "import pandas as pd\n",
    "import matplotlib.pyplot as plt\n",
    "\n",
    "from sklearn.model_selection import (train_test_split, cross_val_score)\n",
    "\n",
    "# Algorithms\n",
    "from sklearn.tree import DecisionTreeClassifier\n",
    "from sklearn.naive_bayes import BernoulliNB\n",
    "from sklearn.neighbors import KNeighborsClassifier\n",
    "\n",
    "# Metrics\n",
    "from sklearn.metrics import (accuracy_score, confusion_matrix)\n",
    "\n",
    "# PreProcessing\n",
    "from sklearn.preprocessing import (MinMaxScaler, Normalizer, LabelEncoder)\n",
    "\n",
    "#Features Selection\n",
    "from sklearn.feature_selection import (SelectKBest, chi2)"
   ]
  },
  {
   "cell_type": "markdown",
   "metadata": {},
   "source": [
    "### Punto 1.1"
   ]
  },
  {
   "cell_type": "code",
   "execution_count": 2,
   "metadata": {},
   "outputs": [
    {
     "data": {
      "text/html": [
       "<div>\n",
       "<style>\n",
       "    .dataframe thead tr:only-child th {\n",
       "        text-align: right;\n",
       "    }\n",
       "\n",
       "    .dataframe thead th {\n",
       "        text-align: left;\n",
       "    }\n",
       "\n",
       "    .dataframe tbody tr th {\n",
       "        vertical-align: top;\n",
       "    }\n",
       "</style>\n",
       "<table border=\"1\" class=\"dataframe\">\n",
       "  <thead>\n",
       "    <tr style=\"text-align: right;\">\n",
       "      <th></th>\n",
       "      <th>AC_CLASS</th>\n",
       "      <th>AC_MASS</th>\n",
       "      <th>NUM_ENGS</th>\n",
       "      <th>INCIDENT_MONTH</th>\n",
       "      <th>INCIDENT_YEAR</th>\n",
       "      <th>HEIGHT</th>\n",
       "      <th>SPEED</th>\n",
       "      <th>PHASE_OF_FLT</th>\n",
       "      <th>DAMAGE</th>\n",
       "      <th>BIRDS_STRUCK</th>\n",
       "      <th>SIZE</th>\n",
       "      <th>WARNED</th>\n",
       "    </tr>\n",
       "  </thead>\n",
       "  <tbody>\n",
       "    <tr>\n",
       "      <th>0</th>\n",
       "      <td>A</td>\n",
       "      <td>1</td>\n",
       "      <td>1.0</td>\n",
       "      <td>9</td>\n",
       "      <td>2011</td>\n",
       "      <td>0</td>\n",
       "      <td>0</td>\n",
       "      <td>1</td>\n",
       "      <td>N</td>\n",
       "      <td>1</td>\n",
       "      <td>Small</td>\n",
       "      <td>N</td>\n",
       "    </tr>\n",
       "    <tr>\n",
       "      <th>1</th>\n",
       "      <td>A</td>\n",
       "      <td>1</td>\n",
       "      <td>1.0</td>\n",
       "      <td>5</td>\n",
       "      <td>2013</td>\n",
       "      <td>0</td>\n",
       "      <td>0</td>\n",
       "      <td>1</td>\n",
       "      <td>S</td>\n",
       "      <td>1</td>\n",
       "      <td>Large</td>\n",
       "      <td>N</td>\n",
       "    </tr>\n",
       "    <tr>\n",
       "      <th>2</th>\n",
       "      <td>A</td>\n",
       "      <td>1</td>\n",
       "      <td>1.0</td>\n",
       "      <td>9</td>\n",
       "      <td>2013</td>\n",
       "      <td>0</td>\n",
       "      <td>0</td>\n",
       "      <td>1</td>\n",
       "      <td>N</td>\n",
       "      <td>1</td>\n",
       "      <td>Small</td>\n",
       "      <td>Y</td>\n",
       "    </tr>\n",
       "    <tr>\n",
       "      <th>3</th>\n",
       "      <td>A</td>\n",
       "      <td>1</td>\n",
       "      <td>1.0</td>\n",
       "      <td>12</td>\n",
       "      <td>2013</td>\n",
       "      <td>0</td>\n",
       "      <td>0</td>\n",
       "      <td>1</td>\n",
       "      <td>N</td>\n",
       "      <td>1</td>\n",
       "      <td>Small</td>\n",
       "      <td>N</td>\n",
       "    </tr>\n",
       "    <tr>\n",
       "      <th>4</th>\n",
       "      <td>B</td>\n",
       "      <td>1</td>\n",
       "      <td>1.0</td>\n",
       "      <td>7</td>\n",
       "      <td>2010</td>\n",
       "      <td>0</td>\n",
       "      <td>0</td>\n",
       "      <td>1</td>\n",
       "      <td>N</td>\n",
       "      <td>1</td>\n",
       "      <td>Medium</td>\n",
       "      <td>Y</td>\n",
       "    </tr>\n",
       "  </tbody>\n",
       "</table>\n",
       "</div>"
      ],
      "text/plain": [
       "  AC_CLASS  AC_MASS  NUM_ENGS  INCIDENT_MONTH  INCIDENT_YEAR  HEIGHT  SPEED  \\\n",
       "0        A        1       1.0               9           2011       0      0   \n",
       "1        A        1       1.0               5           2013       0      0   \n",
       "2        A        1       1.0               9           2013       0      0   \n",
       "3        A        1       1.0              12           2013       0      0   \n",
       "4        B        1       1.0               7           2010       0      0   \n",
       "\n",
       "   PHASE_OF_FLT DAMAGE  BIRDS_STRUCK    SIZE WARNED  \n",
       "0             1      N             1   Small      N  \n",
       "1             1      S             1   Large      N  \n",
       "2             1      N             1   Small      Y  \n",
       "3             1      N             1   Small      N  \n",
       "4             1      N             1  Medium      Y  "
      ]
     },
     "execution_count": 2,
     "metadata": {},
     "output_type": "execute_result"
    }
   ],
   "source": [
    "\"\"\"\n",
    "    Caricare il dataset e denominarlo con una variabile chiamata “dataset”\n",
    "\"\"\"\n",
    "path = 'wildlife0901.csv'\n",
    "dataset = pd.read_csv(path, sep=';')\n",
    "dataset.head()"
   ]
  },
  {
   "cell_type": "markdown",
   "metadata": {},
   "source": [
    "### Punto 1.2"
   ]
  },
  {
   "cell_type": "code",
   "execution_count": 3,
   "metadata": {
    "scrolled": true
   },
   "outputs": [
    {
     "name": "stdout",
     "output_type": "stream",
     "text": [
      "Elicotteri coinvolti: 15617\n",
      "Aereoplani coinvolti: 482\n"
     ]
    }
   ],
   "source": [
    "\"\"\"\n",
    "    Quanti sono gli incidenti che hanno coinvolto elicotteri?\n",
    "    Quanti hanno coinvolto areoplani?\n",
    "\"\"\"\n",
    "num = dataset.groupby(['AC_CLASS']).size()\n",
    "num_A = num['A']\n",
    "num_B = num['B']\n",
    "print(\"Elicotteri coinvolti: {}\".format(num_A))\n",
    "print(\"Aereoplani coinvolti: {}\".format(num_B))"
   ]
  },
  {
   "cell_type": "markdown",
   "metadata": {},
   "source": [
    "### Punto 1.3"
   ]
  },
  {
   "cell_type": "code",
   "execution_count": 4,
   "metadata": {},
   "outputs": [
    {
     "data": {
      "image/png": "[encoded data removed]",
      "text/plain": [
       "<matplotlib.figure.Figure at 0x7faa92d2e048>"
      ]
     },
     "metadata": {},
     "output_type": "display_data"
    },
    {
     "name": "stdout",
     "output_type": "stream",
     "text": [
      "Il mese nel quale si sono registrati il numero massimo di incidenti è 9 con 2152\n"
     ]
    }
   ],
   "source": [
    "\"\"\"\n",
    "    Raggruppare gli incidenti per mesi e visualizzarli in un grafico. \n",
    "    \n",
    "    Qual è il mese con il maggior numero di incidenti? \n",
    "\"\"\"\n",
    "incidenti_month = dataset.groupby(['INCIDENT_MONTH']).size()\n",
    "incidenti_month.plot(figsize = (8, 6), title = 'Incidenti ')\n",
    "plt.ylabel('Numero incidenti')\n",
    "plt.xlabel('Mesi')\n",
    "plt.show()\n",
    "\n",
    "max_month = incidenti_month.idxmax()\n",
    "value_incidenti = incidenti_month.max()\n",
    "print('Il mese nel quale si sono registrati il numero massimo di incidenti è {} con {}'\n",
    "      .format(max_month, value_incidenti))"
   ]
  },
  {
   "cell_type": "markdown",
   "metadata": {},
   "source": [
    "### Punto 1.4"
   ]
  },
  {
   "cell_type": "code",
   "execution_count": 5,
   "metadata": {},
   "outputs": [
    {
     "name": "stdout",
     "output_type": "stream",
     "text": [
      "Summary Dataset: \n",
      "INCIDENT_YEAR    2010   2011   2012   2013   2014\n",
      "INCIDENT_MONTH                                   \n",
      "1               141.0  131.0  142.0  128.0   80.0\n",
      "2                79.0   90.0  143.0   95.0  112.0\n",
      "3               177.0  163.0  199.0  147.0  156.0\n",
      "4               245.0  293.0  350.0  297.0  267.0\n",
      "5               309.0  340.0  443.0  426.0  432.0\n",
      "6               248.0  271.0  319.0  269.0  279.0\n",
      "7               404.0  360.0  446.0  401.0    NaN\n",
      "8               514.0  449.0  484.0  537.0    NaN\n",
      "9               505.0  560.0  562.0  525.0    NaN\n",
      "10              411.0  489.0  541.0  546.0    NaN\n",
      "11              270.0  273.0  232.0  290.0    NaN\n",
      "12              122.0  142.0  147.0  141.0    NaN \n",
      "\n",
      "L'anno 2012 e il mese 9 si sono registrati il numero massimo di incidenti, pari a 562.0\n",
      "***************************************************************************************************************\n"
     ]
    },
    {
     "data": {
      "image/png": "[encoded data removed]",
      "text/plain": [
       "<matplotlib.figure.Figure at 0x7faad40a6048>"
      ]
     },
     "metadata": {},
     "output_type": "display_data"
    }
   ],
   "source": [
    "\"\"\" \n",
    "    Creare un nuovo dataset (chiamato “summary”) nel quale rappresentare sulle righe i mesi e\n",
    "    sulle colonne gli anni.\n",
    "    \n",
    "    E’ possibile individuare attraverso una rappresentazione grafica un trend \n",
    "    nella frequenza degli incidenti?\n",
    "\"\"\" \n",
    "# Raggruppo il dataset per mesi ed anni\n",
    "summary = dataset.groupby(['INCIDENT_MONTH', 'INCIDENT_YEAR']).size()\n",
    "# Uso la funzione 'unstack' per spostare l'indice 'INCIDENT_YEAR' come colonna\n",
    "summary = summary.unstack()\n",
    "print('Summary Dataset: ')\n",
    "print(summary, '\\n')\n",
    "\n",
    "# Calcolo il valore degli indici\n",
    "month_indicenti_max = summary.max(axis = 1).idxmax()\n",
    "year_incidenti_max = summary.max(axis = 0).idxmax()\n",
    "value_max = summary.max().max()\n",
    "print('L\\'anno {} e il mese {} si sono registrati il numero massimo di incidenti, pari a {}'\n",
    "      .format(year_incidenti_max, month_indicenti_max, value_max))\n",
    "print('*' * 111)\n",
    "\n",
    "summary.plot(figsize = (8, 6), title = 'Incidenti ')\n",
    "plt.ylabel('Numero incidenti')\n",
    "plt.xlabel('Mesi')\n",
    "plt.show()"
   ]
  },
  {
   "cell_type": "markdown",
   "metadata": {},
   "source": [
    "### Punto 2.1"
   ]
  },
  {
   "cell_type": "code",
   "execution_count": 6,
   "metadata": {},
   "outputs": [
    {
     "name": "stdout",
     "output_type": "stream",
     "text": [
      "Trasformazione\n",
      "   AC_CLASS  AC_MASS  NUM_ENGS  INCIDENT_MONTH  INCIDENT_YEAR  HEIGHT  SPEED  \\\n",
      "0        A        1       1.0               9           2011       0      0   \n",
      "1        A        1       1.0               5           2013       0      0   \n",
      "2        A        1       1.0               9           2013       0      0   \n",
      "3        A        1       1.0              12           2013       0      0   \n",
      "4        B        1       1.0               7           2010       0      0   \n",
      "\n",
      "   PHASE_OF_FLT DAMAGE  BIRDS_STRUCK SIZE WARNED  \n",
      "0             1      1             1    1      0  \n",
      "1             1      7             1    5      0  \n",
      "2             1      1             1    1      1  \n",
      "3             1      1             1    1      0  \n",
      "4             1      1             1    3      1  \n",
      "****************************************************************************************************\n",
      "Valori 'DAMAGE': ['1' '7' '9' '3' '5']\n",
      "Valori 'SIZE': ['1' '5' '3' '0']\n",
      "Valori 'WARNED': ['0' '1' '3']\n"
     ]
    }
   ],
   "source": [
    "\"\"\"\n",
    "    Scikit-learn utilizza un array numpy per effettuare le proprie predizioni. Gli elementi \n",
    "    dell’array numpy devono essere delle stesso data type. E’ necessario pertanto trasformare i \n",
    "    dati del dataset per renderli utilizzabili con scikit.\n",
    "\n",
    "    Trasformare i valori dei campi DAMAGE, SIZE, WARNED adottando i seguenti valori:\n",
    "        * DAMAGE\n",
    "            U = 0\n",
    "            N = 1\n",
    "            M = 3\n",
    "            M?= 5\n",
    "            S = 7\n",
    "            D = 9\n",
    "        *SIZE\n",
    "            Small = 1\n",
    "            Medium = 3\n",
    "            Large = 5\n",
    "            Unknown = 0\n",
    "        *WARNED\n",
    "            N = 0\n",
    "            Y = 1\n",
    "            Unknown = 3\n",
    "    \n",
    "\"\"\"\n",
    "# Creo i dizionari per la sostituzione\n",
    "dict_damage = {'U':'0', 'N':'1','M':'3','M?':'5', 'S':'7', 'D':'9'}\n",
    "dict_size = {'Small':'1', 'Medium':'3', 'Large':'5', 'Unknown':'0'}\n",
    "dict_warned = {'N':'0', 'n':'0','Y':'1', 'y':'1' ,'Unknown':'3'}\n",
    "dict_df = {'DAMAGE': dict_damage, 'SIZE': dict_size, 'WARNED': dict_warned}\n",
    "\n",
    "# Per evitare problemi con le future esecuzioni copio il dataset in un nuovo Dataframe chiamato 'df_new'\n",
    "df_new = dataset.copy()\n",
    "# Sostituisco i valori\n",
    "df_new = df_new.replace(dict_df)\n",
    "# Print\n",
    "print(\"Trasformazione\\n\", df_new.head(5))\n",
    "print('*' * 100)\n",
    "print('Valori \\'DAMAGE\\': {}'.format(df_new['DAMAGE'].unique()))\n",
    "print('Valori \\'SIZE\\': {}'.format(df_new['SIZE'].unique()))\n",
    "print('Valori \\'WARNED\\': {}'.format(df_new['WARNED'].unique()))"
   ]
  },
  {
   "cell_type": "code",
   "execution_count": 7,
   "metadata": {},
   "outputs": [
    {
     "name": "stdout",
     "output_type": "stream",
     "text": [
      "Trasformazione\n",
      "   AC_CLASS  AC_MASS  NUM_ENGS  INCIDENT_MONTH  INCIDENT_YEAR  HEIGHT  SPEED  \\\n",
      "0        A        1       1.0               9           2011       0      0   \n",
      "1        A        1       1.0               5           2013       0      0   \n",
      "2        A        1       1.0               9           2013       0      0   \n",
      "3        A        1       1.0              12           2013       0      0   \n",
      "4        B        1       1.0               7           2010       0      0   \n",
      "\n",
      "   PHASE_OF_FLT DAMAGE  BIRDS_STRUCK SIZE WARNED  \n",
      "0             1      1             1    1      0  \n",
      "1             1      7             1    5      0  \n",
      "2             1      1             1    1      1  \n",
      "3             1      1             1    1      0  \n",
      "4             1      1             1    3      1  \n"
     ]
    }
   ],
   "source": [
    "\"\"\"\n",
    "    Si poteva anche realizzare come:\n",
    "\"\"\"\n",
    "# Per evitare problemi con le future esecuzioni copio il dataset in un nuovo Dataframe chiamato 'df_new'\n",
    "df_new = dataset.copy()\n",
    "# Sostituisco i valori\n",
    "df_new['DAMAGE'] = df_new['DAMAGE'].map(dict_damage)\n",
    "df_new['SIZE'] = df_new['SIZE'].map(dict_size)\n",
    "df_new['WARNED'] = df_new['WARNED'].map(dict_warned)\n",
    "print(\"Trasformazione\\n\", df_new.head())"
   ]
  },
  {
   "cell_type": "markdown",
   "metadata": {},
   "source": [
    "### Punto 2.2"
   ]
  },
  {
   "cell_type": "code",
   "execution_count": 8,
   "metadata": {},
   "outputs": [
    {
     "name": "stdout",
     "output_type": "stream",
     "text": [
      "Data Air:\n",
      "    AC_MASS  NUM_ENGS  INCIDENT_MONTH  INCIDENT_YEAR  HEIGHT  SPEED  \\\n",
      "0        1       1.0               9           2011       0      0   \n",
      "1        1       1.0               5           2013       0      0   \n",
      "2        1       1.0               9           2013       0      0   \n",
      "3        1       1.0              12           2013       0      0   \n",
      "8        2       2.0               9           2012       0      0   \n",
      "\n",
      "   PHASE_OF_FLT DAMAGE  BIRDS_STRUCK SIZE WARNED  \n",
      "0             1      1             1    1      0  \n",
      "1             1      7             1    5      0  \n",
      "2             1      1             1    1      1  \n",
      "3             1      1             1    1      0  \n",
      "8             1      1             1    3      3  \n",
      "****************************************************************************************************\n",
      "Righe Dataset iniziale: 16122\n",
      "Nuova dimensione: 14842 (Non A: 505, Uguali a zero: 797)\n"
     ]
    }
   ],
   "source": [
    "\"\"\"\n",
    "    Creare un nuovo dataset che consideri solo gli aeroplani e gli incidenti \n",
    "    che coinvolgono animali con una dimensione nota. Denominare il dataset  “data_air”. \n",
    "    In data_air eliminare poi l’attributo AC_CLASS divenuto irrilevante. \n",
    "\"\"\"\n",
    "# Utilizzo il DataFrame 'df_new' modificato precedentemente e per evitare problemi lo copio in 'data_air' e poi\n",
    "# modifico quest'ultimo\n",
    "data_air = df_new.copy()\n",
    "data_air = data_air[data_air.AC_CLASS == 'A']\n",
    "data_air = data_air[data_air.SIZE != '0']\n",
    "data_air = data_air.drop(['AC_CLASS'], axis = 1)\n",
    "print('Data Air:\\n', data_air.head())\n",
    "\n",
    "# Per verificare la corretta esecuzioni controllo il numero di righe coinvolte\n",
    "num_ac_class_A = df_new[(df_new['AC_CLASS'] != 'A')].shape[0]\n",
    "num_size_0 = df_new[(df_new['SIZE'] == '0')].shape[0]\n",
    "print('*' * 100)\n",
    "print('Righe Dataset iniziale: {}'.format(df_new.shape[0]))\n",
    "print('Nuova dimensione: {} (Non A: {}, Uguali a zero: {})'.format(data_air.shape[0],\n",
    "                                                                 num_ac_class_A, num_size_0))"
   ]
  },
  {
   "cell_type": "markdown",
   "metadata": {},
   "source": [
    "### Punto 2.3"
   ]
  },
  {
   "cell_type": "code",
   "execution_count": 9,
   "metadata": {},
   "outputs": [
    {
     "name": "stdout",
     "output_type": "stream",
     "text": [
      "Si può notare l'eliminazione delle istante che contengono valori NaN dalla loro dimesione\n",
      "\n",
      "Con NaN 14842 senza 14835\n",
      "Num NaN: 7\n"
     ]
    }
   ],
   "source": [
    "\"\"\"\n",
    "    - Eliminare le righe che contengono almeno un element NaN\n",
    "\"\"\"\n",
    "# Solito discorso, copio\n",
    "data_air_new = data_air.copy()\n",
    "num_NaN = data_air_new.isnull().sum().sum()\n",
    "data_air_new = data_air_new.dropna()\n",
    "# Print\n",
    "print(\"Si può notare l'eliminazione delle istante che contengono valori NaN dalla loro dimesione\\n\")\n",
    "print(\"Con NaN {} senza {}\".format(data_air.shape[0], data_air_new.shape[0]))\n",
    "print('Num NaN: {}'.format(num_NaN))"
   ]
  },
  {
   "cell_type": "markdown",
   "metadata": {},
   "source": [
    "### Punto 2.4"
   ]
  },
  {
   "cell_type": "code",
   "execution_count": 10,
   "metadata": {},
   "outputs": [
    {
     "name": "stdout",
     "output_type": "stream",
     "text": [
      "Dimensioni:\n",
      "Iniziale: 14835\n",
      "Train: 11126\n",
      "Test: 3709\n",
      "****************************************************************************************************\n",
      "Accuracy: 0.6983\n"
     ]
    }
   ],
   "source": [
    "\"\"\"\n",
    "    Si vuole predire la dimensione dell’animale sulla base degli altri attributi \n",
    "    presenti nel dataset . Dividere “data_air” in modo che ¾ degli elementi siano contenuti \n",
    "    in un nuovo dataset “train” e ¼ nel dataset “test”.\n",
    "    Valutare l’accuracy ottenuta con il modello BernoulliNB\n",
    "    (from sklearn.naive_bayes import BernoulliNB)\n",
    "\"\"\"\n",
    "# Utilizzo il dataset creato precedentemente, solito discorso copio\n",
    "dataset_bnb = data_air_new.copy()\n",
    "Y = dataset_bnb['SIZE']\n",
    "X = dataset_bnb.drop(['SIZE'], axis = 1)\n",
    "X_train, X_test, Y_train, Y_test = train_test_split(X, Y, test_size = 0.25)\n",
    "print(\"Dimensioni:\\nIniziale: {}\\nTrain: {}\\nTest: {}\".format(dataset_bnb.shape[0], \n",
    "                                                             X_train.shape[0], X_test.shape[0]))\n",
    "model_BNB = BernoulliNB()\n",
    "# Fit\n",
    "model_BNB.fit(X_train, Y_train)\n",
    "# Score\n",
    "score_BNB = model_BNB.score(X_test, Y_test)\n",
    "print('*' * 100)\n",
    "print(\"Accuracy: {:.04f}\".format(score_BNB))"
   ]
  },
  {
   "cell_type": "markdown",
   "metadata": {},
   "source": [
    "### Punto 2.5"
   ]
  },
  {
   "cell_type": "code",
   "execution_count": 11,
   "metadata": {},
   "outputs": [
    {
     "name": "stdout",
     "output_type": "stream",
     "text": [
      "Confusion matrix:\n",
      "[[2588    0    2]\n",
      " [ 828    0    3]\n",
      " [ 286    0    2]]\n"
     ]
    }
   ],
   "source": [
    "\"\"\"\n",
    "    Il valore di accuratezza ottenuto è abbastanza elevato, tuttavia, cosa si scopre analizzando la \n",
    "    confusion matrix?\n",
    "\"\"\"\n",
    "y_pred_BNB = model_BNB.predict(X_test)\n",
    "confusion_matrix_BNB = confusion_matrix(Y_test, y_pred_BNB)\n",
    "print(\"Confusion matrix:\\n{}\".format(confusion_matrix_BNB))"
   ]
  },
  {
   "cell_type": "markdown",
   "metadata": {},
   "source": [
    "### Punto 2.6"
   ]
  },
  {
   "cell_type": "code",
   "execution_count": 12,
   "metadata": {},
   "outputs": [
    {
     "name": "stdout",
     "output_type": "stream",
     "text": [
      "Accuracy: 0.6026\n",
      "Confusion matrix:\n",
      "[[1933  505  152]\n",
      " [ 493  234  104]\n",
      " [ 113  107   68]]\n"
     ]
    }
   ],
   "source": [
    "\"\"\"\n",
    "    Se si utilizza un modello basato su Decision Tree che valore di accuratezza si ottiene? \n",
    "    Cambia qualcosa nella confusion matrix?\n",
    "\"\"\"\n",
    "model_DT= DecisionTreeClassifier()\n",
    "# Fit\n",
    "model_DT.fit(X_train, Y_train)\n",
    "# Score Decision Tree\n",
    "score_DT = model_DT.score(X_test, Y_test)\n",
    "# Predict Decision Tree\n",
    "y_pred_DT = model_DT.predict(X_test)\n",
    "# Confusion Matrix Decision Tree\n",
    "confusion_matrix_DT = confusion_matrix(Y_test, y_pred_DT)\n",
    "# Print\n",
    "print(\"Accuracy: {:.04f}\".format(score_DT))\n",
    "print(\"Confusion matrix:\\n{}\".format(confusion_matrix_DT))"
   ]
  },
  {
   "cell_type": "markdown",
   "metadata": {},
   "source": [
    "### Punto 2.7"
   ]
  },
  {
   "cell_type": "code",
   "execution_count": 13,
   "metadata": {},
   "outputs": [
    {
     "name": "stdout",
     "output_type": "stream",
     "text": [
      "Numero righe iniziali: ONE: 10351 - THREE:3322 - FIVE:1162\n",
      "Numero righe train: ONE: 7763 - THREE:2491 - FIVE:871\n",
      "Numero righe test: ONE: 2588 - THREE:831 - FIVE:291\n",
      "****************************************************************************************************\n",
      "Accuracy DT Balanced: 0.7016\n",
      "Confusion matrix DT Balanced:\n",
      "[[1929  513  146]\n",
      " [ 490  236  105]\n",
      " [  21    5  845]]\n"
     ]
    }
   ],
   "source": [
    "\"\"\"\n",
    "    Si analizzi il dataset “data_air” e si crei un nuovo training set “bilanciato” composto\n",
    "    cioè di ¾ delle istanze aventi valore di SIZE = 1 (Small), ¾ delle istanze aventi valore di SIZE =3 \n",
    "    (Medium), ¾ delle istanze aventi valore di SIZE = 5 (Large) e aventi come test set il rimanente \n",
    "    delle istanze. Come cambia l’accuratezza considerando sempre un modello basato su Decision Tree? \n",
    "    Cambia qualcosa nella confusion matrix?\n",
    "\"\"\"\n",
    "dataset_bal = data_air_new.copy()\n",
    "\n",
    "# Utilizzo 'data_air_new' nel quale non sono presenti i valori di SIZE uguale a 0 e considera solo gli aereoplani\n",
    "# Prendo separatamente le istanze per 'SIZE' uguale a 1, 3 e 5\n",
    "data_air_size_one = dataset_bal[dataset_bal.SIZE == '1']\n",
    "data_air_size_three = dataset_bal[dataset_bal.SIZE == '3']\n",
    "data_air_size_five = dataset_bal[dataset_bal.SIZE == '5']\n",
    "\n",
    "# Creo il training set\n",
    "X_train_one, X_test_one = train_test_split(data_air_size_one, test_size = 0.25, random_state = 5)\n",
    "X_train_three, X_test_three = train_test_split(data_air_size_three, test_size = 0.25, random_state = 7)\n",
    "X_train_five, X_test_five = train_test_split(data_air_size_five, test_size = 0.25, random_state = 11)\n",
    "# Verifico le dimensioni\n",
    "print('Numero righe iniziali: ONE: {} - THREE:{} - FIVE:{}'.format(data_air_size_one.shape[0],\n",
    "                                                                   data_air_size_three.shape[0],\n",
    "                                                                   data_air_size_five.shape[0]))\n",
    "print('Numero righe train: ONE: {} - THREE:{} - FIVE:{}'.format(X_train_one.shape[0], X_train_three.shape[0],\n",
    "                                                                X_train_five.shape[0]))\n",
    "\n",
    "print('Numero righe test: ONE: {} - THREE:{} - FIVE:{}'.format(X_test_one.shape[0], X_test_three.shape[0],\n",
    "                                                                X_test_five.shape[0]))\n",
    "#Creo il nuovo dataset\n",
    "Train_bal = X_train_one.append(X_train_three).append(X_train_five)\n",
    "Test_bal = X_test_one.append(X_test_three).append(X_train_five)\n",
    "\n",
    "# Calcolo i nuovi X e Y\n",
    "Y_train_bal = Train_bal['SIZE']\n",
    "X_train_bal = Train_bal.drop(['SIZE'], axis = 1)\n",
    "Y_test_bal = Test_bal['SIZE']\n",
    "X_test_bal = Test_bal.drop(['SIZE'], axis = 1)\n",
    "\n",
    "\n",
    "# Fit\n",
    "model_DT.fit(X_train_bal, Y_train_bal)\n",
    "\n",
    "# Calcolo l'accuracy e la confusion_matrix\n",
    "score_bal_DT = model_DT.score(X_test_bal, Y_test_bal)\n",
    "y_pred_bal_DT = model_DT.predict(X_test_bal)\n",
    "\n",
    "confusion_matrix_bal_DT = confusion_matrix(Y_test_bal, y_pred_bal_DT)\n",
    "\n",
    "# Print\n",
    "print('*' * 100)\n",
    "print(\"Accuracy DT Balanced: {:.04f}\".format(score_bal_DT))\n",
    "print(\"Confusion matrix DT Balanced:\\n{}\".format(confusion_matrix_bal_DT))"
   ]
  },
  {
   "cell_type": "markdown",
   "metadata": {},
   "source": [
    "###  PUNTO 2.8"
   ]
  },
  {
   "cell_type": "code",
   "execution_count": 14,
   "metadata": {},
   "outputs": [
    {
     "name": "stdout",
     "output_type": "stream",
     "text": [
      "Accuracy: 0.639\n",
      "Confusione matrix:\n",
      " [[  72   87  147]\n",
      " [  79  255  597]\n",
      " [ 109  362 2116]]\n"
     ]
    }
   ],
   "source": [
    "\"\"\"\n",
    "    Si consideri un nuovo dataset ottenuto attraverso una variazione a piacere del\n",
    "    precedente e si analizzi l’accuratezza ottenuta con un modello basato su Decision Tree. \n",
    "    Che valore si ottiene? \n",
    "\"\"\"\n",
    "# Lavoro su un nuovo DataFrame copia di X\n",
    "dataset_z = dataset.copy()\n",
    "\n",
    "# Drop dei valori Nan\n",
    "dataset_z = dataset_z.dropna()\n",
    "\n",
    "# Elimino 'SIZE' == 0\n",
    "dataset_z = dataset_z[dataset_z['SIZE'] != 'Unknown'] \n",
    "\n",
    "# Uso LabelEncoder per sostituire i valori non numeri\n",
    "label = LabelEncoder()\n",
    "dataset_z[['DAMAGE', 'SIZE', 'WARNED']] = dataset_z[[ 'DAMAGE', 'SIZE', 'WARNED']].apply(label.fit_transform)\n",
    "\n",
    "# Rescale 'SPEED' tra 0 5\n",
    "scaler = MinMaxScaler(feature_range = (0, 1))\n",
    "dataset_z['SPEED'] = scaler.fit_transform(dataset_z[['SPEED']])\n",
    "\n",
    "# Credo un nuova colonna 'INCIDENT_MONTH_CHUNKS' nella quale raggruppo 'INCIDENT_MONTH' in 5 chunks con i valori\n",
    "# da 0 a 5 \n",
    "num_chunks = 5\n",
    "name_chunks = [1, 2, 3, 4, 5]\n",
    "chunks = pd.qcut(dataset_z['INCIDENT_MONTH'],q = num_chunks, labels = name_chunks)\n",
    "dataset_z['INCIDENT_MONTH_CHUNKS'] = chunks.values\n",
    "\n",
    "# Sostituisco la colonna 'AC_CLASS'\n",
    "dataset_z['AC_CLASS'] = np.where(dataset_z['AC_CLASS'] == 'A', 1, 0)\n",
    "\n",
    "\n",
    "# Creo una colonna se l'incidente è avvenuto sopra o sotto l'altezza media\n",
    "mean_height = dataset_z['HEIGHT'].mean()\n",
    "dataset_z['MEAN_HEIGHT'] = np.where(dataset_z['HEIGHT'] > mean_height, 1, 0)\n",
    "\n",
    "# CALCOLO X e Y\n",
    "Y_z = dataset_z['SIZE']\n",
    "X_z = dataset_z.drop('SIZE', axis = 1)\n",
    "\n",
    "# Seleziono le 8 features più importanti\n",
    "selector = SelectKBest(score_func = chi2, k = 8)\n",
    "X_z_features = selector.fit_transform(X_z, Y_z)\n",
    "\n",
    "# Split\n",
    "X_train_z, X_test_z, Y_train_z, Y_test_z = train_test_split(X_z_features, Y_z, test_size = 0.25, random_state = 1)\n",
    "\n",
    "# Fit and Predict\n",
    "model_DT.fit(X_train_z, Y_train_z)\n",
    "score = model_DT.score(X_test_z, Y_test_z)\n",
    "y_pred_z = model_DT.predict(X_test_z)\n",
    "\n",
    "#Print\n",
    "print('Accuracy: {:0.3f}'.format(score))\n",
    "confusion_matrix_z = confusion_matrix(Y_test_z, y_pred_z)\n",
    "print('Confusione matrix:\\n {}'.format(confusion_matrix_z))"
   ]
  },
  {
   "cell_type": "markdown",
   "metadata": {},
   "source": [
    "### Punto 2.9"
   ]
  },
  {
   "cell_type": "code",
   "execution_count": 15,
   "metadata": {},
   "outputs": [
    {
     "name": "stdout",
     "output_type": "stream",
     "text": [
      "Accuracy 0.4098 (0.1658)\n"
     ]
    }
   ],
   "source": [
    "\"\"\"\n",
    "    Che valore di accuratezza si ottiene con un 5 Fold cross validation e un modello basato su Decision Tree\n",
    "\"\"\"\n",
    "num_folds = 5\n",
    "scores = cross_val_score(model_DT, X, Y, cv = num_folds)\n",
    "print('Accuracy {:.04f} ({:.04f})'.format(scores.mean(), scores.std()))"
   ]
  }
 ],
 "metadata": {
  "kernelspec": {
   "display_name": "Python 3",
   "language": "python",
   "name": "python3"
  },
  "language_info": {
   "codemirror_mode": {
    "name": "ipython",
    "version": 3
   },
   "file_extension": ".py",
   "mimetype": "text/x-python",
   "name": "python",
   "nbconvert_exporter": "python",
   "pygments_lexer": "ipython3",
   "version": "3.6.2"
  }
 },
 "nbformat": 4,
 "nbformat_minor": 2
}
