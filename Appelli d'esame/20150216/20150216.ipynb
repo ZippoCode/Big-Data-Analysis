{
 "cells": [
  {
   "cell_type": "markdown",
   "metadata": {
    "collapsed": true
   },
   "source": [
    "## Punto 0"
   ]
  },
  {
   "cell_type": "code",
   "execution_count": 1,
   "metadata": {},
   "outputs": [
    {
     "name": "stdout",
     "output_type": "stream",
     "text": [
      "\n"
     ]
    }
   ],
   "source": [
    "\"\"\"\n",
    "    Il dataset bike.csv, che contiene il conteggio delle biciclette a noleggio tra gli anni 2011 e 2012, è \n",
    "    posto nella cartella esame sul desktop del vostro PC.\n",
    "    Lo schema del dataset è\n",
    "\n",
    "        - season : season (1:springer, 2:summer, 3:fall, 4:winter) \n",
    "        - yr : year (0: 2011, 1:2012) \n",
    "        - mnth : month ( 1 to 12) \n",
    "        - hr : hour (0 to 23) \n",
    "        - holiday : weather day is holiday or not (extracted from [Web Link]) \n",
    "        - weekday : day of the week \n",
    "        - workingday : if day is neither weekend nor holiday is 1, otherwise is 0. \n",
    "        + weathersit : \n",
    "        - 1: Clear, Few clouds, Partly cloudy, Partly cloudy \n",
    "        - 2: Mist + Cloudy, Mist + Broken clouds, Mist + Few clouds, Mist \n",
    "        - 3: Light Snow, Light Rain + Thunderstorm + Scattered clouds, Light Rain + Scattered clouds \n",
    "        - 4: Heavy Rain + Ice Pallets + Thunderstorm + Mist, Snow + Fog \n",
    "        - temp : Normalized temperature in Celsius. The values are divided to 41 (max) \n",
    "        - atemp: Normalized feeling temperature in Celsius. The values are divided to 50 (max) \n",
    "        - hum: Normalized humidity. The values are divided to 100 (max) \n",
    "        - windspeed: Normalized wind speed. The values are divided to 67 (max) \n",
    "        - casual: count of casual users \n",
    "        - registered: count of registered users \n",
    "        - cnt: count of total rental bikes including both casual and registered\n",
    "\n",
    "Il separatore adottato è il carattere “;”\n",
    "\"\"\"\n",
    "print('')"
   ]
  },
  {
   "cell_type": "code",
   "execution_count": 2,
   "metadata": {
    "collapsed": true
   },
   "outputs": [],
   "source": [
    "#IMPORT\n",
    "import pandas as pd\n",
    "import numpy as np\n",
    "import matplotlib.pyplot as plt\n",
    "from sklearn.linear_model import LogisticRegression\n",
    "\n",
    "# Metrics\n",
    "from sklearn.metrics import accuracy_score\n",
    "from sklearn.metrics import confusion_matrix\n",
    "\n",
    "# Model Selection\n",
    "from sklearn.model_selection import cross_val_score\n",
    "from sklearn.model_selection import train_test_split\n",
    "\n",
    "# Decision tree\n",
    "from sklearn.tree import DecisionTreeClassifier"
   ]
  },
  {
   "cell_type": "markdown",
   "metadata": {},
   "source": [
    "## Parte 1"
   ]
  },
  {
   "cell_type": "markdown",
   "metadata": {},
   "source": [
    "### Punto 1.1"
   ]
  },
  {
   "cell_type": "code",
   "execution_count": 3,
   "metadata": {},
   "outputs": [
    {
     "data": {
      "text/html": [
       "<div>\n",
       "<style>\n",
       "    .dataframe thead tr:only-child th {\n",
       "        text-align: right;\n",
       "    }\n",
       "\n",
       "    .dataframe thead th {\n",
       "        text-align: left;\n",
       "    }\n",
       "\n",
       "    .dataframe tbody tr th {\n",
       "        vertical-align: top;\n",
       "    }\n",
       "</style>\n",
       "<table border=\"1\" class=\"dataframe\">\n",
       "  <thead>\n",
       "    <tr style=\"text-align: right;\">\n",
       "      <th></th>\n",
       "      <th>season</th>\n",
       "      <th>yr</th>\n",
       "      <th>mnth</th>\n",
       "      <th>holiday</th>\n",
       "      <th>weekday</th>\n",
       "      <th>workingday</th>\n",
       "      <th>weathersit</th>\n",
       "      <th>temp</th>\n",
       "      <th>atemp</th>\n",
       "      <th>hum</th>\n",
       "      <th>windspeed</th>\n",
       "      <th>casual</th>\n",
       "      <th>registered</th>\n",
       "      <th>cnt</th>\n",
       "    </tr>\n",
       "  </thead>\n",
       "  <tbody>\n",
       "    <tr>\n",
       "      <th>0</th>\n",
       "      <td>1</td>\n",
       "      <td>0</td>\n",
       "      <td>1</td>\n",
       "      <td>0</td>\n",
       "      <td>6</td>\n",
       "      <td>0</td>\n",
       "      <td>2</td>\n",
       "      <td>0.344167</td>\n",
       "      <td>0.363625</td>\n",
       "      <td>0.805833</td>\n",
       "      <td>0.160446</td>\n",
       "      <td>331</td>\n",
       "      <td>654</td>\n",
       "      <td>985</td>\n",
       "    </tr>\n",
       "    <tr>\n",
       "      <th>1</th>\n",
       "      <td>1</td>\n",
       "      <td>0</td>\n",
       "      <td>1</td>\n",
       "      <td>0</td>\n",
       "      <td>0</td>\n",
       "      <td>0</td>\n",
       "      <td>2</td>\n",
       "      <td>0.363478</td>\n",
       "      <td>0.353739</td>\n",
       "      <td>0.696087</td>\n",
       "      <td>0.248539</td>\n",
       "      <td>131</td>\n",
       "      <td>670</td>\n",
       "      <td>801</td>\n",
       "    </tr>\n",
       "    <tr>\n",
       "      <th>2</th>\n",
       "      <td>1</td>\n",
       "      <td>0</td>\n",
       "      <td>1</td>\n",
       "      <td>0</td>\n",
       "      <td>1</td>\n",
       "      <td>1</td>\n",
       "      <td>1</td>\n",
       "      <td>0.196364</td>\n",
       "      <td>0.189405</td>\n",
       "      <td>0.437273</td>\n",
       "      <td>0.248309</td>\n",
       "      <td>120</td>\n",
       "      <td>1229</td>\n",
       "      <td>1349</td>\n",
       "    </tr>\n",
       "    <tr>\n",
       "      <th>3</th>\n",
       "      <td>1</td>\n",
       "      <td>0</td>\n",
       "      <td>1</td>\n",
       "      <td>0</td>\n",
       "      <td>2</td>\n",
       "      <td>1</td>\n",
       "      <td>1</td>\n",
       "      <td>0.200000</td>\n",
       "      <td>0.212122</td>\n",
       "      <td>0.590435</td>\n",
       "      <td>0.160296</td>\n",
       "      <td>108</td>\n",
       "      <td>1454</td>\n",
       "      <td>1562</td>\n",
       "    </tr>\n",
       "    <tr>\n",
       "      <th>4</th>\n",
       "      <td>1</td>\n",
       "      <td>0</td>\n",
       "      <td>1</td>\n",
       "      <td>0</td>\n",
       "      <td>3</td>\n",
       "      <td>1</td>\n",
       "      <td>1</td>\n",
       "      <td>0.226957</td>\n",
       "      <td>0.229270</td>\n",
       "      <td>0.436957</td>\n",
       "      <td>0.186900</td>\n",
       "      <td>82</td>\n",
       "      <td>1518</td>\n",
       "      <td>1600</td>\n",
       "    </tr>\n",
       "  </tbody>\n",
       "</table>\n",
       "</div>"
      ],
      "text/plain": [
       "   season  yr  mnth  holiday  weekday  workingday  weathersit      temp  \\\n",
       "0       1   0     1        0        6           0           2  0.344167   \n",
       "1       1   0     1        0        0           0           2  0.363478   \n",
       "2       1   0     1        0        1           1           1  0.196364   \n",
       "3       1   0     1        0        2           1           1  0.200000   \n",
       "4       1   0     1        0        3           1           1  0.226957   \n",
       "\n",
       "      atemp       hum  windspeed  casual  registered   cnt  \n",
       "0  0.363625  0.805833   0.160446     331         654   985  \n",
       "1  0.353739  0.696087   0.248539     131         670   801  \n",
       "2  0.189405  0.437273   0.248309     120        1229  1349  \n",
       "3  0.212122  0.590435   0.160296     108        1454  1562  \n",
       "4  0.229270  0.436957   0.186900      82        1518  1600  "
      ]
     },
     "execution_count": 3,
     "metadata": {},
     "output_type": "execute_result"
    }
   ],
   "source": [
    "\"\"\"\n",
    "    Caricare il dataset e denominarlo con una variabile chiamata “dataset”\n",
    "\"\"\"\n",
    "path = 'bike.csv'\n",
    "dataset = pd.read_csv(path, sep = ';')\n",
    "dataset.head()"
   ]
  },
  {
   "cell_type": "code",
   "execution_count": 4,
   "metadata": {},
   "outputs": [
    {
     "data": {
      "image/png": "[encoded data removed]",
      "text/plain": [
       "<matplotlib.figure.Figure at 0x7fcedd2e5358>"
      ]
     },
     "metadata": {},
     "output_type": "display_data"
    }
   ],
   "source": [
    "# Per questioni didattiche vedo come è definito il dataset\n",
    "dataset.hist(figsize=(14, 12), bins=50)\n",
    "plt.show()"
   ]
  },
  {
   "cell_type": "markdown",
   "metadata": {},
   "source": [
    "### Punto 1.2"
   ]
  },
  {
   "cell_type": "code",
   "execution_count": 5,
   "metadata": {},
   "outputs": [
    {
     "name": "stdout",
     "output_type": "stream",
     "text": [
      "Biciclette noleggiate in primavera: 181\n",
      "Biciclette noleggiate in estate: 184\n",
      "Biciclette noleggiate in autunno: 188\n",
      "Biciclette noleggiate in inverno: 178\n"
     ]
    }
   ],
   "source": [
    "\"\"\"\n",
    "    Indicare quante sono le biciclette noleggiate in primavera, estate, autunno, e inverno\n",
    "\"\"\"\n",
    "dataset_seasons = dataset.groupby(['season'])['season'].count()\n",
    "print('Biciclette noleggiate in primavera: {}'.format(dataset_seasons[1]))\n",
    "print('Biciclette noleggiate in estate: {}'.format(dataset_seasons[2]))\n",
    "print('Biciclette noleggiate in autunno: {}'.format(dataset_seasons[3]))\n",
    "print('Biciclette noleggiate in inverno: {}'.format(dataset_seasons[4]))"
   ]
  },
  {
   "cell_type": "markdown",
   "metadata": {},
   "source": [
    "### Punto 1.3"
   ]
  },
  {
   "cell_type": "code",
   "execution_count": 6,
   "metadata": {},
   "outputs": [
    {
     "name": "stdout",
     "output_type": "stream",
     "text": [
      "[31, 31, 28, 29, 31, 31, 30, 30, 31, 31, 30, 30, 31, 31, 31, 31, 30, 30, 31, 31, 30, 30, 31, 31]\n",
      "Si può notare come lo scostamento sia praticamente nullo, l'unica differenza si ha per il mese di Febbraio\n"
     ]
    }
   ],
   "source": [
    "\"\"\"\n",
    "    Raggruppando i noleggi per mesi e per anni e contando i noleggi effettuati è possibile verificare se\n",
    "    ci sono andamenti particolari, ovvero: c’è un forte scostamento tra i noleggi effettuati un anno rispetto\n",
    "    al secondo? C’è un forte scostamento tra i mesi?\n",
    "\"\"\"\n",
    "dataset_years = dataset.groupby(['mnth', 'yr'])['mnth'].count()\n",
    "print(list(dataset_years))\n",
    "print('Si può notare come lo scostamento sia praticamente nullo, l\\'unica differenza si ha per il mese di Febbraio')"
   ]
  },
  {
   "cell_type": "markdown",
   "metadata": {},
   "source": [
    "### Punto 1.4"
   ]
  },
  {
   "cell_type": "code",
   "execution_count": 7,
   "metadata": {},
   "outputs": [
    {
     "data": {
      "image/png": "[encoded data removed]",
      "text/plain": [
       "<matplotlib.figure.Figure at 0x7fcedc4ec710>"
      ]
     },
     "metadata": {},
     "output_type": "display_data"
    }
   ],
   "source": [
    "\"\"\"\n",
    "    Realizzare un’immagine grafica  che rappresenti in maniera efficace la richiesta del punto 3\n",
    "\"\"\"\n",
    "dataset_years.plot(title = 'Rapporto noleggio mesi - anni')\n",
    "plt.xlabel('Mesi - Anno')\n",
    "plt.ylabel('Numero noleggi')\n",
    "plt.show()"
   ]
  },
  {
   "cell_type": "markdown",
   "metadata": {},
   "source": [
    "## Parte 2"
   ]
  },
  {
   "cell_type": "markdown",
   "metadata": {},
   "source": [
    "### Punto 2.1"
   ]
  },
  {
   "cell_type": "code",
   "execution_count": 8,
   "metadata": {},
   "outputs": [
    {
     "name": "stdout",
     "output_type": "stream",
     "text": [
      "Shape X_train: (489, 13)\n",
      "Shape X_test: (242, 13)\n",
      "Shape y_train: (489,)\n",
      "Shape y_test: (242,)\n",
      "Accuracy Logistic Regression: 0.682\n"
     ]
    }
   ],
   "source": [
    "\"\"\"\n",
    "    Si vuole predire il  tempo (weathersit) nella città sulla base degli altri valori del dataset.\n",
    "    Dividere “dataset” in modo che 2/3 degli elementi casualmente scelti siano contenuti in un nuovo \n",
    "    dataset “train” e 1/3 nel dataset “test”.\n",
    "    Valutare l’accuracy ottenuta con il modello LogisticRegression\n",
    "    (from sklearn.linear_model import LogisticRegression)\n",
    "\"\"\"\n",
    "X = dataset.drop('weathersit', axis = 1)\n",
    "Y = dataset['weathersit']\n",
    "X_train, X_test, y_train, y_test = train_test_split(X, Y, test_size = 0.33, random_state = 3)\n",
    "print('Shape X_train: {}'.format(X_train.shape))\n",
    "print('Shape X_test: {}'.format(X_test.shape))\n",
    "print('Shape y_train: {}'.format(y_train.shape))\n",
    "print('Shape y_test: {}'.format(y_test.shape))\n",
    "\n",
    "# Logistic Regression\n",
    "logistic_regression = LogisticRegression()\n",
    "logistic_regression.fit(X_train, y_train)\n",
    "accuracy_lr = logistic_regression.score(X_test, y_test)\n",
    "print(\"Accuracy Logistic Regression: {:.03}\".format(accuracy_lr))"
   ]
  },
  {
   "cell_type": "markdown",
   "metadata": {},
   "source": [
    "### Punto 2.2"
   ]
  },
  {
   "cell_type": "code",
   "execution_count": 9,
   "metadata": {},
   "outputs": [
    {
     "name": "stdout",
     "output_type": "stream",
     "text": [
      "Confusion Matrix\n",
      " [[131   7   1]\n",
      " [ 60  34   2]\n",
      " [  0   7   0]]\n"
     ]
    }
   ],
   "source": [
    "\"\"\"\n",
    "    Il valore di accuratezza ottenuto è abbastanza elevato, tuttavia, cosa si scopre analizzando la \n",
    "    confusion matrix\n",
    "\"\"\"\n",
    "y_pred_lr = logistic_regression.predict(X_test)\n",
    "cm_lr = confusion_matrix(y_test, y_pred_lr)\n",
    "print('Confusion Matrix\\n {}'.format(cm_lr))"
   ]
  },
  {
   "cell_type": "markdown",
   "metadata": {},
   "source": [
    "### Punto 2.3"
   ]
  },
  {
   "cell_type": "code",
   "execution_count": 10,
   "metadata": {},
   "outputs": [
    {
     "name": "stdout",
     "output_type": "stream",
     "text": [
      "Scores Cross Validate: 0.691 (0.020)\n"
     ]
    }
   ],
   "source": [
    "\"\"\"\n",
    "    Che valore di accuratezza si ottiene con un 5 Fold cross validation?\n",
    "\"\"\"\n",
    "num_folds = 5\n",
    "scoring = 'accuracy'\n",
    "scores = cross_val_score(logistic_regression, X, Y, cv=num_folds, scoring= scoring)\n",
    "print(\"Scores Cross Validate: {:0.3f} ({:0.3f})\".format(scores.mean(), scores.std()))"
   ]
  },
  {
   "cell_type": "markdown",
   "metadata": {},
   "source": [
    "### Punto 2.4"
   ]
  },
  {
   "cell_type": "code",
   "execution_count": 11,
   "metadata": {},
   "outputs": [
    {
     "name": "stdout",
     "output_type": "stream",
     "text": [
      "E' un valore praticamente identico\n"
     ]
    }
   ],
   "source": [
    "\"\"\"\n",
    "    E’ un valore più o meno attendibile del precedente? Perché?\n",
    "\"\"\"\n",
    "print('E\\' un valore praticamente identico')"
   ]
  },
  {
   "cell_type": "markdown",
   "metadata": {},
   "source": [
    "### Punto 2.5"
   ]
  },
  {
   "cell_type": "code",
   "execution_count": 12,
   "metadata": {},
   "outputs": [
    {
     "name": "stdout",
     "output_type": "stream",
     "text": [
      "Accuracy con Decision Tree: 0.715\n",
      "Decision tree \n",
      " [[111  28   0]\n",
      " [ 28  61   7]\n",
      " [  0   6   1]]\n"
     ]
    }
   ],
   "source": [
    "\"\"\"\n",
    "    Se si utilizza un modello basato su Decision Tree che valore di accuratezza si ottiene \n",
    "    utilizzando entrambi i metodi? Cambia qualcosa nella confusion matrix?\n",
    "\"\"\"\n",
    "decision_tree = DecisionTreeClassifier()\n",
    "decision_tree.fit(X_train, y_train)\n",
    "y_pred_dt = decision_tree.predict(X_test)\n",
    "accuracy_dt = accuracy_score(y_test, y_pred_dt)\n",
    "cm_dt = confusion_matrix(y_test, y_pred_dt)\n",
    "print(\"Accuracy con Decision Tree: {:.03}\".format(accuracy_dt))\n",
    "print(\"Decision tree \\n {}\".format(cm_dt))"
   ]
  },
  {
   "cell_type": "markdown",
   "metadata": {},
   "source": [
    "### Punto 2.6"
   ]
  },
  {
   "cell_type": "code",
   "execution_count": 13,
   "metadata": {},
   "outputs": [
    {
     "name": "stdout",
     "output_type": "stream",
     "text": [
      "Verifica tramite il numero di istanze\n",
      "Numeri di righe con 'tempSimpl' uguale a 1: (357, 13)\n",
      "Numeri di righe con 'tempSimpl' uguale a 2: (374, 13)\n",
      "Totale: (731, 13)\n",
      "############################################\n",
      "Scores Cross Validate: 0.632\n"
     ]
    }
   ],
   "source": [
    "\"\"\"\n",
    "    Creare un nuovo attributo “tempSimpl” con due valori = 2 se la temperatura percepita (atemp)\n",
    "    è maggiore della media, 1 se inferiore alla media. Si elimini poi la colonna atemp e si effettui \n",
    "    una valutazione 5 cross fold usando un modello basato su Decision Tree. Che accuratezza si ottiene?\n",
    "\"\"\"\n",
    "# Calcolo media\n",
    "mean_atemp = X['atemp'].mean()\n",
    "# Sostituzione\n",
    "X['tempSimpl'] = np.where(X['atemp'] < mean_atemp, 1, 2)\n",
    "# Eliminazione riga \n",
    "X_new = X.drop('atemp', axis=1)\n",
    "print('Verifica tramite il numero di istanze')\n",
    "print('Numeri di righe con \\'tempSimpl\\' uguale a 1: {}'.format(X_new[X_new['tempSimpl'] == 1].shape))\n",
    "print('Numeri di righe con \\'tempSimpl\\' uguale a 2: {}'.format(X_new[X_new['tempSimpl'] == 2].shape))\n",
    "print('Totale: {}'.format(X_new.shape))\n",
    "\n",
    "# Calcolo cross fold\n",
    "test_size = 0.33\n",
    "seed = 11\n",
    "X_train, X_test, Y_train, Y_test = train_test_split(X_new, Y, test_size = test_size, random_state = seed)\n",
    "decision_tree.fit(X_train, Y_train)\n",
    "y_pred = decision_tree.predict(X_test)\n",
    "\n",
    "print(\"############################################\")\n",
    "num_folds = 5\n",
    "scores = cross_val_score(decision_tree, X, Y, cv=num_folds, scoring= scoring)\n",
    "print(\"Scores Cross Validate: {:0.3f}\".format(scores.mean()))"
   ]
  },
  {
   "cell_type": "markdown",
   "metadata": {},
   "source": [
    "### Punto 2.7"
   ]
  },
  {
   "cell_type": "code",
   "execution_count": 14,
   "metadata": {},
   "outputs": [
    {
     "name": "stdout",
     "output_type": "stream",
     "text": [
      "NON SI PUO' FARE - Manca la colonna\n"
     ]
    }
   ],
   "source": [
    "\"\"\"\n",
    "    Si modifichi  il “dataset” creando il dataset “simplified”. In questo si introduca un nuovo attributo\n",
    "    “dayVsNight” con due valori: 1 se il valore di hr è compreso tra 8 e 20; 2 negli altri casi. Si elimini\n",
    "    poi hr. Si eliminino pure le colonne casual, registered e cnt. Si provi il dataset con il DecisionTree \n",
    "    e una valutazione 5Fold. Che accuratezza si ottiene? Per quale motivo?\n",
    "\"\"\"\n",
    "print('NON SI PUO\\' FARE - Manca la colonna')"
   ]
  },
  {
   "cell_type": "code",
   "execution_count": 15,
   "metadata": {
    "scrolled": true
   },
   "outputs": [
    {
     "name": "stdout",
     "output_type": "stream",
     "text": [
      "NON SI PUO' FARE - Manca la colonna\n"
     ]
    }
   ],
   "source": [
    "\"\"\"\n",
    "PUNTO 2.8\n",
    "    Si crei l’attributo “day” con valore 1 se è giorno (si ha il valore 1 in “dayVsNight”) e 0 negli altri \n",
    "    casi. Si crei l’attributo “night” con valore 1 se è notte (si ha  il valore 2 in “dayVsNight”) e 0 \n",
    "    negli altri casi. Si elimini poi “dayVsNight”. Cambia qualcosa nella accuratezza?\n",
    "\"\"\"\n",
    "print('NON SI PUO\\' FARE - Manca la colonna')"
   ]
  }
 ],
 "metadata": {
  "kernelspec": {
   "display_name": "Python 3",
   "language": "python",
   "name": "python3"
  },
  "language_info": {
   "codemirror_mode": {
    "name": "ipython",
    "version": 3
   },
   "file_extension": ".py",
   "mimetype": "text/x-python",
   "name": "python",
   "nbconvert_exporter": "python",
   "pygments_lexer": "ipython3",
   "version": "3.6.2"
  }
 },
 "nbformat": 4,
 "nbformat_minor": 2
}
