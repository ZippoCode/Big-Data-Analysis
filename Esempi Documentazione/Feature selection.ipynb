{
 "cells": [
  {
   "cell_type": "markdown",
   "metadata": {},
   "source": [
    "# FEATURE SELECTION"
   ]
  },
  {
   "cell_type": "code",
   "execution_count": 1,
   "metadata": {
    "collapsed": true
   },
   "outputs": [],
   "source": [
    "# URL: http://scikit-learn.org/stable/modules/feature_selection.html"
   ]
  },
  {
   "cell_type": "code",
   "execution_count": 12,
   "metadata": {},
   "outputs": [
    {
     "data": {
      "text/plain": [
       "'\\nThe classes in the sklearn.feature_selection module can be used for feature selection/dimensionality \\nreduction on sample sets, either to improve estimators’ accuracy scores or to boost their performance \\non very high-dimensional datasets.\\n'"
      ]
     },
     "execution_count": 12,
     "metadata": {},
     "output_type": "execute_result"
    }
   ],
   "source": [
    "\"\"\"\n",
    "The classes in the sklearn.feature_selection module can be used for feature selection/dimensionality \n",
    "reduction on sample sets, either to improve estimators’ accuracy scores or to boost their performance \n",
    "on very high-dimensional datasets.\n",
    "\"\"\""
   ]
  },
  {
   "cell_type": "markdown",
   "metadata": {},
   "source": [
    "## 1.13.1. REMOVING FEATURES WITH LOW VARIANCE"
   ]
  },
  {
   "cell_type": "code",
   "execution_count": 3,
   "metadata": {},
   "outputs": [
    {
     "data": {
      "text/plain": [
       "'\\nAs expected, VarianceThreshold has removed the first column, which has a probability p = 5/6 > .8 of\\ncontaining a zero.\\n'"
      ]
     },
     "execution_count": 3,
     "metadata": {},
     "output_type": "execute_result"
    }
   ],
   "source": [
    "\"\"\"\n",
    "\n",
    "VarianceThreshold is a simple baseline approach to feature selection. It removes all features whose \n",
    "variance doesn’t meet some threshold. By default, it removes all zero-variance features, i.e. features \n",
    "that have the same value in all samples.\n",
    "\n",
    "As an example, suppose that we have a dataset with boolean features, and we want to remove all features \n",
    "that are either one or zero (on or off) in more than 80% of the samples. Boolean features are Bernoulli \n",
    "random variables, and the variance of such variables is given by\n",
    "\n",
    "                                {Var}[X] = p(1 - p)\n",
    "                                \n",
    "so we can select using the threshold .8 * (1 - .8):\n",
    "\"\"\"\n",
    "from sklearn.feature_selection import VarianceThreshold\n",
    "X = [[0, 0, 1], [0, 1, 0], [1, 0, 0], [0, 1, 1], [0, 1, 0], [0, 1, 1]]\n",
    "sel = VarianceThreshold(threshold=(.8 * (1 - .8)))\n",
    "sel.fit_transform(X)\n",
    "\"\"\"\n",
    "As expected, VarianceThreshold has removed the first column, which has a probability p = 5/6 > .8 of\n",
    "containing a zero.\n",
    "\"\"\""
   ]
  },
  {
   "cell_type": "markdown",
   "metadata": {},
   "source": [
    "## 1.13.2. UNIVARIATE FEATURE SELECTION"
   ]
  },
  {
   "cell_type": "code",
   "execution_count": 4,
   "metadata": {},
   "outputs": [
    {
     "data": {
      "text/plain": [
       "(150, 4)"
      ]
     },
     "execution_count": 4,
     "metadata": {},
     "output_type": "execute_result"
    }
   ],
   "source": [
    "\"\"\"\n",
    "\n",
    "Univariate feature selection works by selecting the best features based on univariate statistical tests. \n",
    "It can be seen as a preprocessing step to an estimator. Scikit-learn exposes feature selection routines\n",
    "as objects that implement the transform method:\n",
    "\n",
    "    - SelectKBest removes all but the k highest scoring features\n",
    "    - SelectPercentile removes all but a user-specified highest scoring percentage of features\n",
    "    - using common univariate statistical tests for each feature: false positive rate SelectFpr, \n",
    "      false discovery rate SelectFdr, or family wise error SelectFwe.\n",
    "    - GenericUnivariateSelect allows to perform univariate feature selection with a configurable strategy. \n",
    "      This allows to select the best univariate selection strategy with hyper-parameter search estimator.\n",
    "\n",
    "For instance, we can perform a 'chi^2' test to the samples to retrieve only the two best features as follows:\n",
    "\"\"\"\n",
    "from sklearn.datasets import load_iris\n",
    "from sklearn.feature_selection import SelectKBest\n",
    "from sklearn.feature_selection import chi2\n",
    "iris = load_iris()\n",
    "X, y = iris.data, iris.target\n",
    "X.shape"
   ]
  },
  {
   "cell_type": "code",
   "execution_count": 5,
   "metadata": {},
   "outputs": [
    {
     "data": {
      "text/plain": [
       "(150, 2)"
      ]
     },
     "execution_count": 5,
     "metadata": {},
     "output_type": "execute_result"
    }
   ],
   "source": [
    "X_new = SelectKBest(score_func=chi2, k=2).fit_transform(X, y)\n",
    "X_new.shape"
   ]
  },
  {
   "cell_type": "code",
   "execution_count": 6,
   "metadata": {},
   "outputs": [
    {
     "data": {
      "text/plain": [
       "(150, 4)"
      ]
     },
     "execution_count": 6,
     "metadata": {},
     "output_type": "execute_result"
    }
   ],
   "source": [
    "\"\"\"\n",
    "These objects take as input a scoring function that returns univariate scores and p-values \n",
    "(or only scores for SelectKBest and SelectPercentile):\n",
    "    - For regression: f_regression, mutual_info_regression\n",
    "    - For classification: chi2, f_classif, mutual_info_classif\n",
    "\n",
    "The methods based on F-test estimate the degree of linear dependency between two random variables.\n",
    "On the other hand, mutual information methods can capture any kind of statistical dependency, \n",
    "but being nonparametric, they require more samples for accurate estimation.\n",
    "\n",
    "Feature selection with sparse data\n",
    "    If you use sparse data (i.e. data represented as sparse matrices), chi2, mutual_info_regression, \n",
    "    mutual_info_classif will deal with the data without making it dense.\n",
    "    \n",
    "Warning: Beware not to use a regression scoring function with a classification problem, \n",
    "         you will get useless results.\n",
    "         \n",
    "1.13.3. RECURSIVE FEATURE ELIMINATION\n",
    "\n",
    "Given an external estimator that assigns weights to features (e.g., the coefficients of a linear model), \n",
    "recursive feature elimination (RFE) is to select features by recursively considering smaller and smaller\n",
    "sets of features. First, the estimator is trained on the initial set of features and the importance of\n",
    "each feature is obtained either through a coef_ attribute or through a feature_importances_ attribute. \n",
    "Then, the least important features are pruned from current set of features.That procedure is recursively \n",
    "repeated on the pruned set until the desired number of features to select is eventually reached.\n",
    "\n",
    "RFECV performs RFE in a cross-validation loop to find the optimal number of features.\n",
    "\n",
    "1.13.4. FEATURE SELECTION USING SelectFromModel\n",
    "\n",
    "SelectFromModel is a meta-transformer that can be used along with any estimator that has a coef_ or \n",
    "feature_importances_ attribute after fitting. The features are considered unimportant and removed, \n",
    "if the corresponding coef_ or feature_importances_ values are below the provided threshold parameter. \n",
    "Apart from specifying the threshold numerically, there are built-in heuristics for finding a threshold \n",
    "using a string argument. Available heuristics are “mean”, “median” and float multiples of these \n",
    "like “0.1*mean”.\n",
    "\n",
    "For examples on how it is to be used refer to the sections below.\n",
    "\n",
    "1.13.4.1. L1-based FEATURE SELECTION\n",
    "\n",
    "Linear models penalized with the L1 norm have sparse solutions: many of their estimated coefficients \n",
    "are zero. When the goal is to reduce the dimensionality of the data to use with another classifier, \n",
    "they can be used along with feature_selection.SelectFromModel to select the non-zero coefficients. \n",
    "In particular, sparse estimators useful for this purpose are the linear_model.Lasso for regression, \n",
    "and of linear_model.LogisticRegression and svm.LinearSVC for classification:\n",
    "\"\"\"\n",
    "from sklearn.svm import LinearSVC\n",
    "from sklearn.datasets import load_iris\n",
    "from sklearn.feature_selection import SelectFromModel\n",
    "iris = load_iris()\n",
    "X, y = iris.data, iris.target\n",
    "X.shape"
   ]
  },
  {
   "cell_type": "code",
   "execution_count": 7,
   "metadata": {},
   "outputs": [
    {
     "data": {
      "text/plain": [
       "(150, 3)"
      ]
     },
     "execution_count": 7,
     "metadata": {},
     "output_type": "execute_result"
    }
   ],
   "source": [
    "lsvc = LinearSVC(C=0.01, penalty='l1', dual=False).fit(X,y)\n",
    "model = SelectFromModel(lsvc, prefit=True)\n",
    "X_new = model.transform(X)\n",
    "X_new.shape"
   ]
  },
  {
   "cell_type": "code",
   "execution_count": 8,
   "metadata": {},
   "outputs": [
    {
     "data": {
      "text/plain": [
       "(150, 4)"
      ]
     },
     "execution_count": 8,
     "metadata": {},
     "output_type": "execute_result"
    }
   ],
   "source": [
    "\"\"\"\n",
    "With SVMs and logistic-regression, the parameter C controls the sparsity: the smaller C the fewer features \n",
    "selected. With Lasso, the higher the alpha parameter, the fewer features selected.\n",
    "\n",
    "L1-recovery and compressive sensing\n",
    "    For a good choice of alpha, the Lasso can fully recover the exact set of non-zero variables using\n",
    "    only few observations, provided certain specific conditions are met. In particular, the number of\n",
    "    samples should be “sufficiently large”, or L1 models will perform at random, where “sufficiently \n",
    "    large” depends on the number of non-zero coefficients, the logarithm of the number of features, the \n",
    "    amount of noise, the smallest absolute value of non-zero coefficients, and the structure of the design \n",
    "    matrix X. In addition, the design matrix must display certain specific properties, such as not being \n",
    "    too correlated.\n",
    "    \n",
    "    There is no general rule to select an alpha parameter for recovery of non-zero coefficients.\n",
    "    It can by set by cross-validation (LassoCV or LassoLarsCV), though this may lead to under-penalized\n",
    "    models: including a small number of non-relevant variables is not detrimental to prediction score. \n",
    "    BIC (LassoLarsIC) tends, on the opposite, to set high values of alpha.\n",
    "    \n",
    "    Reference Richard G. Baraniuk “Compressive Sensing”, IEEE Signal Processing Magazine [120] July 2007 \n",
    "    http://dsp.rice.edu/sites/dsp.rice.edu/files/cs/baraniukCSlecture07.pdf\n",
    "\n",
    "1.13.4.2. Tree-based FEATURE SELECTION\n",
    "\n",
    "Tree-based estimators (see the sklearn.tree module and forest of trees in the sklearn.ensemble module) \n",
    "can be used to compute feature importances, which in turn can be used to discard irrelevant features \n",
    "(when coupled with the sklearn.feature_selection.SelectFromModel meta-transformer):\n",
    "\"\"\"\n",
    "from sklearn.ensemble import ExtraTreesClassifier\n",
    "from sklearn.datasets import load_iris\n",
    "from sklearn.feature_selection import SelectFromModel\n",
    "iris = load_iris()\n",
    "X, y = iris.data, iris.target\n",
    "X.shape"
   ]
  },
  {
   "cell_type": "code",
   "execution_count": 9,
   "metadata": {},
   "outputs": [
    {
     "data": {
      "text/plain": [
       "array([ 0.11835293,  0.09798542,  0.41538811,  0.36827354])"
      ]
     },
     "execution_count": 9,
     "metadata": {},
     "output_type": "execute_result"
    }
   ],
   "source": [
    "clf = ExtraTreesClassifier()\n",
    "clf.fit(X,y)\n",
    "clf.feature_importances_"
   ]
  },
  {
   "cell_type": "code",
   "execution_count": 10,
   "metadata": {},
   "outputs": [
    {
     "data": {
      "text/plain": [
       "(150, 2)"
      ]
     },
     "execution_count": 10,
     "metadata": {},
     "output_type": "execute_result"
    }
   ],
   "source": [
    "model = SelectFromModel(clf, prefit=True)\n",
    "X_new = model.transform(X)\n",
    "X_new.shape"
   ]
  },
  {
   "cell_type": "code",
   "execution_count": 11,
   "metadata": {},
   "outputs": [
    {
     "name": "stdout",
     "output_type": "stream",
     "text": [
      "End\n"
     ]
    }
   ],
   "source": [
    "\"\"\"\n",
    "1.13.5. FEATURE SELECTION AS PART OF A PIPELINE\n",
    "\n",
    "Feature selection is usually used as a pre-processing step before doing the actual learning. The recommended \n",
    "way to do this in scikit-learn is to use a sklearn.pipeline.Pipeline:\n",
    "\n",
    "clf = Pipeline([\n",
    "  ('feature_selection', SelectFromModel(LinearSVC(penalty=\"l1\"))),\n",
    "  ('classification', RandomForestClassifier())\n",
    "])\n",
    "clf.fit(X, y)\n",
    "\n",
    "\n",
    "In this snippet we make use of a sklearn.svm.LinearSVC coupled with sklearn.feature_selection.SelectFromModel \n",
    "to evaluate feature importances and select the most relevant features. Then, a \n",
    "sklearn.ensemble.RandomForestClassifier is trained on the transformed output, i.e. using only relevant features.\n",
    "You can perform similar operations with the other feature selection methods and also classifiers that \n",
    "provide a way to evaluate feature importances of course. See the sklearn.pipeline.Pipeline examples for \n",
    "more details.\n",
    "\"\"\"\n",
    "print(\"End\")"
   ]
  }
 ],
 "metadata": {
  "kernelspec": {
   "display_name": "Python 3",
   "language": "python",
   "name": "python3"
  },
  "language_info": {
   "codemirror_mode": {
    "name": "ipython",
    "version": 3
   },
   "file_extension": ".py",
   "mimetype": "text/x-python",
   "name": "python",
   "nbconvert_exporter": "python",
   "pygments_lexer": "ipython3",
   "version": "3.6.2"
  }
 },
 "nbformat": 4,
 "nbformat_minor": 2
}
