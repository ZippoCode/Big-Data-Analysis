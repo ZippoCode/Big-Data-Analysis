{
 "cells": [
  {
   "cell_type": "code",
   "execution_count": 1,
   "metadata": {
    "collapsed": true
   },
   "outputs": [],
   "source": [
    "# URL: http://scikit-learn.org/stable/modules/cross_validation.html"
   ]
  },
  {
   "cell_type": "code",
   "execution_count": 2,
   "metadata": {},
   "outputs": [
    {
     "data": {
      "text/plain": [
       "((150, 4), (150,))"
      ]
     },
     "execution_count": 2,
     "metadata": {},
     "output_type": "execute_result"
    }
   ],
   "source": [
    "\"\"\"\n",
    "Learning the parameters of a prediction function and testing it on the same data is a methodological mistake: \n",
    "a model that would just repeat the labels of the samples that it has just seen would have a perfect score but\n",
    "would fail to predict anything useful on yet-unseen data. This situation is called overfitting. To avoid it, \n",
    "it is common practice when performing a (supervised) machine learning experiment to hold out part of the available \n",
    "data as a test set X_test, y_test. Note that the word “experiment” is not intended to denote academic use only, \n",
    "because even in commercial settings machine learning usually starts out experimentally.\n",
    "\n",
    "In scikit-learn a random split into training and test sets can be quickly computed with the train_test_split \n",
    "helper function. Let’s load the iris data set to fit a linear support vector machine on it:\n",
    "\"\"\"\n",
    "import pandas as pd\n",
    "from sklearn.model_selection import train_test_split\n",
    "from sklearn import datasets\n",
    "from sklearn import svm\n",
    "\n",
    "iris = datasets.load_iris()\n",
    "iris.data.shape, iris.target.shape"
   ]
  },
  {
   "cell_type": "code",
   "execution_count": 3,
   "metadata": {},
   "outputs": [
    {
     "data": {
      "text/plain": [
       "((90, 4), (90,))"
      ]
     },
     "execution_count": 3,
     "metadata": {},
     "output_type": "execute_result"
    }
   ],
   "source": [
    "\"\"\"\n",
    "We can now quickly sample a training set while holding out 40% of the data for testing (evaluating) our \n",
    "classifier:\n",
    "\"\"\"\n",
    "X_train, X_test, y_train, y_test = train_test_split(iris.data, iris.target, test_size = 0.4, random_state = 0)\n",
    "X_train.shape, y_train.shape"
   ]
  },
  {
   "cell_type": "code",
   "execution_count": 4,
   "metadata": {},
   "outputs": [
    {
     "data": {
      "text/plain": [
       "((60, 4), (60,))"
      ]
     },
     "execution_count": 4,
     "metadata": {},
     "output_type": "execute_result"
    }
   ],
   "source": [
    "X_test.shape, y_test.shape"
   ]
  },
  {
   "cell_type": "code",
   "execution_count": 5,
   "metadata": {},
   "outputs": [
    {
     "data": {
      "text/plain": [
       "0.96666666666666667"
      ]
     },
     "execution_count": 5,
     "metadata": {},
     "output_type": "execute_result"
    }
   ],
   "source": [
    "clf = svm.SVC(kernel = 'linear', C = 1).fit(X_train, y_train)\n",
    "clf.score(X_test, y_test)"
   ]
  },
  {
   "cell_type": "code",
   "execution_count": 6,
   "metadata": {},
   "outputs": [
    {
     "name": "stdout",
     "output_type": "stream",
     "text": [
      "\n"
     ]
    }
   ],
   "source": [
    "\"\"\"\n",
    "When evaluating different settings (“hyperparameters”) for estimators, such as the C setting that must be \n",
    "manually set for an SVM, there is still a risk of overfitting on the test set because the parameters can \n",
    "be tweaked until the estimator performs optimally. This way, knowledge about the test set can “leak” into \n",
    "the model and evaluation metrics no longer report on generalization performance. To solve this problem, \n",
    "yet another part of the dataset can be held out as a so-called “validation set”: training proceeds on the \n",
    "training set, after which evaluation is done on the validation set, and when the experiment seems to be \n",
    "successful, final evaluation can be done on the test set.\n",
    "\n",
    "However, by partitioning the available data into three sets, we drastically reduce the number of samples which \n",
    "can be used for learning the model, and the results can depend on a particular random choice for the pair of \n",
    "(train, validation) sets.\n",
    "\n",
    "A solution to this problem is a procedure called cross-validation (CV for short). A test set should still \n",
    "be held out for final evaluation, but the validation set is no longer needed when doing CV. In the basic approach, \n",
    "called k-fold CV, the training set is split into k smaller sets (other approaches are described below, but \n",
    "generally follow the same principles). The following procedure is followed for each of the k “folds”:\n",
    "    - A model is trained using k-1 of the folds as training data;\n",
    "    - the resulting model is validated on the remaining part of the data (i.e., it is used as a test set to \n",
    "    compute a performance measure such as accuracy).\n",
    "\n",
    "The performance measure reported by k-fold cross-validation is then the average of the values computed in the \n",
    "loop. This approach can be computationally expensive, but does not waste too much data (as it is the case when \n",
    "fixing an arbitrary test set), which is a major advantage in problem such as inverse inference where the number \n",
    "of samples is very small.\n",
    "\"\"\"\n",
    "print('')"
   ]
  },
  {
   "cell_type": "markdown",
   "metadata": {},
   "source": [
    "## Computing cross-validated metrics"
   ]
  },
  {
   "cell_type": "code",
   "execution_count": 7,
   "metadata": {},
   "outputs": [
    {
     "data": {
      "text/plain": [
       "array([ 0.96666667,  1.        ,  0.96666667,  0.96666667,  1.        ])"
      ]
     },
     "execution_count": 7,
     "metadata": {},
     "output_type": "execute_result"
    }
   ],
   "source": [
    "\"\"\"\n",
    "The simplest way to use cross-validation is to call the cross_val_score helper function on the estimator \n",
    "and the dataset.\n",
    "\n",
    "The following example demonstrates how to estimate the accuracy of a linear kernel support vector machine on\n",
    "the iris dataset by splitting the data, fitting a model and computing the score 5 consecutive times \n",
    "(with different splits each time):\n",
    "\"\"\"\n",
    "from sklearn.model_selection import cross_val_score\n",
    "clf = svm.SVC(kernel = 'linear', C = 1)\n",
    "scores = cross_val_score(clf, iris.data, iris.target, cv = 5)\n",
    "scores"
   ]
  },
  {
   "cell_type": "code",
   "execution_count": 8,
   "metadata": {},
   "outputs": [
    {
     "name": "stdout",
     "output_type": "stream",
     "text": [
      "Accuracy 0.98 (+/- 0.03)\n"
     ]
    }
   ],
   "source": [
    "\"\"\"\n",
    "The mean score and the 95% confidence interval of the score estimate are hence given by:\n",
    "\"\"\"\n",
    "print('Accuracy %0.2f (+/- %0.2f)' % (scores.mean(), scores.std() * 2 ))"
   ]
  },
  {
   "cell_type": "code",
   "execution_count": 9,
   "metadata": {},
   "outputs": [
    {
     "data": {
      "text/plain": [
       "array([ 0.96658312,  1.        ,  0.96658312,  0.96658312,  1.        ])"
      ]
     },
     "execution_count": 9,
     "metadata": {},
     "output_type": "execute_result"
    }
   ],
   "source": [
    "\"\"\"\n",
    "By default, the score computed at each CV iteration is the score method of the estimator. It is possible to \n",
    "change this by using the scoring parameter:\n",
    "\"\"\"\n",
    "from sklearn import metrics\n",
    "scores = cross_val_score(clf, iris.data, iris.target, cv = 5, scoring = 'f1_macro')\n",
    "scores"
   ]
  },
  {
   "cell_type": "code",
   "execution_count": 10,
   "metadata": {},
   "outputs": [
    {
     "data": {
      "text/plain": [
       "array([ 0.97777778,  0.97777778,  1.        ])"
      ]
     },
     "execution_count": 10,
     "metadata": {},
     "output_type": "execute_result"
    }
   ],
   "source": [
    "\"\"\"\n",
    "See The scoring parameter: defining model evaluation rules for details\n",
    "(http://scikit-learn.org/stable/modules/model_evaluation.html#scoring-parameter). In the case of the Iris dataset,\n",
    "the samples are balanced across target classes hence the accuracy and the F1-score are almost equal.\n",
    "\n",
    "When the cv argument is an integer, cross_val_score uses the KFold or StratifiedKFold strategies by default,\n",
    "the latter being used if the estimator derives from ClassifierMixin.\n",
    "\n",
    "It is also possible to use other cross validation strategies by passing a cross validation iterator instead, \n",
    "for instance:\n",
    "\"\"\"\n",
    "from sklearn.model_selection import ShuffleSplit\n",
    "n_samples = iris.data.shape[0]\n",
    "cv = ShuffleSplit(n_splits = 3, test_size = 0.3, random_state = 0)\n",
    "cross_val_score(clf, iris.data, iris.target, cv = cv )"
   ]
  },
  {
   "cell_type": "markdown",
   "metadata": {
    "collapsed": true
   },
   "source": [
    "###### Data transformation with held out data "
   ]
  },
  {
   "cell_type": "code",
   "execution_count": 11,
   "metadata": {},
   "outputs": [
    {
     "data": {
      "text/plain": [
       "0.93333333333333335"
      ]
     },
     "execution_count": 11,
     "metadata": {},
     "output_type": "execute_result"
    }
   ],
   "source": [
    "\"\"\"\n",
    "Just as it is important to test a predictor on data held-out from training, preprocessing (such as \n",
    "standardization, feature selection, etc.) and similar data transformations similarly should be learnt from a \n",
    "training set and applied to held-out data for prediction:\n",
    "\"\"\"\n",
    "from sklearn import preprocessing\n",
    "X_train, X_test, y_train, y_test = train_test_split(iris.data, iris.target, test_size = 0.4, random_state = 0)\n",
    "scaler = preprocessing.StandardScaler().fit(X_train, y_train)\n",
    "X_train_trasformed = scaler.transform(X_train)\n",
    "clf = svm.SVC(C = 1).fit(X_train_trasformed, y_train)\n",
    "X_test_trasformed = scaler.transform(X_test)\n",
    "clf.score(X_test_trasformed, y_test)"
   ]
  },
  {
   "cell_type": "code",
   "execution_count": 12,
   "metadata": {},
   "outputs": [
    {
     "data": {
      "text/plain": [
       "array([ 0.97777778,  0.93333333,  0.95555556])"
      ]
     },
     "execution_count": 12,
     "metadata": {},
     "output_type": "execute_result"
    }
   ],
   "source": [
    "\"\"\"\n",
    "A Pipeline makes it easier to compose estimators, providing this behavior under cross-validation:\n",
    "\"\"\"\n",
    "from sklearn.pipeline import make_pipeline\n",
    "clf = make_pipeline(preprocessing.StandardScaler(), svm.SVC(C = 1))\n",
    "cross_val_score(clf, iris.data, iris.target, cv = cv)"
   ]
  },
  {
   "cell_type": "markdown",
   "metadata": {},
   "source": [
    "### The cross_validate function and multiple metric evaluation"
   ]
  },
  {
   "cell_type": "code",
   "execution_count": 13,
   "metadata": {},
   "outputs": [
    {
     "data": {
      "text/plain": [
       "['fit_time', 'score_time', 'test_precision_macro', 'test_recall_macro']"
      ]
     },
     "execution_count": 13,
     "metadata": {},
     "output_type": "execute_result"
    }
   ],
   "source": [
    "\"\"\"\n",
    "The cross_validate function differs from cross_val_score in two ways:\n",
    "    - It allows specifying multiple metrics for evaluation.\n",
    "    - It returns a dict containing training scores, fit-times and score-times in addition to the test score.\n",
    "\n",
    "For single metric evaluation, where the scoring parameter is a string, callable or None, the keys will be - \n",
    "['test_score', 'fit_time', 'score_time']\n",
    "\n",
    "And for multiple metric evaluation, the return value is a dict with the following keys - \n",
    "['test_<scorer1_name>', 'test_<scorer2_name>', 'test_<scorer...>', 'fit_time', 'score_time']\n",
    "\n",
    "return_train_score is set to True by default. It adds train score keys for all the scorers. If train scores \n",
    "are not needed, this should be set to False explicitly.\n",
    "\n",
    "The multiple metrics can be specified either as a list, tuple or set of predefined scorer names:\n",
    "\"\"\"\n",
    "from sklearn.model_selection import cross_validate\n",
    "from sklearn.metrics import recall_score\n",
    "\n",
    "scoring = ['precision_macro', 'recall_macro']\n",
    "clf = svm.SVC(kernel = 'linear', C = 1, random_state = 0)\n",
    "scores = cross_validate(clf, iris.data, iris.target, scoring = scoring, cv = 5, return_train_score = False)\n",
    "sorted(scores.keys())"
   ]
  },
  {
   "cell_type": "code",
   "execution_count": 14,
   "metadata": {},
   "outputs": [
    {
     "data": {
      "text/plain": [
       "array([ 0.96666667,  1.        ,  0.96666667,  0.96666667,  1.        ])"
      ]
     },
     "execution_count": 14,
     "metadata": {},
     "output_type": "execute_result"
    }
   ],
   "source": [
    "scores['test_recall_macro']"
   ]
  },
  {
   "cell_type": "code",
   "execution_count": 15,
   "metadata": {},
   "outputs": [
    {
     "data": {
      "text/plain": [
       "['fit_time',\n",
       " 'score_time',\n",
       " 'test_prec_macro',\n",
       " 'test_rec_micro',\n",
       " 'train_prec_macro',\n",
       " 'train_rec_micro']"
      ]
     },
     "execution_count": 15,
     "metadata": {},
     "output_type": "execute_result"
    }
   ],
   "source": [
    "\"\"\"\n",
    "Or as a dict mapping scorer name to a predefined or custom scoring function:\n",
    "\"\"\"\n",
    "from sklearn.metrics.scorer import make_scorer\n",
    "scoring = {'prec_macro' : 'precision_macro',\n",
    "           'rec_micro': make_scorer(recall_score, average = 'macro')}\n",
    "scores = cross_validate(clf, iris.data, iris.target, scoring = scoring, cv = 5, return_train_score = True)\n",
    "sorted(scores.keys())"
   ]
  },
  {
   "cell_type": "code",
   "execution_count": 16,
   "metadata": {},
   "outputs": [
    {
     "data": {
      "text/plain": [
       "array([ 0.975     ,  0.975     ,  0.99166667,  0.98333333,  0.98333333])"
      ]
     },
     "execution_count": 16,
     "metadata": {},
     "output_type": "execute_result"
    }
   ],
   "source": [
    "scores['train_rec_micro']"
   ]
  },
  {
   "cell_type": "code",
   "execution_count": 17,
   "metadata": {},
   "outputs": [
    {
     "data": {
      "text/plain": [
       "['fit_time', 'score_time', 'test_score', 'train_score']"
      ]
     },
     "execution_count": 17,
     "metadata": {},
     "output_type": "execute_result"
    }
   ],
   "source": [
    "\"\"\"\n",
    "Here is an example of cross_validate using a single metric:\n",
    "\"\"\"\n",
    "scores = cross_validate(clf, iris.data, iris.target, scoring = 'precision_macro')\n",
    "sorted(scores.keys())"
   ]
  },
  {
   "cell_type": "markdown",
   "metadata": {},
   "source": [
    "### Obtaining predictions by cross-validation"
   ]
  },
  {
   "cell_type": "code",
   "execution_count": 18,
   "metadata": {},
   "outputs": [
    {
     "data": {
      "text/plain": [
       "0.97333333333333338"
      ]
     },
     "execution_count": 18,
     "metadata": {},
     "output_type": "execute_result"
    }
   ],
   "source": [
    "\"\"\"\n",
    "The function cross_val_predict has a similar interface to cross_val_score, but returns, for each element\n",
    "in the input, the prediction that was obtained for that element when it was in the test set. Only \n",
    "cross-validation strategies that assign all elements to a test set exactly once can be used (otherwise, \n",
    "an exception is raised).\n",
    "\n",
    "These prediction can then be used to evaluate the classifier:\n",
    "\"\"\"\n",
    "from sklearn.model_selection import cross_val_predict\n",
    "predicted = cross_val_predict(clf, iris.data, iris.target, cv = 10)\n",
    "metrics.accuracy_score(iris.target, predicted)"
   ]
  },
  {
   "cell_type": "code",
   "execution_count": 19,
   "metadata": {},
   "outputs": [
    {
     "name": "stdout",
     "output_type": "stream",
     "text": [
      "\n"
     ]
    }
   ],
   "source": [
    "\"\"\"\n",
    "Note that the result of this computation may be slightly different from those obtained using cross_val_score \n",
    "as the elements are grouped in different ways.\n",
    "\n",
    "The available cross validation iterators are introduced in the following section.\n",
    "\"\"\"\n",
    "print('')"
   ]
  }
 ],
 "metadata": {
  "kernelspec": {
   "display_name": "Python 3",
   "language": "python",
   "name": "python3"
  },
  "language_info": {
   "codemirror_mode": {
    "name": "ipython",
    "version": 3
   },
   "file_extension": ".py",
   "mimetype": "text/x-python",
   "name": "python",
   "nbconvert_exporter": "python",
   "pygments_lexer": "ipython3",
   "version": "3.6.2"
  }
 },
 "nbformat": 4,
 "nbformat_minor": 2
}
