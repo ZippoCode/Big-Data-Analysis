{
 "cells": [
  {
   "cell_type": "code",
   "execution_count": 1,
   "metadata": {},
   "outputs": [],
   "source": [
    "# Ndarray è un array di oggetti n-dimensionale\n",
    "import numpy as np"
   ]
  },
  {
   "cell_type": "code",
   "execution_count": 2,
   "metadata": {},
   "outputs": [
    {
     "data": {
      "text/plain": [
       "array([ 2,  5,  8, 11, 14])"
      ]
     },
     "execution_count": 2,
     "metadata": {},
     "output_type": "execute_result"
    }
   ],
   "source": [
    "\"\"\"\n",
    "numpy.arange\n",
    "\n",
    "    Return evenly spaced values within a given interval.\n",
    "    Values are generated within the half-open interval [start, stop)\n",
    "    (in other words, the interval including start but excluding stop). \n",
    "    For integer arguments the function is equivalent to the Python built-in range function, \n",
    "    but returns an ndarray rather than a list.\n",
    "    When using a non-integer step, such as 0.1, the results will often not be consistent.\n",
    "    It is better to use linspace for these cases.\n",
    "\n",
    "Parameters:\n",
    "    start : number, optional\n",
    "        Start of interval. The interval includes this value. The default start value is 0.\n",
    "    stop : number\n",
    "        End of interval. The interval does not include this value, \n",
    "        except in some cases where step is not an integer and floating point round-off affects the length of out.\n",
    "    step : number, optional\n",
    "    Spacing between values. For any output out, this is the distance between two adjacent \n",
    "    values, out[i+1] - out[i]. The default step size is 1. If step is specified, start must also be given.\n",
    "    dtype : dtype\n",
    "    The type of the output array. If dtype is not given, infer the data type from the other input arguments.\n",
    "Returns:\n",
    "    arange : ndarray\n",
    "    Array of evenly spaced values.\n",
    "    For floating point arguments, the length of the result is ceil((stop - start)/step). \n",
    "    Because of floating point overflow, this rule may result in the last element of out being greater than stop.\n",
    "\"\"\"\n",
    "array_arange = np.arange(3)\n",
    "array_arange\n",
    "array_arange_step = np.arange(start=2, stop = 15, step = 3)\n",
    "array_arange_step"
   ]
  },
  {
   "cell_type": "code",
   "execution_count": 3,
   "metadata": {},
   "outputs": [
    {
     "data": {
      "text/plain": [
       "array([[ 0.,  0.],\n",
       "       [ 0.,  0.],\n",
       "       [ 0.,  0.],\n",
       "       [ 0.,  0.],\n",
       "       [ 0.,  0.],\n",
       "       [ 0.,  0.],\n",
       "       [ 0.,  0.]])"
      ]
     },
     "execution_count": 3,
     "metadata": {},
     "output_type": "execute_result"
    }
   ],
   "source": [
    "\"\"\"\n",
    "numpy.one\n",
    "    Return a new array of given shape and type, filled with ones.\n",
    "\n",
    "Parameters:\n",
    "    shape : int or sequence of ints\n",
    "            Shape of the new array, e.g., (2, 3) or 2.\n",
    "    dtype : data-type, optional\n",
    "            The desired data-type for the array, e.g., numpy.int8. Default is numpy.float64.\n",
    "    order : {‘C’, ‘F’}, optional\n",
    "            Whether to store multidimensional data in C- or Fortran-contiguous \n",
    "            (row- or column-wise) order in memory.\n",
    "Returns:\n",
    "    out : ndarray\n",
    "    Array of ones with the given shape, dtype, and order.\n",
    "\"\"\"\n",
    "array_ones = np.ones(5)\n",
    "array_ones\n",
    "array_ones_int = np.ones(5, dtype=int)\n",
    "array_ones_int\n",
    "matrix_ones = np.ones((5,6))\n",
    "matrix_ones\n",
    "matrix_ones_int = np.ones((2,3), dtype=int)\n",
    "matrix_ones_int\n",
    "\"\"\"\n",
    "numpy.ones_like\n",
    "    Return an array of ones with the same shape and type as a given array.\n",
    "\n",
    "Parameters:\n",
    "    a : array_like\n",
    "        The shape and data-type of a define these same attributes of the returned array.\n",
    "    dtype : data-type, optional\n",
    "        Overrides the data type of the result.\n",
    "        New in version 1.6.0.\n",
    "    order : {‘C’, ‘F’, ‘A’, or ‘K’}, optional\n",
    "        Overrides the memory layout of the result. ‘C’ means C-order, \n",
    "        ‘F’ means F-order, ‘A’ means ‘F’ if a is Fortran contiguous, \n",
    "        ‘C’ otherwise. ‘K’ means match the layout of a as closely as possible.\n",
    "        New in version 1.6.0.\n",
    "    subok : bool, optional.\n",
    "        If True, then the newly created array will use the sub-class type of ‘a’, \n",
    "        otherwise it will be a base-class array. Defaults to True.\n",
    "Returns:\n",
    "    out : ndarray\n",
    "        Array of ones with the same shape and type as a.\n",
    "\"\"\"\n",
    "x = np.arange(6)\n",
    "x = x.reshape((2,3))\n",
    "array_ones_like = np.ones_like(x)\n",
    "array_ones_like\n",
    "\n",
    "\"\"\"\n",
    "Le funzione zeros e zeros_like funzionano esattamente come ones e ones_like ma producono n-array \n",
    "di 0 invece che si 1\n",
    "\"\"\"\n",
    "array_zeros = np.zeros(5, dtype=float)\n",
    "array_zeros\n",
    "matrix_zeros = np.zeros((7,2))\n",
    "matrix_zeros"
   ]
  },
  {
   "cell_type": "code",
   "execution_count": 4,
   "metadata": {},
   "outputs": [
    {
     "data": {
      "text/plain": [
       "array([[  4.64329861e-310,   0.00000000e+000,   0.00000000e+000],\n",
       "       [  0.00000000e+000,   0.00000000e+000,   0.00000000e+000]])"
      ]
     },
     "execution_count": 4,
     "metadata": {},
     "output_type": "execute_result"
    }
   ],
   "source": [
    "\"\"\"\n",
    "numpy.empty\n",
    "\n",
    "    Return a new array of given shape and type, without initializing entries.\n",
    "\n",
    "Parameters:\n",
    "    shape : int or tuple of int\n",
    "        Shape of the empty array\n",
    "    dtype : data-type, optional\n",
    "        Desired output data-type.\n",
    "    order : {‘C’, ‘F’}, optional\n",
    "        Whether to store multi-dimensional data in row-major (C-style) or column-major\n",
    "        (Fortran-style) order in memory.\n",
    "Returns:\n",
    "    out : ndarray\n",
    "        Array of uninitialized (arbitrary) data of the given shape, dtype, and order. \n",
    "        Object arrays will be initialized to None.\n",
    "\"\"\"\n",
    "array_empty = np.empty([2,4])\n",
    "array_empty\n",
    "array_empty_int = np.empty([3,3], dtype=int)\n",
    "array_empty_int\n",
    "\"\"\"\n",
    "numpy.empty_like\n",
    "\n",
    "    Return a new array with the same shape and type as a given array.\n",
    "\n",
    "Parameters:\n",
    "    a : array_like\n",
    "        The shape and data-type of a define these same attributes of the returned array.\n",
    "    dtype : data-type, optional\n",
    "        Overrides the data type of the result.\n",
    "        New in version 1.6.0.\n",
    "    order : {‘C’, ‘F’, ‘A’, or ‘K’}, optional\n",
    "        Overrides the memory layout of the result. ‘C’ means C-order, ‘F’ means F-order, \n",
    "        ‘A’ means ‘F’ if a is Fortran contiguous, ‘C’ otherwise.\n",
    "        ‘K’ means match the layout of a as closely as possible.\n",
    "        New in version 1.6.0.\n",
    "    subok : bool, optional.\n",
    "        If True, then the newly created array will use the sub-class type of ‘a’, \n",
    "        otherwise it will be a base-class array. Defaults to True.\n",
    "Returns:\n",
    "    out : ndarray\n",
    "    Array of uninitialized (arbitrary) data with the same shape and type as a.\n",
    "\"\"\"\n",
    "a = ([1,2,3],[4,5,6])\n",
    "array_empty_like = np.empty_like(a)\n",
    "array_empty_like\n",
    "b = ([1.,2.,3.],[4.,5.,6.])\n",
    "array_empty_like_float = np.empty_like(b)\n",
    "array_empty_like_float"
   ]
  },
  {
   "cell_type": "code",
   "execution_count": 5,
   "metadata": {},
   "outputs": [
    {
     "data": {
      "text/plain": [
       "array([[ 1.,  0.,  0.,  0.],\n",
       "       [ 0.,  1.,  0.,  0.],\n",
       "       [ 0.,  0.,  1.,  0.],\n",
       "       [ 0.,  0.,  0.,  1.]])"
      ]
     },
     "execution_count": 5,
     "metadata": {},
     "output_type": "execute_result"
    }
   ],
   "source": [
    "\"\"\"\n",
    "numpy.eye\n",
    "\n",
    "    Return a 2-D array with ones on the diagonal and zeros elsewhere.\n",
    "\n",
    "Parameters:\n",
    "    N : int\n",
    "        Number of rows in the output.\n",
    "    M : int, optional\n",
    "        Number of columns in the output. If None, defaults to N.\n",
    "    k : int, optional\n",
    "        Index of the diagonal: 0 (the default) refers to the main diagonal,\n",
    "        a positive value refers to an upper diagonal, and a negative value to a lower diagonal.\n",
    "    dtype : data-type, optional\n",
    "        Data-type of the returned array.\n",
    "Returns:\n",
    "    I : ndarray of shape (N,M)\n",
    "    An array where all elements are equal to zero, except for the k-th diagonal, \n",
    "    whose values are equal to one.\n",
    "\"\"\"\n",
    "array_eye = np.eye(2, dtype=int)\n",
    "array_eye\n",
    "array_eye2 = np.eye(2,6,dtype=float)\n",
    "array_eye2\n",
    "semi_array_eye = np.eye(4, k=2, dtype=int)\n",
    "semi_array_eye\n",
    "\"\"\"\n",
    "numpy.identity\n",
    "\n",
    "    The identity array is a square array with ones on the main diagonal.\n",
    "\n",
    "Parameters:\n",
    "    n : int\n",
    "        Number of rows (and columns) in n x n output.\n",
    "    dtype : data-type, optional\n",
    "        Data-type of the output. Defaults to float.\n",
    "Returns:\n",
    "    out : ndarray\n",
    "    n x n array with its main diagonal set to one, and all other elements 0.\n",
    "\"\"\"\n",
    "array_identity = np.identity(n=4)\n",
    "array_identity"
   ]
  }
 ],
 "metadata": {
  "kernelspec": {
   "display_name": "Python 3",
   "language": "python",
   "name": "python3"
  },
  "language_info": {
   "codemirror_mode": {
    "name": "ipython",
    "version": 3
   },
   "file_extension": ".py",
   "mimetype": "text/x-python",
   "name": "python",
   "nbconvert_exporter": "python",
   "pygments_lexer": "ipython3",
   "version": "3.6.2"
  }
 },
 "nbformat": 4,
 "nbformat_minor": 2
}
