{
 "cells": [
  {
   "cell_type": "code",
   "execution_count": 1,
   "metadata": {
    "collapsed": true
   },
   "outputs": [],
   "source": [
    "import numpy as np\n",
    "\n",
    "array = np.arange(20)"
   ]
  },
  {
   "cell_type": "code",
   "execution_count": 2,
   "metadata": {},
   "outputs": [
    {
     "name": "stdout",
     "output_type": "stream",
     "text": [
      "Elemento in posizione 2: 2\n",
      "Elemento in posizione -2: 18\n",
      "Matrice 5x4:\n",
      " [[ 0  1  2  3]\n",
      " [ 4  5  6  7]\n",
      " [ 8  9 10 11]\n",
      " [12 13 14 15]\n",
      " [16 17 18 19]]\n",
      "Elemento in posizione (4,2): 18\n",
      "Elemento in posizione (3,-2): 14\n",
      "array[0]: [0 1 2 3]\n",
      "array[-1]: [16 17 18 19]\n",
      "array[2][1]: 9\n",
      "2\n",
      "2\n"
     ]
    }
   ],
   "source": [
    "\"\"\"\n",
    "SINGLE ELEMENT INDEXING\n",
    "\n",
    "    Single element indexing for a 1-D array is what one expects. \n",
    "    It work exactly like that for other standard Python sequences. \n",
    "    It is 0-based, and accepts negative indices for indexing from the end of the array.\n",
    "\"\"\"\n",
    "print('Elemento in posizione 2:',array[2])\n",
    "print('Elemento in posizione -2:',array[-2])\n",
    "\"\"\"\n",
    "    Unlike lists and tuples, numpy arrays support multidimensional indexing for\n",
    "    multidimensional arrays. That means that it is not necessary to separate each \n",
    "    dimension’s index into its own set of square brackets.\n",
    "\"\"\"\n",
    "array.shape = (5,4)\n",
    "print('Matrice 5x4:\\n',array)\n",
    "print('Elemento in posizione (4,2):',array[4,2])\n",
    "print('Elemento in posizione (3,-2):',array[3,-2])\n",
    "\"\"\"\n",
    "    Note that if one indexes a multidimensional array with fewer indices than dimensions,\n",
    "    one gets a subdimensional array. \n",
    "\"\"\"\n",
    "print('array[0]:', array[0])\n",
    "print('array[-1]:', array[-1])\n",
    "\"\"\"\n",
    "    That is, each index specified selects the array corresponding to the rest of the dimensions selected. \n",
    "    In the above example, choosing 0 means that the remaining dimension of length 5 is being left \n",
    "    unspecified, and that what is returned is an array of that dimensionality and size. \n",
    "    It must be noted that the returned array is not a copy of the original, but points to the same values \n",
    "    in memory as does the original array. In this case, the 1-D array at the first position (0) is returned. \n",
    "    So using a single index on the returned array, results in a single element being returned. That is:\n",
    "\"\"\"\n",
    "print('array[2][1]:', array[2][1])\n",
    "\n",
    "\"\"\"\n",
    "    So note that x[0,2] = x[0][2] though the second case is more inefficient as a new temporary\n",
    "    array is created after the first index that is subsequently indexed by 2.\n",
    "    Note to those used to IDL or Fortran memory order as it relates to indexing.\n",
    "    NumPy uses C-order indexing. That means that the last index usually represents the most rapidly \n",
    "    changing memory location, unlike Fortran or IDL, where the first index represents the most rapidly \n",
    "    changing location in memory. This difference represents a great potential for confusion.\n",
    "\"\"\"\n",
    "print(array[0,2])\n",
    "print(array[0][2])"
   ]
  },
  {
   "cell_type": "code",
   "execution_count": 5,
   "metadata": {},
   "outputs": [
    {
     "name": "stdout",
     "output_type": "stream",
     "text": [
      "array: [ 0  1  2  3  4  5  6  7  8  9 10 11 12 13 14 15 16 17 18 19]\n",
      "array[2:5]: [2 3 4]\n",
      "array [:-7] [ 0  1  2  3  4  5  6  7  8  9 10 11 12]\n",
      "array [1:10:2] [1 3 5 7 9]\n",
      "array2:\n",
      " [[ 0  1  2  3  4  5  6]\n",
      " [ 7  8  9 10 11 12 13]\n",
      " [14 15 16 17 18 19 20]\n",
      " [21 22 23 24 25 26 27]\n",
      " [28 29 30 31 32 33 34]]\n",
      "array2[1:5:2, ::3]:\n",
      " [[ 7 10 13]\n",
      " [21 24 27]]\n",
      "array2[::2]\n",
      " [[ 0  1  2  3  4  5  6]\n",
      " [14 15 16 17 18 19 20]\n",
      " [28 29 30 31 32 33 34]]\n",
      "array2:[1:5,1:2]\n",
      " [[ 8]\n",
      " [15]\n",
      " [22]\n",
      " [29]]\n"
     ]
    }
   ],
   "source": [
    "\"\"\"\n",
    "OTHER INDEXING OPTIONS\n",
    "\n",
    "    It is possible to slice and stride arrays to extract arrays of the same number of dimensions, \n",
    "    but of different sizes than the original. The slicing and striding works exactly the same way \n",
    "    it does for lists and tuples except that they can be applied to multiple dimensions as well. \n",
    "    A few examples illustrates best:\n",
    "\"\"\"\n",
    "array = np.arange(20)\n",
    "print('array:', array)\n",
    "print('array[2:5]:', array[2:5])\n",
    "print('array [:-7]', array[:-7])\n",
    "print('array [1:10:2]', array[1:10:2])\n",
    "\"\"\"\n",
    "    Note that slices of arrays do not copy the internal array data but also produce new \n",
    "    views of the original data. It is possible to index arrays with other arrays for the\n",
    "    purposes of selecting lists of values out of arrays into new arrays. \n",
    "    There are two different ways of accomplishing this. One uses one or more arrays of index values. \n",
    "    The other involves giving a boolean array of the proper shape to indicate the values to be selected. \n",
    "    Index arrays are a very powerful tool that allow one to avoid looping over individual elements\n",
    "    in arrays and thus greatly improve performance.It is possible to use special features \n",
    "    to effectively increase the number of dimensions in an array through indexing so the resulting \n",
    "    array aquires the shape needed for use in an expression or with a specific function.\n",
    "\"\"\"\n",
    "array2 = np.arange(35).reshape(5,7)\n",
    "print('array2:\\n', array2)\n",
    "print('array2[1:5:2, ::3]:\\n', array2[1:5:2, ::3])\n",
    "print('array2[::2]\\n', array2[::2])\n",
    "print('array2:[1:5,1:2]\\n', array2[1:5,1:2])"
   ]
  },
  {
   "cell_type": "code",
   "execution_count": 21,
   "metadata": {},
   "outputs": [
    {
     "name": "stdout",
     "output_type": "stream",
     "text": [
      "array: [10  9  8  7  6  5  4  3  2]\n",
      "array[np.array([3, 3, 1, 8]):  [7 7 9 2]\n"
     ]
    },
    {
     "data": {
      "text/plain": [
       "'\\n    The index array consisting of the values 3, 3, 1 and 8 correspondingly create \\n    an array of length 4 (same as the index array) where each index is replaced by the value the index\\n    array has in the array being indexed.\\n\\n    Negative values are permitted and work as they do with single indices or slices:\\n'"
      ]
     },
     "execution_count": 21,
     "metadata": {},
     "output_type": "execute_result"
    }
   ],
   "source": [
    "\"\"\"\n",
    "INDEX ARRAY\n",
    "    NumPy arrays may be indexed with other arrays (or any other sequence- like object that can be \n",
    "    converted to an array, such as lists, with the exception of tuples; \n",
    "    see the end of this document for why this is). The use of index arrays ranges from simple, \n",
    "    straightforward cases to complex, hard-to-understand cases. For all cases of index arrays, \n",
    "    what is returned is a copy of the original data, not a view as one gets for slices.\n",
    "\n",
    "    Index arrays must be of integer type. Each value in the array indicates which value in \n",
    "    the array to use in place of the index. To illustrate:\n",
    "\"\"\"\n",
    "array = np.arange(10,1,-1)\n",
    "print('array:', array)\n",
    "second_array = np.array([3,3,1,8,])\n",
    "print('array[np.array([3, 3, 1, 8]): ',array[second_array])\n",
    "\"\"\"\n",
    "    The index array consisting of the values 3, 3, 1 and 8 correspondingly create \n",
    "    an array of length 4 (same as the index array) where each index is replaced by the value the index\n",
    "    array has in the array being indexed.\n",
    "\n",
    "    Negative values are permitted and work as they do with single indices or slices:\n",
    "\"\"\"\n"
   ]
  },
  {
   "cell_type": "code",
   "execution_count": null,
   "metadata": {
    "collapsed": true
   },
   "outputs": [],
   "source": []
  }
 ],
 "metadata": {
  "kernelspec": {
   "display_name": "Python 3",
   "language": "python",
   "name": "python3"
  },
  "language_info": {
   "codemirror_mode": {
    "name": "ipython",
    "version": 3
   },
   "file_extension": ".py",
   "mimetype": "text/x-python",
   "name": "python",
   "nbconvert_exporter": "python",
   "pygments_lexer": "ipython3",
   "version": "3.6.2"
  }
 },
 "nbformat": 4,
 "nbformat_minor": 2
}
