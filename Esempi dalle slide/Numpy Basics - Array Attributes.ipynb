{
 "cells": [
  {
   "cell_type": "code",
   "execution_count": 1,
   "metadata": {
    "collapsed": true
   },
   "outputs": [],
   "source": [
    "import numpy as np"
   ]
  },
  {
   "cell_type": "code",
   "execution_count": 2,
   "metadata": {
    "collapsed": true
   },
   "outputs": [],
   "source": [
    "\"\"\"\n",
    "numpy.random.seed\n",
    "\n",
    "    Seed the generator.\n",
    "\n",
    "    This method is called when RandomState is initialized. \n",
    "    It can be called again to re-seed the generator. For details, see RandomState.\n",
    "\n",
    "Parameters:\n",
    "    seed : int or array_like, optional\n",
    "        Seed for RandomState. Must be convertible to 32 bit unsigned integers.\n",
    "\"\"\"\n",
    "np.random.seed(0)"
   ]
  },
  {
   "cell_type": "code",
   "execution_count": 3,
   "metadata": {},
   "outputs": [
    {
     "data": {
      "text/plain": [
       "array([[[1, 9, 9, 0],\n",
       "        [4, 7, 3, 2],\n",
       "        [7, 2, 0, 0]],\n",
       "\n",
       "       [[4, 5, 5, 6],\n",
       "        [8, 4, 1, 4],\n",
       "        [9, 8, 1, 1]],\n",
       "\n",
       "       [[7, 9, 9, 3],\n",
       "        [6, 7, 2, 0],\n",
       "        [3, 5, 9, 4]]])"
      ]
     },
     "execution_count": 3,
     "metadata": {},
     "output_type": "execute_result"
    }
   ],
   "source": [
    "\"\"\"\n",
    "    Return random integers from low (inclusive) to high (exclusive).\n",
    "\n",
    "    Return random integers from the “discrete uniform” distribution \n",
    "    of the specified dtype in the “half-open” interval [low, high). \n",
    "    If high is None (the default), then results are from [0, low).\n",
    "\n",
    "Parameters:\n",
    "    low : int\n",
    "        Lowest (signed) integer to be drawn from the distribution \n",
    "        (unless high=None, in which case this parameter is one above the highest such integer).\n",
    "    high : int, optional\n",
    "        If provided, one above the largest (signed) integer to be drawn from the distribution \n",
    "        (see above for behavior if high=None).\n",
    "    size : int or tuple of ints, optional\n",
    "        Output shape. If the given shape is, e.g., (m, n, k), then m * n * k samples are drawn. \n",
    "        Default is None, in which case a single value is returned.\n",
    "    dtype : dtype, optional\n",
    "        Desired dtype of the result. All dtypes are determined by their name, i.e., \n",
    "        ‘int64’, ‘int’, etc, so byteorder is not available and a specific precision may have \n",
    "        different C types depending on the platform. The default value is ‘np.int’.\n",
    "        New in version 1.11.0.\n",
    "Returns:\n",
    "    out : int or ndarray of ints\n",
    "        size-shaped array of random integers from the appropriate distribution, \n",
    "        or a single such random int if size not provided.\n",
    "\"\"\"\n",
    "array_random = np.random.randint(low=5, size=20)\n",
    "array_random\n",
    "array_random2 = np.random.randint(low=10, high=20,size=14)\n",
    "array_random2\n",
    "matrix_random = np.random.randint(low=3, high=4, size=(10,10))\n",
    "matrix_random\n",
    "x3 = np.random.randint(low=10, size=(3,3,4))\n",
    "x3"
   ]
  },
  {
   "cell_type": "code",
   "execution_count": 4,
   "metadata": {},
   "outputs": [
    {
     "name": "stdout",
     "output_type": "stream",
     "text": [
      "x3 ndim: 3\n",
      "x3 shape: (3, 3, 4)\n",
      "x3 size: 36\n",
      "x3 dtype: int64\n",
      "x3 itemsize: 8\n",
      "x3 nbytes: 288\n"
     ]
    }
   ],
   "source": [
    "\"\"\"\n",
    "Array Attributes\n",
    "    Array attributes reflect information that is intrinsic to the array itself. \n",
    "    Generally, accessing an array through its attributes allows you to get and sometimes \n",
    "    set intrinsic properties of the array without creating a new array. The exposed attributes \n",
    "    are the core parts of an array and only some of them can be reset meaningfully without creating \n",
    "    a new array. Information on each attribute is given below.\n",
    "\n",
    "    ndarray.flags: Information about the memory layout of the array.\n",
    "    ndarray.shape: Tuple of array dimensions.\n",
    "    ndarray.strides: Tuple of bytes to step in each dimension when traversing an array.\n",
    "    ndarray.ndim: Number of array dimensions.\n",
    "    ndarray.data: Python buffer object pointing to the start of the array’s data.\n",
    "    ndarray.size: Number of elements in the array.\n",
    "    ndarray.itemsize: Length of one array element in bytes.\n",
    "    ndarray.nbytes: Total bytes consumed by the elements of the array.\n",
    "    ndarray.base: Base object if memory is from some other object.\n",
    "    \n",
    "More information: https://docs.scipy.org/doc/numpy-1.13.0/reference/arrays.ndarray.html\n",
    "\"\"\"\n",
    "print('x3 ndim:', x3.ndim) #Il numero di dimensioni\n",
    "print('x3 shape:', x3.shape) #Lo spazio di ogni dimensione\n",
    "print('x3 size:', x3.size) # Il numero di elementi\n",
    "print('x3 dtype:', x3.dtype) # Il tipo degli elementi contenuti\n",
    "print('x3 itemsize:', x3.itemsize) #\n",
    "print('x3 nbytes:', x3.nbytes) #Lo spazio che occupa"
   ]
  }
 ],
 "metadata": {
  "kernelspec": {
   "display_name": "Python 3",
   "language": "python",
   "name": "python3"
  },
  "language_info": {
   "codemirror_mode": {
    "name": "ipython",
    "version": 3
   },
   "file_extension": ".py",
   "mimetype": "text/x-python",
   "name": "python",
   "nbconvert_exporter": "python",
   "pygments_lexer": "ipython3",
   "version": "3.6.2"
  }
 },
 "nbformat": 4,
 "nbformat_minor": 2
}
