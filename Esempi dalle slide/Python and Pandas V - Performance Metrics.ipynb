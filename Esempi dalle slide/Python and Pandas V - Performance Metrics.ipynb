{
 "cells": [
  {
   "cell_type": "code",
   "execution_count": 5,
   "metadata": {
    "collapsed": true
   },
   "outputs": [],
   "source": [
    "import pandas as pd\n",
    "from sklearn.linear_model import LogisticRegression\n",
    "from sklearn.model_selection import train_test_split\n",
    "from sklearn.cross_validation import cross_val_score\n",
    "\n",
    "dataset = pd.read_csv('datasets/wine.data', header=None)\n",
    "array = dataset.values\n",
    "X = array[:, 1:]\n",
    "Y = array[:, 0]\n",
    "\n",
    "#Split data\n",
    "X_train, X_test, y_train, y_test = train_test_split(X,Y, test_size=0.25)\n",
    "#Model\n",
    "model = LogisticRegression()"
   ]
  },
  {
   "cell_type": "code",
   "execution_count": 6,
   "metadata": {},
   "outputs": [
    {
     "name": "stdout",
     "output_type": "stream",
     "text": [
      "Accuracy: 0.944 (0.061)\n"
     ]
    }
   ],
   "source": [
    "\"\"\"\n",
    "class sklearn.model_selection.KFold(n_splits=3, shuffle=False, random_state=None)\n",
    "    K-Folds cross-validator\n",
    "\n",
    "    Provides train/test indices to split data in train/test sets. Split dataset into k consecutive \n",
    "    folds (without shuffling by default).\n",
    "\n",
    "    Each fold is then used once as a validation while the k - 1 remaining folds form the training set.\n",
    "    \n",
    "    Read more in the User Guide.\n",
    "\n",
    "Parameters:\n",
    "    - n_splits : int, default=3\n",
    "        Number of folds. Must be at least 2.\n",
    "    - shuffle : boolean, optional\n",
    "        Whether to shuffle the data before splitting into batches.\n",
    "    - random_state : int, RandomState instance or None, optional, default=None\n",
    "        If int, random_state is the seed used by the random number generator; If RandomState instance, \n",
    "        random_state is the random number generator; If None, the random number generator is the \n",
    "        RandomState instance used by np.random. Used when shuffle == True.\n",
    "\"\"\"\n",
    "from sklearn.model_selection import KFold\n",
    "num_folds = 10\n",
    "num_instances = len(X)\n",
    "seed = 7\n",
    "k_fold = KFold(num_folds, random_state=seed)\n",
    "scoring = 'accuracy'\n",
    "result = cross_val_score(model, X, Y, cv = k_fold.split(X), scoring=scoring)\n",
    "print('Accuracy: {:0.3f} ({:0.3f})'.format(result.mean(), result.std()))"
   ]
  },
  {
   "cell_type": "code",
   "execution_count": 8,
   "metadata": {},
   "outputs": [
    {
     "name": "stdout",
     "output_type": "stream",
     "text": [
      "[[15  1  0]\n",
      " [ 0 18  0]\n",
      " [ 0  0 11]]\n"
     ]
    }
   ],
   "source": [
    "\"\"\"\n",
    "CONFUSION MATRIX \n",
    "\n",
    "sklearn.metrics.confusion_matrix(y_true, y_pred, labels=None, sample_weight=None)\n",
    "    \n",
    "    Compute confusion matrix to evaluate the accuracy of a classification\n",
    "\n",
    "    By definition a confusion matrix C is such that C_{i, j} is equal to the number of observations known \n",
    "    to be in group i but predicted to be in group j.\n",
    "\n",
    "    Thus in binary classification, the count of true negatives is C_{0,0}, false negatives is C_{1,0}, \n",
    "    true positives is C_{1,1} and false positives is C_{0,1}.\n",
    "\n",
    "    Read more in the User Guide.\n",
    "Parameters:\n",
    "    - y_true : array, shape = [n_samples]\n",
    "        Ground truth (correct) target values.\n",
    "    - y_pred : array, shape = [n_samples]\n",
    "        Estimated targets as returned by a classifier.\n",
    "    - labels : array, shape = [n_classes], optional\n",
    "        List of labels to index the matrix. This may be used to reorder or select a subset of labels.\n",
    "        If none is given, those that appear at least once in y_true or y_pred are used in sorted order.\n",
    "    - sample_weight : array-like of shape = [n_samples], optional\n",
    "        Sample weights.\n",
    "Returns:\n",
    "    - C : array, shape = [n_classes, n_classes]\n",
    "        Confusion matrix\n",
    "\"\"\"\n",
    "from sklearn.metrics import confusion_matrix\n",
    "model.fit(X_train, y_train)\n",
    "y_pred = model.predict(X_test)\n",
    "matrix = confusion_matrix(y_test, y_pred)\n",
    "print(matrix)"
   ]
  },
  {
   "cell_type": "code",
   "execution_count": 10,
   "metadata": {},
   "outputs": [
    {
     "name": "stdout",
     "output_type": "stream",
     "text": [
      "             precision    recall  f1-score   support\n",
      "\n",
      "        1.0       1.00      0.94      0.97        16\n",
      "        2.0       0.95      1.00      0.97        18\n",
      "        3.0       1.00      1.00      1.00        11\n",
      "\n",
      "avg / total       0.98      0.98      0.98        45\n",
      "\n"
     ]
    }
   ],
   "source": [
    "\"\"\"\n",
    "CLASSIFICATION REPORT\n",
    "\n",
    "sklearn.metrics.classification_report(y_true, y_pred, labels=None, target_names=None, \n",
    "                                    sample_weight=None, digits=2)\n",
    "    \n",
    "    Build a text report showing the main classification metrics\n",
    "    \n",
    "    Read more in the User Guide.\n",
    "\n",
    "Parameters:\n",
    "    - y_true : 1d array-like, or label indicator array / sparse matrix\n",
    "       Ground truth (correct) target values.\n",
    "    - y_pred : 1d array-like, or label indicator array / sparse matrix\n",
    "        Estimated targets as returned by a classifier.\n",
    "    - labels : array, shape = [n_labels]\n",
    "        Optional list of label indices to include in the report.\n",
    "    - target_names : list of strings\n",
    "        Optional display names matching the labels (same order).\n",
    "    - sample_weight : array-like of shape = [n_samples], optional\n",
    "        Sample weights.\n",
    "    - digits : int\n",
    "        Number of digits for formatting output floating point values\n",
    "Returns:\n",
    "    - report : string\n",
    "        Text summary of the precision, recall, F1 score for each class.\n",
    "    \n",
    "        The reported averages are a prevalence-weighted macro-average across classes (equivalent to \n",
    "        precision_recall_fscore_support with average='weighted').\n",
    "    \n",
    "        Note that in binary classification, recall of the positive class is also known as “sensitivity”; \n",
    "        recall of the negative class is “specificity”.\n",
    "\"\"\"\n",
    "from sklearn.metrics import classification_report\n",
    "report = classification_report(y_test, y_pred)\n",
    "print(report)"
   ]
  }
 ],
 "metadata": {
  "kernelspec": {
   "display_name": "Python 3",
   "language": "python",
   "name": "python3"
  },
  "language_info": {
   "codemirror_mode": {
    "name": "ipython",
    "version": 3
   },
   "file_extension": ".py",
   "mimetype": "text/x-python",
   "name": "python",
   "nbconvert_exporter": "python",
   "pygments_lexer": "ipython3",
   "version": "3.6.2"
  }
 },
 "nbformat": 4,
 "nbformat_minor": 2
}
