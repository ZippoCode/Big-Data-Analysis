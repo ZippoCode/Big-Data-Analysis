{
 "cells": [
  {
   "cell_type": "markdown",
   "metadata": {},
   "source": [
    "## Aggregating and Grouping Data"
   ]
  },
  {
   "cell_type": "code",
   "execution_count": 1,
   "metadata": {},
   "outputs": [
    {
     "data": {
      "text/html": [
       "<div>\n",
       "<style>\n",
       "    .dataframe thead tr:only-child th {\n",
       "        text-align: right;\n",
       "    }\n",
       "\n",
       "    .dataframe thead th {\n",
       "        text-align: left;\n",
       "    }\n",
       "\n",
       "    .dataframe tbody tr th {\n",
       "        vertical-align: top;\n",
       "    }\n",
       "</style>\n",
       "<table border=\"1\" class=\"dataframe\">\n",
       "  <thead>\n",
       "    <tr style=\"text-align: right;\">\n",
       "      <th></th>\n",
       "      <th>Unnamed: 0</th>\n",
       "      <th>serious_dlqin2yrs</th>\n",
       "      <th>revolving_utilization_of_unsecured_lines</th>\n",
       "      <th>age</th>\n",
       "      <th>number_of_time30-59_days_past_due_not_worse</th>\n",
       "      <th>debt_ratio</th>\n",
       "      <th>monthly_income</th>\n",
       "      <th>number_of_open_credit_lines_and_loans</th>\n",
       "      <th>number_of_times90_days_late</th>\n",
       "      <th>number_real_estate_loans_or_lines</th>\n",
       "      <th>number_of_time60-89_days_past_due_not_worse</th>\n",
       "      <th>number_of_dependents</th>\n",
       "    </tr>\n",
       "  </thead>\n",
       "  <tbody>\n",
       "    <tr>\n",
       "      <th>0</th>\n",
       "      <td>0</td>\n",
       "      <td>1</td>\n",
       "      <td>0.766127</td>\n",
       "      <td>45</td>\n",
       "      <td>2</td>\n",
       "      <td>0.802982</td>\n",
       "      <td>9120.0</td>\n",
       "      <td>13</td>\n",
       "      <td>0</td>\n",
       "      <td>6</td>\n",
       "      <td>0</td>\n",
       "      <td>2.0</td>\n",
       "    </tr>\n",
       "    <tr>\n",
       "      <th>1</th>\n",
       "      <td>1</td>\n",
       "      <td>0</td>\n",
       "      <td>0.957151</td>\n",
       "      <td>40</td>\n",
       "      <td>0</td>\n",
       "      <td>0.121876</td>\n",
       "      <td>2600.0</td>\n",
       "      <td>4</td>\n",
       "      <td>0</td>\n",
       "      <td>0</td>\n",
       "      <td>0</td>\n",
       "      <td>1.0</td>\n",
       "    </tr>\n",
       "    <tr>\n",
       "      <th>2</th>\n",
       "      <td>2</td>\n",
       "      <td>0</td>\n",
       "      <td>0.658180</td>\n",
       "      <td>38</td>\n",
       "      <td>1</td>\n",
       "      <td>0.085113</td>\n",
       "      <td>3042.0</td>\n",
       "      <td>2</td>\n",
       "      <td>1</td>\n",
       "      <td>0</td>\n",
       "      <td>0</td>\n",
       "      <td>0.0</td>\n",
       "    </tr>\n",
       "    <tr>\n",
       "      <th>3</th>\n",
       "      <td>3</td>\n",
       "      <td>0</td>\n",
       "      <td>0.233810</td>\n",
       "      <td>30</td>\n",
       "      <td>0</td>\n",
       "      <td>0.036050</td>\n",
       "      <td>3300.0</td>\n",
       "      <td>5</td>\n",
       "      <td>0</td>\n",
       "      <td>0</td>\n",
       "      <td>0</td>\n",
       "      <td>0.0</td>\n",
       "    </tr>\n",
       "    <tr>\n",
       "      <th>4</th>\n",
       "      <td>4</td>\n",
       "      <td>0</td>\n",
       "      <td>0.907239</td>\n",
       "      <td>49</td>\n",
       "      <td>1</td>\n",
       "      <td>0.024926</td>\n",
       "      <td>63588.0</td>\n",
       "      <td>7</td>\n",
       "      <td>0</td>\n",
       "      <td>1</td>\n",
       "      <td>0</td>\n",
       "      <td>0.0</td>\n",
       "    </tr>\n",
       "  </tbody>\n",
       "</table>\n",
       "</div>"
      ],
      "text/plain": [
       "   Unnamed: 0  serious_dlqin2yrs  revolving_utilization_of_unsecured_lines  \\\n",
       "0           0                  1                                  0.766127   \n",
       "1           1                  0                                  0.957151   \n",
       "2           2                  0                                  0.658180   \n",
       "3           3                  0                                  0.233810   \n",
       "4           4                  0                                  0.907239   \n",
       "\n",
       "   age  number_of_time30-59_days_past_due_not_worse  debt_ratio  \\\n",
       "0   45                                            2    0.802982   \n",
       "1   40                                            0    0.121876   \n",
       "2   38                                            1    0.085113   \n",
       "3   30                                            0    0.036050   \n",
       "4   49                                            1    0.024926   \n",
       "\n",
       "   monthly_income  number_of_open_credit_lines_and_loans  \\\n",
       "0          9120.0                                     13   \n",
       "1          2600.0                                      4   \n",
       "2          3042.0                                      2   \n",
       "3          3300.0                                      5   \n",
       "4         63588.0                                      7   \n",
       "\n",
       "   number_of_times90_days_late  number_real_estate_loans_or_lines  \\\n",
       "0                            0                                  6   \n",
       "1                            0                                  0   \n",
       "2                            1                                  0   \n",
       "3                            0                                  0   \n",
       "4                            0                                  1   \n",
       "\n",
       "   number_of_time60-89_days_past_due_not_worse  number_of_dependents  \n",
       "0                                            0                   2.0  \n",
       "1                                            0                   1.0  \n",
       "2                                            0                   0.0  \n",
       "3                                            0                   0.0  \n",
       "4                                            0                   0.0  "
      ]
     },
     "execution_count": 1,
     "metadata": {},
     "output_type": "execute_result"
    }
   ],
   "source": [
    "import pandas as pd\n",
    "import numpy as np\n",
    "\n",
    "dataset = pd.read_csv('datasets/Credit_Data.cvs', sep = ';')\n",
    "dataset.head()"
   ]
  },
  {
   "cell_type": "markdown",
   "metadata": {},
   "source": [
    "### Apply"
   ]
  },
  {
   "cell_type": "code",
   "execution_count": 2,
   "metadata": {},
   "outputs": [
    {
     "data": {
      "text/plain": [
       "0     9.118225\n",
       "1     7.863267\n",
       "2     8.020270\n",
       "3     8.101678\n",
       "4    11.060180\n",
       "Name: monthly_income, dtype: float64"
      ]
     },
     "execution_count": 2,
     "metadata": {},
     "output_type": "execute_result"
    }
   ],
   "source": [
    "\"\"\"\n",
    "\"Applies\" or operates on a column in your data frame with a given function. \n",
    "This is analagous to an Excel formula.\n",
    "\"\"\"\n",
    "dataset.monthly_income.apply(np.log).head()"
   ]
  },
  {
   "cell_type": "markdown",
   "metadata": {},
   "source": [
    "### Apply with lambda functions"
   ]
  },
  {
   "cell_type": "code",
   "execution_count": 3,
   "metadata": {},
   "outputs": [
    {
     "name": "stdout",
     "output_type": "stream",
     "text": [
      "19\n",
      "30\n"
     ]
    }
   ],
   "source": [
    "\"\"\"\n",
    "A lambda function, or anonymous function, is a shorthand way to define a quick function that you need once.\n",
    "\"\"\"\n",
    "add_10 = lambda x : x + 10\n",
    "plus = lambda x, y : x + y\n",
    "\n",
    "print(add_10(9))\n",
    "print(plus(10, 20))"
   ]
  },
  {
   "cell_type": "code",
   "execution_count": 4,
   "metadata": {},
   "outputs": [
    {
     "data": {
      "text/plain": [
       "0     9.118335\n",
       "1     7.863651\n",
       "2     8.020599\n",
       "3     8.101981\n",
       "4    11.060196\n",
       "Name: monthly_income, dtype: float64"
      ]
     },
     "execution_count": 4,
     "metadata": {},
     "output_type": "execute_result"
    }
   ],
   "source": [
    "dataset.monthly_income.apply(lambda x : np.log(x + 1)).head()"
   ]
  },
  {
   "cell_type": "markdown",
   "metadata": {},
   "source": [
    "### Using custom functions"
   ]
  },
  {
   "cell_type": "code",
   "execution_count": 5,
   "metadata": {},
   "outputs": [
    {
     "data": {
      "text/plain": [
       "0    0.000110\n",
       "1    0.000384\n",
       "2    0.000329\n",
       "3    0.000303\n",
       "4    0.000016\n",
       "Name: monthly_income, dtype: float64"
      ]
     },
     "execution_count": 5,
     "metadata": {},
     "output_type": "execute_result"
    }
   ],
   "source": [
    "\"\"\"\n",
    "If you can't do it in a one-liner lambda function don't worry. pandas also let's apply your own custom functions. You can use custom functions when applying on Series and also when operating on chunks of data frames in groupbys.\n",
    "\"\"\"\n",
    "def inverse(x):\n",
    "    return 1 / (x + 1)\n",
    "\n",
    "dataset.monthly_income.apply(inverse).head()"
   ]
  },
  {
   "cell_type": "markdown",
   "metadata": {},
   "source": [
    "#### Exercise"
   ]
  },
  {
   "cell_type": "code",
   "execution_count": 6,
   "metadata": {},
   "outputs": [
    {
     "name": "stdout",
     "output_type": "stream",
     "text": [
      "True\n",
      "True\n",
      "1.2869633745276574\n"
     ]
    }
   ],
   "source": [
    "\"\"\"\n",
    "Write a custom function called cap_value(x, cap) that will set x to the cap if x > cap. Then apply it to \n",
    "debt_ratio with a cap of 5.\n",
    "\"\"\"\n",
    "\n",
    "def cap_value(x, cap):\n",
    "    if x > cap:\n",
    "        return cap\n",
    "    return x\n",
    "\n",
    "print(cap_value(1000, 10) == 10)\n",
    "print(cap_value(10, 100) == 10)\n",
    "print(dataset.debt_ratio.apply(lambda x : cap_value(x, 5.0)).mean())"
   ]
  },
  {
   "cell_type": "markdown",
   "metadata": {},
   "source": [
    "## Splot -> Apply -> Combine"
   ]
  },
  {
   "cell_type": "code",
   "execution_count": 7,
   "metadata": {},
   "outputs": [
    {
     "name": "stdout",
     "output_type": "stream",
     "text": [
      "\n"
     ]
    }
   ],
   "source": [
    "\"\"\"\n",
    "Split, Apply, Combine is a data munging methodology similar in spirit to SQL's GROUP BY. The idea being you \n",
    "split your data into chunks, operate on those chunks, and then combine the results together into a single table. \n",
    "groupby in pandas works exactly the same way. But since we're using Python and not SQL, we have a lot more \n",
    "flexibility in terms of the types of operations we can perform in the apply step.\n",
    "\n",
    "From the pandas documentation:\n",
    "    - Splitting the data into groups based on some criteria\n",
    "    - Applying a function to each group independently\n",
    "    - Combining the results into a data structure\n",
    "\"\"\"\n",
    "print('')"
   ]
  },
  {
   "cell_type": "markdown",
   "metadata": {},
   "source": [
    "### groupby (Split)"
   ]
  },
  {
   "cell_type": "code",
   "execution_count": 8,
   "metadata": {},
   "outputs": [
    {
     "data": {
      "text/plain": [
       "<pandas.core.groupby.DataFrameGroupBy object at 0x7f00495a1518>"
      ]
     },
     "execution_count": 8,
     "metadata": {},
     "output_type": "execute_result"
    }
   ],
   "source": [
    "\"\"\"\n",
    "groupby splits a DataFrame into chunks. This is is analogous to, you guessed it, GROUP BY in SQL or Rows in an \n",
    "Excel pivot table.\n",
    "\n",
    "In the example below, we'll split the dataset into chunks based on the serious_dlqin2yrs field.\n",
    "\"\"\"\n",
    "subnet = dataset[['serious_dlqin2yrs', 'age', 'monthly_income']]\n",
    "subnet.groupby('serious_dlqin2yrs')"
   ]
  },
  {
   "cell_type": "markdown",
   "metadata": {},
   "source": [
    "### Apply / Combine"
   ]
  },
  {
   "cell_type": "code",
   "execution_count": 9,
   "metadata": {},
   "outputs": [
    {
     "data": {
      "text/html": [
       "<div>\n",
       "<style>\n",
       "    .dataframe thead tr:only-child th {\n",
       "        text-align: right;\n",
       "    }\n",
       "\n",
       "    .dataframe thead th {\n",
       "        text-align: left;\n",
       "    }\n",
       "\n",
       "    .dataframe tbody tr th {\n",
       "        vertical-align: top;\n",
       "    }\n",
       "</style>\n",
       "<table border=\"1\" class=\"dataframe\">\n",
       "  <thead>\n",
       "    <tr style=\"text-align: right;\">\n",
       "      <th></th>\n",
       "      <th>age</th>\n",
       "      <th>monthly_income</th>\n",
       "    </tr>\n",
       "    <tr>\n",
       "      <th>serious_dlqin2yrs</th>\n",
       "      <th></th>\n",
       "      <th></th>\n",
       "    </tr>\n",
       "  </thead>\n",
       "  <tbody>\n",
       "    <tr>\n",
       "      <th>0</th>\n",
       "      <td>52.751375</td>\n",
       "      <td>5473.758555</td>\n",
       "    </tr>\n",
       "    <tr>\n",
       "      <th>1</th>\n",
       "      <td>45.926591</td>\n",
       "      <td>4746.613006</td>\n",
       "    </tr>\n",
       "  </tbody>\n",
       "</table>\n",
       "</div>"
      ],
      "text/plain": [
       "                         age  monthly_income\n",
       "serious_dlqin2yrs                           \n",
       "0                  52.751375     5473.758555\n",
       "1                  45.926591     4746.613006"
      ]
     },
     "execution_count": 9,
     "metadata": {},
     "output_type": "execute_result"
    }
   ],
   "source": [
    "\"\"\"\n",
    "Once you've grouped your dataset, you can apply different functions on each group to make calculations, \n",
    "generate summary statistics, etc. This is done the same way as a \"regular\" apply as seen above. The reuslts \n",
    "are automatically aggregated and combined back into a DataFrame.\n",
    "\"\"\"\n",
    "# split the dataset into groups based on the serious_dlqin2yrs field, then calculate the mean for \n",
    "# each of the remaining columns\n",
    "subnet.groupby('serious_dlqin2yrs').mean()"
   ]
  },
  {
   "cell_type": "markdown",
   "metadata": {},
   "source": [
    "### Under the hood"
   ]
  },
  {
   "cell_type": "code",
   "execution_count": 10,
   "metadata": {},
   "outputs": [
    {
     "name": "stdout",
     "output_type": "stream",
     "text": [
      "Splitting by  0\n",
      "serious_dlqin2yrs       0.000000\n",
      "age                    52.751375\n",
      "monthly_income       5473.758555\n",
      "dtype: float64\n",
      "********************************************************************************\n",
      "Splitting by  1\n",
      "serious_dlqin2yrs       1.000000\n",
      "age                    45.926591\n",
      "monthly_income       4746.613006\n",
      "dtype: float64\n",
      "********************************************************************************\n"
     ]
    }
   ],
   "source": [
    "\"\"\"\n",
    "What's really going on here? You can see below that when you groupby a certain variable(s), you're \n",
    "literally splitting the data into chunks based on each possible value of that variable.\n",
    "\"\"\"\n",
    "for name, group in subnet.groupby('serious_dlqin2yrs'):\n",
    "    print('Splitting by ', name)\n",
    "    print(group.mean())\n",
    "    print('*' * 80)"
   ]
  },
  {
   "cell_type": "markdown",
   "metadata": {},
   "source": [
    "### agg - Complex Aggregations"
   ]
  },
  {
   "cell_type": "code",
   "execution_count": 11,
   "metadata": {},
   "outputs": [
    {
     "data": {
      "text/html": [
       "<div>\n",
       "<style>\n",
       "    .dataframe thead tr:only-child th {\n",
       "        text-align: right;\n",
       "    }\n",
       "\n",
       "    .dataframe thead th {\n",
       "        text-align: left;\n",
       "    }\n",
       "\n",
       "    .dataframe tbody tr th {\n",
       "        vertical-align: top;\n",
       "    }\n",
       "</style>\n",
       "<table border=\"1\" class=\"dataframe\">\n",
       "  <thead>\n",
       "    <tr>\n",
       "      <th></th>\n",
       "      <th colspan=\"4\" halign=\"left\">age</th>\n",
       "      <th colspan=\"4\" halign=\"left\">monthly_income</th>\n",
       "    </tr>\n",
       "    <tr>\n",
       "      <th></th>\n",
       "      <th>amin</th>\n",
       "      <th>mean</th>\n",
       "      <th>median</th>\n",
       "      <th>amax</th>\n",
       "      <th>amin</th>\n",
       "      <th>mean</th>\n",
       "      <th>median</th>\n",
       "      <th>amax</th>\n",
       "    </tr>\n",
       "    <tr>\n",
       "      <th>serious_dlqin2yrs</th>\n",
       "      <th></th>\n",
       "      <th></th>\n",
       "      <th></th>\n",
       "      <th></th>\n",
       "      <th></th>\n",
       "      <th></th>\n",
       "      <th></th>\n",
       "      <th></th>\n",
       "    </tr>\n",
       "  </thead>\n",
       "  <tbody>\n",
       "    <tr>\n",
       "      <th>0</th>\n",
       "      <td>0</td>\n",
       "      <td>52.751375</td>\n",
       "      <td>52</td>\n",
       "      <td>109</td>\n",
       "      <td>0.0</td>\n",
       "      <td>5473.758555</td>\n",
       "      <td>4500.0</td>\n",
       "      <td>3008750.0</td>\n",
       "    </tr>\n",
       "    <tr>\n",
       "      <th>1</th>\n",
       "      <td>21</td>\n",
       "      <td>45.926591</td>\n",
       "      <td>45</td>\n",
       "      <td>101</td>\n",
       "      <td>0.0</td>\n",
       "      <td>4746.613006</td>\n",
       "      <td>3905.5</td>\n",
       "      <td>250000.0</td>\n",
       "    </tr>\n",
       "  </tbody>\n",
       "</table>\n",
       "</div>"
      ],
      "text/plain": [
       "                   age                        monthly_income               \\\n",
       "                  amin       mean median amax           amin         mean   \n",
       "serious_dlqin2yrs                                                           \n",
       "0                    0  52.751375     52  109            0.0  5473.758555   \n",
       "1                   21  45.926591     45  101            0.0  4746.613006   \n",
       "\n",
       "                                      \n",
       "                   median       amax  \n",
       "serious_dlqin2yrs                     \n",
       "0                  4500.0  3008750.0  \n",
       "1                  3905.5   250000.0  "
      ]
     },
     "execution_count": 11,
     "metadata": {},
     "output_type": "execute_result"
    }
   ],
   "source": [
    "\"\"\"\n",
    "You can aggregate by multiple functions using the agg method. Simple pass in a list of the functions you'd \n",
    "like to apply to your dataset.\n",
    "\"\"\"\n",
    "functions = [np.min, np.mean, np.median, np.max]\n",
    "subnet.groupby(subnet.serious_dlqin2yrs).agg(functions)"
   ]
  },
  {
   "cell_type": "markdown",
   "metadata": {},
   "source": [
    "### grouping with custom apply functions"
   ]
  },
  {
   "cell_type": "code",
   "execution_count": 12,
   "metadata": {},
   "outputs": [
    {
     "data": {
      "text/plain": [
       "serious_dlqin2yrs\n",
       "0    289683.488005\n",
       "1    225787.627568\n",
       "dtype: float64"
      ]
     },
     "execution_count": 12,
     "metadata": {},
     "output_type": "execute_result"
    }
   ],
   "source": [
    "\"\"\"\n",
    "Just as you can apply custom functions to a column in your data frame, you can do the same with groups.\n",
    "\"\"\"\n",
    "def age_x_income(frame):\n",
    "    x = (frame.age * frame.monthly_income)\n",
    "    return np.mean(x)\n",
    "\n",
    "subnet.groupby('serious_dlqin2yrs').apply(age_x_income)"
   ]
  },
  {
   "cell_type": "markdown",
   "metadata": {},
   "source": [
    "### Merging and Joining"
   ]
  },
  {
   "cell_type": "code",
   "execution_count": 13,
   "metadata": {},
   "outputs": [
    {
     "data": {
      "text/html": [
       "<div>\n",
       "<style>\n",
       "    .dataframe thead tr:only-child th {\n",
       "        text-align: right;\n",
       "    }\n",
       "\n",
       "    .dataframe thead th {\n",
       "        text-align: left;\n",
       "    }\n",
       "\n",
       "    .dataframe tbody tr th {\n",
       "        vertical-align: top;\n",
       "    }\n",
       "</style>\n",
       "<table border=\"1\" class=\"dataframe\">\n",
       "  <thead>\n",
       "    <tr style=\"text-align: right;\">\n",
       "      <th></th>\n",
       "      <th>age</th>\n",
       "      <th>est_pop</th>\n",
       "    </tr>\n",
       "  </thead>\n",
       "  <tbody>\n",
       "    <tr>\n",
       "      <th>0</th>\n",
       "      <td>10</td>\n",
       "      <td>20055.346939</td>\n",
       "    </tr>\n",
       "    <tr>\n",
       "      <th>1</th>\n",
       "      <td>11</td>\n",
       "      <td>20073.020408</td>\n",
       "    </tr>\n",
       "    <tr>\n",
       "      <th>2</th>\n",
       "      <td>12</td>\n",
       "      <td>20090.693878</td>\n",
       "    </tr>\n",
       "    <tr>\n",
       "      <th>3</th>\n",
       "      <td>13</td>\n",
       "      <td>20108.367347</td>\n",
       "    </tr>\n",
       "    <tr>\n",
       "      <th>4</th>\n",
       "      <td>14</td>\n",
       "      <td>20139.081633</td>\n",
       "    </tr>\n",
       "  </tbody>\n",
       "</table>\n",
       "</div>"
      ],
      "text/plain": [
       "   age       est_pop\n",
       "0   10  20055.346939\n",
       "1   11  20073.020408\n",
       "2   12  20090.693878\n",
       "3   13  20108.367347\n",
       "4   14  20139.081633"
      ]
     },
     "execution_count": 13,
     "metadata": {},
     "output_type": "execute_result"
    }
   ],
   "source": [
    "\"\"\"\n",
    "As in SQL, sometimes you need to join (or merge) certains datasets together. A good example might be some \n",
    "census demographic data that would be a helpful addition to our original dataset.\n",
    "\"\"\"\n",
    "pop = pd.read_csv('datasets/uspop.csv')\n",
    "pop.head()"
   ]
  },
  {
   "cell_type": "markdown",
   "metadata": {},
   "source": [
    "### Duplicates\n"
   ]
  },
  {
   "cell_type": "code",
   "execution_count": 14,
   "metadata": {},
   "outputs": [
    {
     "data": {
      "text/plain": [
       "29    2\n",
       "59    2\n",
       "36    1\n",
       "30    1\n",
       "31    1\n",
       "Name: age, dtype: int64"
      ]
     },
     "execution_count": 14,
     "metadata": {},
     "output_type": "execute_result"
    }
   ],
   "source": [
    "\"\"\"\n",
    "Be careful of joining datasets that contain duplicate values. It can lead to compounding error! pandas has a\n",
    "handy duplicated() method that you can use to ensure uniqueness among your data.\n",
    "\"\"\"\n",
    "pop.age.value_counts().head()"
   ]
  },
  {
   "cell_type": "code",
   "execution_count": 15,
   "metadata": {},
   "outputs": [
    {
     "data": {
      "text/plain": [
       "85    1\n",
       "37    1\n",
       "30    1\n",
       "31    1\n",
       "32    1\n",
       "Name: age, dtype: int64"
      ]
     },
     "execution_count": 15,
     "metadata": {},
     "output_type": "execute_result"
    }
   ],
   "source": [
    "pop = pop[pop.age.duplicated() == False]\n",
    "pop.age.value_counts().head()"
   ]
  },
  {
   "cell_type": "markdown",
   "metadata": {},
   "source": [
    "### Merge"
   ]
  },
  {
   "cell_type": "code",
   "execution_count": 17,
   "metadata": {},
   "outputs": [
    {
     "data": {
      "text/html": [
       "<div>\n",
       "<style>\n",
       "    .dataframe thead tr:only-child th {\n",
       "        text-align: right;\n",
       "    }\n",
       "\n",
       "    .dataframe thead th {\n",
       "        text-align: left;\n",
       "    }\n",
       "\n",
       "    .dataframe tbody tr th {\n",
       "        vertical-align: top;\n",
       "    }\n",
       "</style>\n",
       "<table border=\"1\" class=\"dataframe\">\n",
       "  <thead>\n",
       "    <tr style=\"text-align: right;\">\n",
       "      <th></th>\n",
       "      <th>age</th>\n",
       "      <th>monthly_income</th>\n",
       "      <th>serious_dlqin2yrs</th>\n",
       "      <th>est_pop</th>\n",
       "    </tr>\n",
       "  </thead>\n",
       "  <tbody>\n",
       "    <tr>\n",
       "      <th>0</th>\n",
       "      <td>45</td>\n",
       "      <td>9120.0</td>\n",
       "      <td>1</td>\n",
       "      <td>21988.020408</td>\n",
       "    </tr>\n",
       "    <tr>\n",
       "      <th>1</th>\n",
       "      <td>40</td>\n",
       "      <td>2600.0</td>\n",
       "      <td>0</td>\n",
       "      <td>20644.224490</td>\n",
       "    </tr>\n",
       "    <tr>\n",
       "      <th>2</th>\n",
       "      <td>38</td>\n",
       "      <td>3042.0</td>\n",
       "      <td>0</td>\n",
       "      <td>19390.918367</td>\n",
       "    </tr>\n",
       "    <tr>\n",
       "      <th>3</th>\n",
       "      <td>30</td>\n",
       "      <td>3300.0</td>\n",
       "      <td>0</td>\n",
       "      <td>20163.346939</td>\n",
       "    </tr>\n",
       "    <tr>\n",
       "      <th>4</th>\n",
       "      <td>49</td>\n",
       "      <td>63588.0</td>\n",
       "      <td>0</td>\n",
       "      <td>21936.857143</td>\n",
       "    </tr>\n",
       "  </tbody>\n",
       "</table>\n",
       "</div>"
      ],
      "text/plain": [
       "   age  monthly_income  serious_dlqin2yrs       est_pop\n",
       "0   45          9120.0                  1  21988.020408\n",
       "1   40          2600.0                  0  20644.224490\n",
       "2   38          3042.0                  0  19390.918367\n",
       "3   30          3300.0                  0  20163.346939\n",
       "4   49         63588.0                  0  21936.857143"
      ]
     },
     "execution_count": 17,
     "metadata": {},
     "output_type": "execute_result"
    }
   ],
   "source": [
    "\"\"\"\n",
    "To combine datasets, you can use the merge function. You'll need to specify the following:\n",
    "    - The data frames you'd like to merge (first 2 arguments)\n",
    "    - A strategy for dealing with missing values and/or multiple matches (\"how\")\n",
    "    - Criteria for which rows should be combined (\"on\")\n",
    "\n",
    "In the case below, we're going to merge our original dataset with the census data. We're using a \"left join\" \n",
    "strategy, which means our resulting dataset will contain all records from the original df variable, even if \n",
    "they didn't match up with anything in pop. We're going to join on age, meaning we will match up rows across \n",
    "datasets where the age is the same.\n",
    "\"\"\"\n",
    "cols = ['age', 'monthly_income', 'serious_dlqin2yrs']\n",
    "results = pd.merge(dataset[cols], pop, how = 'left', on = 'age')\n",
    "results.head()"
   ]
  },
  {
   "cell_type": "code",
   "execution_count": 18,
   "metadata": {},
   "outputs": [
    {
     "data": {
      "text/plain": [
       "False"
      ]
     },
     "execution_count": 18,
     "metadata": {},
     "output_type": "execute_result"
    }
   ],
   "source": [
    "len(results) > len(dataset) # This should be true since we did a \"left join\""
   ]
  }
 ],
 "metadata": {
  "kernelspec": {
   "display_name": "Python 3",
   "language": "python",
   "name": "python3"
  },
  "language_info": {
   "codemirror_mode": {
    "name": "ipython",
    "version": 3
   },
   "file_extension": ".py",
   "mimetype": "text/x-python",
   "name": "python",
   "nbconvert_exporter": "python",
   "pygments_lexer": "ipython3",
   "version": "3.6.2"
  }
 },
 "nbformat": 4,
 "nbformat_minor": 2
}
