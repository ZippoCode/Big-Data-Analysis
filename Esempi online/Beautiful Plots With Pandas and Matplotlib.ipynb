{
 "cells": [
  {
   "cell_type": "code",
   "execution_count": 1,
   "metadata": {
    "collapsed": true
   },
   "outputs": [],
   "source": [
    "# URL: https://datasciencelab.wordpress.com/2013/12/21/beautiful-plots-with-pandas-and-matplotlib/"
   ]
  },
  {
   "cell_type": "code",
   "execution_count": 2,
   "metadata": {
    "collapsed": true
   },
   "outputs": [],
   "source": [
    "\"\"\"\n",
    "Data visualization plays a crucial role in the communication of results from data analyses, and it should always \n",
    "help transmit insights in an honest and clear way. Recently, the highly recommendable blog Flowing Data posted a \n",
    "review of data visualization highlights during 2013, and at The Data Science Lab we felt like doing a bit of pretty \n",
    "plotting as well.\n",
    "\n",
    "For Python lovers, matplotlib is the library of choice when it comes to plotting. Quite conveniently, the data\n",
    "analysis library pandas comes equipped with useful wrappers around several matplotlib plotting routines, allowing \n",
    "for quick and handy plotting of data frames. Nice examples of plotting with pandas can be seen for instance in \n",
    "this ipython notebook. Still, for customized plots or not so typical visualizations, the panda wrappers need a \n",
    "bit of tweaking and playing with matplotlib’s inside machinery. If one is willing to devote a bit of time to \n",
    "google-ing and experimenting, very beautiful plots can emerge.\n",
    "\"\"\"\n",
    "# Import\n",
    "import pandas as pd\n",
    "import numpy as np\n",
    "import matplotlib.pyplot as plt\n",
    "import matplotlib as mpl\n",
    "from matplotlib.colors import LinearSegmentedColormap\n",
    "from matplotlib.lines import Line2D"
   ]
  },
  {
   "cell_type": "markdown",
   "metadata": {},
   "source": [
    "## Visualizing demographic data"
   ]
  },
  {
   "cell_type": "code",
   "execution_count": 3,
   "metadata": {},
   "outputs": [
    {
     "data": {
      "text/html": [
       "<div>\n",
       "<style>\n",
       "    .dataframe thead tr:only-child th {\n",
       "        text-align: right;\n",
       "    }\n",
       "\n",
       "    .dataframe thead th {\n",
       "        text-align: left;\n",
       "    }\n",
       "\n",
       "    .dataframe tbody tr th {\n",
       "        vertical-align: top;\n",
       "    }\n",
       "</style>\n",
       "<table border=\"1\" class=\"dataframe\">\n",
       "  <thead>\n",
       "    <tr style=\"text-align: right;\">\n",
       "      <th></th>\n",
       "      <th>extension</th>\n",
       "      <th>life expectancy</th>\n",
       "      <th>population</th>\n",
       "    </tr>\n",
       "  </thead>\n",
       "  <tbody>\n",
       "    <tr>\n",
       "      <th>Lithuania</th>\n",
       "      <td>65300</td>\n",
       "      <td>72.1</td>\n",
       "      <td>3.28</td>\n",
       "    </tr>\n",
       "    <tr>\n",
       "      <th>Latvia</th>\n",
       "      <td>64589</td>\n",
       "      <td>72.2</td>\n",
       "      <td>2.23</td>\n",
       "    </tr>\n",
       "    <tr>\n",
       "      <th>Bulgaria</th>\n",
       "      <td>110879</td>\n",
       "      <td>73.5</td>\n",
       "      <td>7.35</td>\n",
       "    </tr>\n",
       "    <tr>\n",
       "      <th>Romania</th>\n",
       "      <td>238391</td>\n",
       "      <td>73.8</td>\n",
       "      <td>21.30</td>\n",
       "    </tr>\n",
       "    <tr>\n",
       "      <th>Estonia</th>\n",
       "      <td>45228</td>\n",
       "      <td>74.4</td>\n",
       "      <td>1.34</td>\n",
       "    </tr>\n",
       "  </tbody>\n",
       "</table>\n",
       "</div>"
      ],
      "text/plain": [
       "           extension  life expectancy  population\n",
       "Lithuania      65300             72.1        3.28\n",
       "Latvia         64589             72.2        2.23\n",
       "Bulgaria      110879             73.5        7.35\n",
       "Romania       238391             73.8       21.30\n",
       "Estonia        45228             74.4        1.34"
      ]
     },
     "execution_count": 3,
     "metadata": {},
     "output_type": "execute_result"
    }
   ],
   "source": [
    "\"\"\"\n",
    "For this pre-Christmas data visualization table-top experiment we are going to use demographic data from \n",
    "countries in the European Union obtained from Wolfram|Alpha. Our data set contains information on population,\n",
    "extension and life expectancy in 24 European countries. We create a pandas data frame from three series that \n",
    "we simply construct from lists, setting the countries as index for each series, and consequently for the data \n",
    "frame.\n",
    "\"\"\"\n",
    "\n",
    "countries = ['France','Spain','Sweden','Germany','Finland','Poland','Italy',\n",
    "             'United Kingdom','Romania','Greece','Bulgaria','Hungary',\n",
    "             'Portugal','Austria','Czech Republic','Ireland','Lithuania','Latvia',\n",
    "             'Croatia','Slovakia','Estonia','Denmark','Netherlands','Belgium']\n",
    "extensions = [547030,504782,450295,357022,338145,312685,301340,243610,238391,\n",
    "              131940,110879,93028,92090,83871,78867,70273,65300,64589,56594,\n",
    "              49035,45228,43094,41543,30528]\n",
    "populations = [63.8,47,9.55,81.8,5.42,38.3,61.1,63.2,21.3,11.4,7.35,\n",
    "               9.93,10.7,8.44,10.6,4.63,3.28,2.23,4.38,5.49,1.34,5.61,\n",
    "               16.8,10.8]\n",
    "life_expectancies = [81.8,82.1,81.8,80.7,80.5,76.4,82.4,80.5,73.8,80.8,73.5,\n",
    "                    74.6,79.9,81.1,77.7,80.7,72.1,72.2,77,75.4,74.4,79.4,81,80.5]\n",
    "data = {'extension' : pd.Series(extensions, index=countries), \n",
    "        'population' : pd.Series(populations, index=countries),\n",
    "        'life expectancy' : pd.Series(life_expectancies, index=countries)}\n",
    "df = pd.DataFrame(data)\n",
    "df = df.sort_values('life expectancy', kind = 'quicksort')\n",
    "df.head()"
   ]
  },
  {
   "cell_type": "code",
   "execution_count": 4,
   "metadata": {},
   "outputs": [
    {
     "data": {
      "text/plain": [
       "\"\\n\\nfig, axes = plt.subplots(nrows = 3, ncols = 1)\\nfor i, c in enumerate(df.columns):\\n    \\n    # df[c] è la colonna\\n    # ax = axes[i] indica che ognuna delle tre colonne deve essere disposta in una diversa figura,\\n    # in particolare poiché cambia 'ax' vengono disposte una sotto l'altra\\n    \\n    df[c].plot(kind = 'bar', ax = axes[i], figsize = (12, 10), title = c)\\nplt.savefig('E01.png', bbox_inches = 'tight')\\n\""
      ]
     },
     "execution_count": 4,
     "metadata": {},
     "output_type": "execute_result"
    }
   ],
   "source": [
    "\"\"\"\n",
    "Now, thanks to the pandas plotting machinery, it is extremely straightforward to show the contents of this \n",
    "data frame by calling the pd.plot function. The code below generates a figure with three subplots \n",
    "displayed vertically, each of which shows a bar plot for a particular column of the data frame. \n",
    "The plots are automatically labelled with the column names of the data frame, and the whole procedure\n",
    "takes literally no time.\n",
    "\"\"\"\n",
    "\n",
    "#####################################ààà\n",
    "\"\"\"\n",
    "\n",
    "fig, axes = plt.subplots(nrows = 3, ncols = 1)\n",
    "for i, c in enumerate(df.columns):\n",
    "    \n",
    "    # df[c] è la colonna\n",
    "    # ax = axes[i] indica che ognuna delle tre colonne deve essere disposta in una diversa figura,\n",
    "    # in particolare poiché cambia 'ax' vengono disposte una sotto l'altra\n",
    "    \n",
    "    df[c].plot(kind = 'bar', ax = axes[i], figsize = (12, 10), title = c)\n",
    "plt.savefig('E01.png', bbox_inches = 'tight')\n",
    "\"\"\""
   ]
  },
  {
   "cell_type": "markdown",
   "metadata": {},
   "source": [
    "## Customization with matplotlib directives"
   ]
  },
  {
   "cell_type": "code",
   "execution_count": 5,
   "metadata": {
    "collapsed": true
   },
   "outputs": [],
   "source": [
    "\"\"\"\n",
    "While this is an acceptable plot for the first steps of data exploration, the figure is not really \n",
    "publication-ready. It also looks very much “academic” and lacks that subtle flair that infographics in \n",
    "mainstream media have. Over the next paragraphs we will turn this plot into a much more beautiful object \n",
    "by playing around with the options that matplotlib supplies.\n",
    "\n",
    "Let us first start by creating a figure and an axis object that will contain our subfigure:\n",
    "\"\"\"\n",
    "# Create a figure of given size\n",
    "fig = plt.figure(figsize = (16, 12))\n",
    "# Add a subplot\n",
    "ax = fig.add_subplot(111)\n",
    "# Set title\n",
    "ttl = 'Population, size and age expectancy in the European Union'"
   ]
  },
  {
   "cell_type": "code",
   "execution_count": 6,
   "metadata": {
    "collapsed": true
   },
   "outputs": [],
   "source": [
    "\"\"\"\n",
    "Colors are very important for data visualizations. By default, the matplotlib color palette offers solid hues,\n",
    "which can be softened by applying transparencies. Similarly, the default colorbars can be customized to match\n",
    "our taste (see below how one can define a custom-made color map with a gradient that softly changes from orange \n",
    "to gray-blue hues).\n",
    "\"\"\"\n",
    "# Set color transparency (0: transparent; 1: solid)\n",
    "a = 0.7\n",
    "# Create a colormap\n",
    "customcmap = [(x/24.0,  x/48.0, 0.05) for x in range(len(df))]"
   ]
  },
  {
   "cell_type": "code",
   "execution_count": 7,
   "metadata": {},
   "outputs": [
    {
     "data": {
      "text/plain": [
       "<matplotlib.axes._subplots.AxesSubplot at 0x7f770d0c0550>"
      ]
     },
     "execution_count": 7,
     "metadata": {},
     "output_type": "execute_result"
    }
   ],
   "source": [
    "\"\"\"\n",
    "The main plotting instruction in our figure uses the pandas plot wrapper. In the initialization options,\n",
    "we specify the type of plot (horizontal bar), the transparency, the color of the bars following the \n",
    "above-defined custom color map, the x-axis limits and the figure title. We also set the color of the bar\n",
    "borders to white for a cleaner look.\n",
    "\"\"\"\n",
    "# Plot the 'population' column as horizontal bar plot\n",
    "df['population'].plot(kind = 'barh', ax = ax, alpha = a, legend = False, color = customcmap, \n",
    "                     edgecolor = 'w', xlim = (0, max(df['population'])), title = ttl)"
   ]
  },
  {
   "cell_type": "code",
   "execution_count": 8,
   "metadata": {
    "collapsed": true
   },
   "outputs": [],
   "source": [
    "\"\"\"\n",
    "After this simple pandas plot directive, the figure already looks very promising. Note that, because we \n",
    "sorted the data frame by life expectancy and applied a gradient color map, the color of the different bars \n",
    "in itself carries information. We will explicitly label that information below when constructing a color bar.\n",
    "For now we want to remove the grid, frame and axes lines from our plot, as well as customize its title and x,y\n",
    "axes labels.\n",
    "\"\"\"\n",
    "# Remove grid lines (dotted lines inside plot)\n",
    "ax.grid(False)\n",
    "# Remove plot frame\n",
    "ax.set_frame_on(False)\n",
    "# Pandas trick: remove weird dotted line on axis\n",
    "##ax.lines[0].set_visible(False)\n",
    "\n",
    "# Customize title, set position, allow space on top of plot for title\n",
    "ax.set_title(ax.get_title(), fontsize = 26, alpha = a, ha = 'left')\n",
    "plt.subplots_adjust(top = 0.9)\n",
    "ax.title.set_position((0, 1.08))\n",
    "\n",
    "# Set x axis label on top of plot, set label text\n",
    "ax.xaxis.set_label_position('top')\n",
    "xlab = 'Population (in millions)'\n",
    "ax.set_xlabel(xlab, fontsize = 20, alpha = a, ha = 'left')\n",
    "ax.xaxis.set_label_coords(0, 1.04)\n",
    "\n",
    "# Position x tick labels on top\n",
    "ax.xaxis.tick_top() # Sposta la label delle x in alto\n",
    "# Remove tick lines in x and y axes\n",
    "ax.yaxis.set_ticks_position('none')\n",
    "ax.xaxis.set_ticks_position('none')\n",
    "\n",
    "# Customize x tick labels\n",
    "xticks = [5, 10, 20, 50, 80]\n",
    "ax.xaxis.set_ticks(xticks)\n",
    "ax.set_xticklabels(xticks, fontsize = 16, alpha = a)\n",
    "\n",
    "\n",
    "# Customize y tick labels\n",
    "yticks = [item.get_text() for item in ax.get_yticklabels()]\n",
    "ax.set_yticklabels(yticks, fontsize = 10, alpha = a)\n",
    "ax.yaxis.set_tick_params(pad = 12)"
   ]
  },
  {
   "cell_type": "code",
   "execution_count": 9,
   "metadata": {
    "collapsed": true
   },
   "outputs": [],
   "source": [
    "\"\"\"\n",
    "So far, the lenghts of our horizontal bars display the population (in millions) of the EU countries. \n",
    "All bars have the same height (which is set to 50% of the total space between bars by default by pandas). \n",
    "An interesting idea is to use the height of the bars to display further data. If we could made the bar height\n",
    "dependent on, say, the countries’ extension, we would be adding an supplementary piece of information to the\n",
    "plot. This is possible in matplotlib by accessing the elements that contain the bars and assigning them a\n",
    "specific height in a for loop. Each bar is an element of the class Rectangle, and all the corresponding class \n",
    "methods can be applied to it. For assigning a given height according to each country’s extension, we code a \n",
    "simple linear interpolation and create a lambda function to apply it.\n",
    "\"\"\"\n",
    "# Set bar height depedent on country extension\n",
    "# Set min and max bar thicknewss (from 0 and 1)\n",
    "hmin, hmax = 0.3, 0.9\n",
    "xmin, xmax = min(df['extension']), max(df['extension'])\n",
    "# Function that interpolates linearly between hmin and hmax\n",
    "f = lambda x: hmin + (hmax - hmin) * (x - xmin) / (xmax - xmin)\n",
    "# Make array of heights\n",
    "hs = [f(x) for x in df['extension']]\n",
    "\n",
    "# Iterate over bars\n",
    "for container in ax.containers:\n",
    "    # Each bar has a Rectangle element as child\n",
    "    for i, child in enumerate(container.get_children()):\n",
    "       # Reset the lower left point of each bar so that bar is centered\n",
    "        child.set_y(child.get_y() - 0.125 + 0.5 - hs[i] / 2)\n",
    "        # Attribute height to each Rectangle according to country's size\n",
    "        plt.setp(child, height = hs[i])"
   ]
  },
  {
   "cell_type": "code",
   "execution_count": 10,
   "metadata": {},
   "outputs": [
    {
     "data": {
      "text/plain": [
       "[[None, None], [None, None], [None, None]]"
      ]
     },
     "execution_count": 10,
     "metadata": {},
     "output_type": "execute_result"
    }
   ],
   "source": [
    "\"\"\"\n",
    "Having added this “dimension” to the plot, we need a way of labelling the information so that the countries’ \n",
    "extension is understandable. A legend would be the ideal solution, but since our plotting directive was set to\n",
    "display the column ['population'], we can not use the default. We can construct a “fake” legend though, and \n",
    "custom-made its handles to roughly match the height of the bars. We position the legend in the lower right \n",
    "part of our plot.\n",
    "\"\"\"\n",
    "# Legend\n",
    "# Create fake labels for legend\n",
    "l1 = Line2D([], [], linewidth = 6, color = 'k', alpha = a)\n",
    "l2 = Line2D([], [], linewidth = 12, color = 'k', alpha = a)\n",
    "l3 = Line2D([], [], linewidth = 22, color = 'k', alpha = a)\n",
    "# Set three legend labels to be min, mean and max of coutries extensions\n",
    "# (rounded up to 10k km2)\n",
    "rnd = 10000\n",
    "labels =[str(int(round(l / rnd) * rnd )) for l in (min(df['extension']), np.mean(df['extension']), max(df['extension']))]\n",
    "# Position legend in lower right part\n",
    "# Set ncol = 3 for horizontally expanding legend\n",
    "leg = ax.legend([l1, l2, l3], labels, ncol = 3, frameon = False, fontsize = 16, \n",
    "               bbox_to_anchor = [1.1, 0.11], handlelength = 2,\n",
    "               handletextpad = 1, columnspacing = 2, title = 'Size (in km2)')\n",
    "\n",
    "# Customize legend title\n",
    "# Set position to increase space between legend and labels\n",
    "plt.setp(leg.get_title(), fontsize = 20, alpha = a)\n",
    "leg.get_title().set_position((0, 10))\n",
    "# Customize transparency for legend labels\n",
    "[plt.setp(label, alpha = a) for label in leg.get_texts()]"
   ]
  },
  {
   "cell_type": "code",
   "execution_count": 11,
   "metadata": {},
   "outputs": [],
   "source": [
    "\"\"\"\n",
    "Finally, there is another piece of information in the plot that needs to be labelled, and that \n",
    "is the color map indicating the average life expectancy in the EU countries. Since we used a \n",
    "custom-made color map, the regular call to plt.colorbar() would not work. We need to create a \n",
    "LinearSegmentedColormap instead and “trick” matplotlib to display it as a colorbar. Then we can use \n",
    "the usual customization methods from colorbar to set fonts, transparency, position and size of the diverse \n",
    "elements in the color legend.\n",
    "\"\"\"\n",
    "# Create a fake colorbar\n",
    "ctb = LinearSegmentedColormap.from_list('custombar', customcmap, N = 2048)\n",
    "# Trick from http://stackoverflow.com/questions/8342549/\n",
    "# matplotlib-add-colorbar-to-a-sequence-of-line-plots\n",
    "sm = plt.cm.ScalarMappable(cmap = ctb, norm = mpl.colors.Normalize(vmin = 72, vmax = 84))\n",
    "# Fake up the array of the scalar mappable\n",
    "sm._A = []\n",
    "\n",
    "# Sel colorbar, aspect ratio\n",
    "cbar = plt.colorbar(sm, alpha = 0.05, aspect =16, shrink = 0.4)\n",
    "cbar.solids.set_edgecolor('face')\n",
    "# Remove colorbar container frame\n",
    "cbar.outline.set_visible(False)\n",
    "# Fontsize for colorbar ticklabels\n",
    "cbar.ax.tick_params(labelsize = 16)\n",
    "# Customize colorbar ticklabels\n",
    "mytks = range(72, 86, 2)\n",
    "cbar.ax.set_yticklabels([str(a) for a in mytks], alpha=a)\n",
    " \n",
    "# Colorbar label, customize fontsize and distance to colorbar\n",
    "cbar.set_label('Age expectancy (in years)', alpha=a, \n",
    "               rotation=270, fontsize=20, labelpad=20)\n",
    "# Remove color bar tick lines, while keeping the tick labels\n",
    "cbarytks = plt.getp(cbar.ax.axes, 'yticklines')\n",
    "plt.setp(cbarytks, visible=False)\n",
    "\n",
    "# Save figure in png with tight bounding box\n",
    "plt.savefig('EU.png', bbox_inches='tight', dpi=300)"
   ]
  },
  {
   "cell_type": "code",
   "execution_count": null,
   "metadata": {
    "collapsed": true
   },
   "outputs": [],
   "source": []
  }
 ],
 "metadata": {
  "kernelspec": {
   "display_name": "Python 3",
   "language": "python",
   "name": "python3"
  },
  "language_info": {
   "codemirror_mode": {
    "name": "ipython",
    "version": 3
   },
   "file_extension": ".py",
   "mimetype": "text/x-python",
   "name": "python",
   "nbconvert_exporter": "python",
   "pygments_lexer": "ipython3",
   "version": "3.6.2"
  }
 },
 "nbformat": 4,
 "nbformat_minor": 2
}
